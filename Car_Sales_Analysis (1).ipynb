{
  "nbformat": 4,
  "nbformat_minor": 0,
  "metadata": {
    "colab": {
      "provenance": []
    },
    "kernelspec": {
      "name": "ir",
      "display_name": "R"
    },
    "language_info": {
      "name": "R"
    }
  },
  "cells": [
    {
      "cell_type": "markdown",
      "source": [
        "Car Sales Analysis using R\n"
      ],
      "metadata": {
        "id": "mMNXBuUaCFra"
      }
    },
    {
      "cell_type": "code",
      "execution_count": null,
      "metadata": {
        "id": "jGw59aIaL8aT"
      },
      "outputs": [],
      "source": [
        "# Import Requried Libreries\n",
        "install.packages(\"ggplot2\")\n",
        "install.packages(\"dplyr\")\n",
        "library(dplyr)\n",
        "library(ggplot2)"
      ]
    },
    {
      "cell_type": "markdown",
      "source": [
        "Exploratory Data Analysis"
      ],
      "metadata": {
        "id": "c_xNUmtNB4xj"
      }
    },
    {
      "cell_type": "markdown",
      "source": [],
      "metadata": {
        "id": "bU1SDo5q80qf"
      }
    },
    {
      "cell_type": "code",
      "source": [
        "# Read Data\n",
        "Car=read.csv(\"/content/car_sales.csv\")\n",
        "head(Car)"
      ],
      "metadata": {
        "colab": {
          "base_uri": "https://localhost:8080/",
          "height": 306
        },
        "id": "FCpZaH7eMmu8",
        "outputId": "fdc36621-0d43-4a1c-cde2-256df87e86b5"
      },
      "execution_count": null,
      "outputs": [
        {
          "output_type": "display_data",
          "data": {
            "text/html": [
              "<table class=\"dataframe\">\n",
              "<caption>A data.frame: 6 × 16</caption>\n",
              "<thead>\n",
              "\t<tr><th></th><th scope=col>Manufacturer</th><th scope=col>Model</th><th scope=col>Sales_in_thousands</th><th scope=col>X__year_resale_value</th><th scope=col>Vehicle_type</th><th scope=col>Price_in_thousands</th><th scope=col>Engine_size</th><th scope=col>Horsepower</th><th scope=col>Wheelbase</th><th scope=col>Width</th><th scope=col>Length</th><th scope=col>Curb_weight</th><th scope=col>Fuel_capacity</th><th scope=col>Fuel_efficiency</th><th scope=col>Latest_Launch</th><th scope=col>Power_perf_factor</th></tr>\n",
              "\t<tr><th></th><th scope=col>&lt;chr&gt;</th><th scope=col>&lt;chr&gt;</th><th scope=col>&lt;dbl&gt;</th><th scope=col>&lt;dbl&gt;</th><th scope=col>&lt;chr&gt;</th><th scope=col>&lt;dbl&gt;</th><th scope=col>&lt;dbl&gt;</th><th scope=col>&lt;int&gt;</th><th scope=col>&lt;dbl&gt;</th><th scope=col>&lt;dbl&gt;</th><th scope=col>&lt;dbl&gt;</th><th scope=col>&lt;dbl&gt;</th><th scope=col>&lt;dbl&gt;</th><th scope=col>&lt;int&gt;</th><th scope=col>&lt;chr&gt;</th><th scope=col>&lt;dbl&gt;</th></tr>\n",
              "</thead>\n",
              "<tbody>\n",
              "\t<tr><th scope=row>1</th><td>Acura</td><td>Integra</td><td>16.919</td><td>16.360</td><td>Passenger</td><td>21.50</td><td>1.8</td><td>140</td><td>101.2</td><td>67.3</td><td>172.4</td><td>2.639</td><td>13.2</td><td>28</td><td>02-02-2012</td><td>58.28015</td></tr>\n",
              "\t<tr><th scope=row>2</th><td>Acura</td><td>TL     </td><td>39.384</td><td>19.875</td><td>Passenger</td><td>28.40</td><td>3.2</td><td>225</td><td>108.1</td><td>70.3</td><td>192.9</td><td>3.517</td><td>17.2</td><td>25</td><td>06-03-2011</td><td>91.37078</td></tr>\n",
              "\t<tr><th scope=row>3</th><td>Acura</td><td>CL     </td><td>14.114</td><td>18.225</td><td>Passenger</td><td>   NA</td><td>3.2</td><td>225</td><td>106.9</td><td>70.6</td><td>192.0</td><td>3.470</td><td>17.2</td><td>26</td><td>01-04-2012</td><td>      NA</td></tr>\n",
              "\t<tr><th scope=row>4</th><td>Acura</td><td>RL     </td><td> 8.588</td><td>29.725</td><td>Passenger</td><td>42.00</td><td>3.5</td><td>210</td><td>114.6</td><td>71.4</td><td>196.6</td><td>3.850</td><td>18.0</td><td>22</td><td>03-10-2011</td><td>91.38978</td></tr>\n",
              "\t<tr><th scope=row>5</th><td>Audi </td><td>A4     </td><td>20.397</td><td>22.255</td><td>Passenger</td><td>23.99</td><td>1.8</td><td>150</td><td>102.6</td><td>68.2</td><td>178.0</td><td>2.998</td><td>16.4</td><td>27</td><td>10-08-2011</td><td>62.77764</td></tr>\n",
              "\t<tr><th scope=row>6</th><td>Audi </td><td>A6     </td><td>18.780</td><td>23.555</td><td>Passenger</td><td>33.95</td><td>2.8</td><td>200</td><td>108.7</td><td>76.1</td><td>192.0</td><td>3.561</td><td>18.5</td><td>22</td><td>08-09-2011</td><td>84.56511</td></tr>\n",
              "</tbody>\n",
              "</table>\n"
            ],
            "text/markdown": "\nA data.frame: 6 × 16\n\n| <!--/--> | Manufacturer &lt;chr&gt; | Model &lt;chr&gt; | Sales_in_thousands &lt;dbl&gt; | X__year_resale_value &lt;dbl&gt; | Vehicle_type &lt;chr&gt; | Price_in_thousands &lt;dbl&gt; | Engine_size &lt;dbl&gt; | Horsepower &lt;int&gt; | Wheelbase &lt;dbl&gt; | Width &lt;dbl&gt; | Length &lt;dbl&gt; | Curb_weight &lt;dbl&gt; | Fuel_capacity &lt;dbl&gt; | Fuel_efficiency &lt;int&gt; | Latest_Launch &lt;chr&gt; | Power_perf_factor &lt;dbl&gt; |\n|---|---|---|---|---|---|---|---|---|---|---|---|---|---|---|---|---|\n| 1 | Acura | Integra | 16.919 | 16.360 | Passenger | 21.50 | 1.8 | 140 | 101.2 | 67.3 | 172.4 | 2.639 | 13.2 | 28 | 02-02-2012 | 58.28015 |\n| 2 | Acura | TL      | 39.384 | 19.875 | Passenger | 28.40 | 3.2 | 225 | 108.1 | 70.3 | 192.9 | 3.517 | 17.2 | 25 | 06-03-2011 | 91.37078 |\n| 3 | Acura | CL      | 14.114 | 18.225 | Passenger |    NA | 3.2 | 225 | 106.9 | 70.6 | 192.0 | 3.470 | 17.2 | 26 | 01-04-2012 |       NA |\n| 4 | Acura | RL      |  8.588 | 29.725 | Passenger | 42.00 | 3.5 | 210 | 114.6 | 71.4 | 196.6 | 3.850 | 18.0 | 22 | 03-10-2011 | 91.38978 |\n| 5 | Audi  | A4      | 20.397 | 22.255 | Passenger | 23.99 | 1.8 | 150 | 102.6 | 68.2 | 178.0 | 2.998 | 16.4 | 27 | 10-08-2011 | 62.77764 |\n| 6 | Audi  | A6      | 18.780 | 23.555 | Passenger | 33.95 | 2.8 | 200 | 108.7 | 76.1 | 192.0 | 3.561 | 18.5 | 22 | 08-09-2011 | 84.56511 |\n\n",
            "text/latex": "A data.frame: 6 × 16\n\\begin{tabular}{r|llllllllllllllll}\n  & Manufacturer & Model & Sales\\_in\\_thousands & X\\_\\_year\\_resale\\_value & Vehicle\\_type & Price\\_in\\_thousands & Engine\\_size & Horsepower & Wheelbase & Width & Length & Curb\\_weight & Fuel\\_capacity & Fuel\\_efficiency & Latest\\_Launch & Power\\_perf\\_factor\\\\\n  & <chr> & <chr> & <dbl> & <dbl> & <chr> & <dbl> & <dbl> & <int> & <dbl> & <dbl> & <dbl> & <dbl> & <dbl> & <int> & <chr> & <dbl>\\\\\n\\hline\n\t1 & Acura & Integra & 16.919 & 16.360 & Passenger & 21.50 & 1.8 & 140 & 101.2 & 67.3 & 172.4 & 2.639 & 13.2 & 28 & 02-02-2012 & 58.28015\\\\\n\t2 & Acura & TL      & 39.384 & 19.875 & Passenger & 28.40 & 3.2 & 225 & 108.1 & 70.3 & 192.9 & 3.517 & 17.2 & 25 & 06-03-2011 & 91.37078\\\\\n\t3 & Acura & CL      & 14.114 & 18.225 & Passenger &    NA & 3.2 & 225 & 106.9 & 70.6 & 192.0 & 3.470 & 17.2 & 26 & 01-04-2012 &       NA\\\\\n\t4 & Acura & RL      &  8.588 & 29.725 & Passenger & 42.00 & 3.5 & 210 & 114.6 & 71.4 & 196.6 & 3.850 & 18.0 & 22 & 03-10-2011 & 91.38978\\\\\n\t5 & Audi  & A4      & 20.397 & 22.255 & Passenger & 23.99 & 1.8 & 150 & 102.6 & 68.2 & 178.0 & 2.998 & 16.4 & 27 & 10-08-2011 & 62.77764\\\\\n\t6 & Audi  & A6      & 18.780 & 23.555 & Passenger & 33.95 & 2.8 & 200 & 108.7 & 76.1 & 192.0 & 3.561 & 18.5 & 22 & 08-09-2011 & 84.56511\\\\\n\\end{tabular}\n",
            "text/plain": [
              "  Manufacturer Model   Sales_in_thousands X__year_resale_value Vehicle_type\n",
              "1 Acura        Integra 16.919             16.360               Passenger   \n",
              "2 Acura        TL      39.384             19.875               Passenger   \n",
              "3 Acura        CL      14.114             18.225               Passenger   \n",
              "4 Acura        RL       8.588             29.725               Passenger   \n",
              "5 Audi         A4      20.397             22.255               Passenger   \n",
              "6 Audi         A6      18.780             23.555               Passenger   \n",
              "  Price_in_thousands Engine_size Horsepower Wheelbase Width Length Curb_weight\n",
              "1 21.50              1.8         140        101.2     67.3  172.4  2.639      \n",
              "2 28.40              3.2         225        108.1     70.3  192.9  3.517      \n",
              "3    NA              3.2         225        106.9     70.6  192.0  3.470      \n",
              "4 42.00              3.5         210        114.6     71.4  196.6  3.850      \n",
              "5 23.99              1.8         150        102.6     68.2  178.0  2.998      \n",
              "6 33.95              2.8         200        108.7     76.1  192.0  3.561      \n",
              "  Fuel_capacity Fuel_efficiency Latest_Launch Power_perf_factor\n",
              "1 13.2          28              02-02-2012    58.28015         \n",
              "2 17.2          25              06-03-2011    91.37078         \n",
              "3 17.2          26              01-04-2012          NA         \n",
              "4 18.0          22              03-10-2011    91.38978         \n",
              "5 16.4          27              10-08-2011    62.77764         \n",
              "6 18.5          22              08-09-2011    84.56511         "
            ]
          },
          "metadata": {}
        }
      ]
    },
    {
      "cell_type": "code",
      "source": [
        "head(is.na(Car),5)"
      ],
      "metadata": {
        "colab": {
          "base_uri": "https://localhost:8080/",
          "height": 244
        },
        "id": "Lkcw-YxiM-_z",
        "outputId": "092df04f-30b2-4441-bb9d-3243f5754687"
      },
      "execution_count": null,
      "outputs": [
        {
          "output_type": "display_data",
          "data": {
            "text/html": [
              "<table class=\"dataframe\">\n",
              "<caption>A matrix: 5 × 16 of type lgl</caption>\n",
              "<thead>\n",
              "\t<tr><th scope=col>Manufacturer</th><th scope=col>Model</th><th scope=col>Sales_in_thousands</th><th scope=col>X__year_resale_value</th><th scope=col>Vehicle_type</th><th scope=col>Price_in_thousands</th><th scope=col>Engine_size</th><th scope=col>Horsepower</th><th scope=col>Wheelbase</th><th scope=col>Width</th><th scope=col>Length</th><th scope=col>Curb_weight</th><th scope=col>Fuel_capacity</th><th scope=col>Fuel_efficiency</th><th scope=col>Latest_Launch</th><th scope=col>Power_perf_factor</th></tr>\n",
              "</thead>\n",
              "<tbody>\n",
              "\t<tr><td>FALSE</td><td>FALSE</td><td>FALSE</td><td>FALSE</td><td>FALSE</td><td>FALSE</td><td>FALSE</td><td>FALSE</td><td>FALSE</td><td>FALSE</td><td>FALSE</td><td>FALSE</td><td>FALSE</td><td>FALSE</td><td>FALSE</td><td>FALSE</td></tr>\n",
              "\t<tr><td>FALSE</td><td>FALSE</td><td>FALSE</td><td>FALSE</td><td>FALSE</td><td>FALSE</td><td>FALSE</td><td>FALSE</td><td>FALSE</td><td>FALSE</td><td>FALSE</td><td>FALSE</td><td>FALSE</td><td>FALSE</td><td>FALSE</td><td>FALSE</td></tr>\n",
              "\t<tr><td>FALSE</td><td>FALSE</td><td>FALSE</td><td>FALSE</td><td>FALSE</td><td> TRUE</td><td>FALSE</td><td>FALSE</td><td>FALSE</td><td>FALSE</td><td>FALSE</td><td>FALSE</td><td>FALSE</td><td>FALSE</td><td>FALSE</td><td> TRUE</td></tr>\n",
              "\t<tr><td>FALSE</td><td>FALSE</td><td>FALSE</td><td>FALSE</td><td>FALSE</td><td>FALSE</td><td>FALSE</td><td>FALSE</td><td>FALSE</td><td>FALSE</td><td>FALSE</td><td>FALSE</td><td>FALSE</td><td>FALSE</td><td>FALSE</td><td>FALSE</td></tr>\n",
              "\t<tr><td>FALSE</td><td>FALSE</td><td>FALSE</td><td>FALSE</td><td>FALSE</td><td>FALSE</td><td>FALSE</td><td>FALSE</td><td>FALSE</td><td>FALSE</td><td>FALSE</td><td>FALSE</td><td>FALSE</td><td>FALSE</td><td>FALSE</td><td>FALSE</td></tr>\n",
              "</tbody>\n",
              "</table>\n"
            ],
            "text/markdown": "\nA matrix: 5 × 16 of type lgl\n\n| Manufacturer | Model | Sales_in_thousands | X__year_resale_value | Vehicle_type | Price_in_thousands | Engine_size | Horsepower | Wheelbase | Width | Length | Curb_weight | Fuel_capacity | Fuel_efficiency | Latest_Launch | Power_perf_factor |\n|---|---|---|---|---|---|---|---|---|---|---|---|---|---|---|---|\n| FALSE | FALSE | FALSE | FALSE | FALSE | FALSE | FALSE | FALSE | FALSE | FALSE | FALSE | FALSE | FALSE | FALSE | FALSE | FALSE |\n| FALSE | FALSE | FALSE | FALSE | FALSE | FALSE | FALSE | FALSE | FALSE | FALSE | FALSE | FALSE | FALSE | FALSE | FALSE | FALSE |\n| FALSE | FALSE | FALSE | FALSE | FALSE |  TRUE | FALSE | FALSE | FALSE | FALSE | FALSE | FALSE | FALSE | FALSE | FALSE |  TRUE |\n| FALSE | FALSE | FALSE | FALSE | FALSE | FALSE | FALSE | FALSE | FALSE | FALSE | FALSE | FALSE | FALSE | FALSE | FALSE | FALSE |\n| FALSE | FALSE | FALSE | FALSE | FALSE | FALSE | FALSE | FALSE | FALSE | FALSE | FALSE | FALSE | FALSE | FALSE | FALSE | FALSE |\n\n",
            "text/latex": "A matrix: 5 × 16 of type lgl\n\\begin{tabular}{llllllllllllllll}\n Manufacturer & Model & Sales\\_in\\_thousands & X\\_\\_year\\_resale\\_value & Vehicle\\_type & Price\\_in\\_thousands & Engine\\_size & Horsepower & Wheelbase & Width & Length & Curb\\_weight & Fuel\\_capacity & Fuel\\_efficiency & Latest\\_Launch & Power\\_perf\\_factor\\\\\n\\hline\n\t FALSE & FALSE & FALSE & FALSE & FALSE & FALSE & FALSE & FALSE & FALSE & FALSE & FALSE & FALSE & FALSE & FALSE & FALSE & FALSE\\\\\n\t FALSE & FALSE & FALSE & FALSE & FALSE & FALSE & FALSE & FALSE & FALSE & FALSE & FALSE & FALSE & FALSE & FALSE & FALSE & FALSE\\\\\n\t FALSE & FALSE & FALSE & FALSE & FALSE &  TRUE & FALSE & FALSE & FALSE & FALSE & FALSE & FALSE & FALSE & FALSE & FALSE &  TRUE\\\\\n\t FALSE & FALSE & FALSE & FALSE & FALSE & FALSE & FALSE & FALSE & FALSE & FALSE & FALSE & FALSE & FALSE & FALSE & FALSE & FALSE\\\\\n\t FALSE & FALSE & FALSE & FALSE & FALSE & FALSE & FALSE & FALSE & FALSE & FALSE & FALSE & FALSE & FALSE & FALSE & FALSE & FALSE\\\\\n\\end{tabular}\n",
            "text/plain": [
              "     Manufacturer Model Sales_in_thousands X__year_resale_value Vehicle_type\n",
              "[1,] FALSE        FALSE FALSE              FALSE                FALSE       \n",
              "[2,] FALSE        FALSE FALSE              FALSE                FALSE       \n",
              "[3,] FALSE        FALSE FALSE              FALSE                FALSE       \n",
              "[4,] FALSE        FALSE FALSE              FALSE                FALSE       \n",
              "[5,] FALSE        FALSE FALSE              FALSE                FALSE       \n",
              "     Price_in_thousands Engine_size Horsepower Wheelbase Width Length\n",
              "[1,] FALSE              FALSE       FALSE      FALSE     FALSE FALSE \n",
              "[2,] FALSE              FALSE       FALSE      FALSE     FALSE FALSE \n",
              "[3,]  TRUE              FALSE       FALSE      FALSE     FALSE FALSE \n",
              "[4,] FALSE              FALSE       FALSE      FALSE     FALSE FALSE \n",
              "[5,] FALSE              FALSE       FALSE      FALSE     FALSE FALSE \n",
              "     Curb_weight Fuel_capacity Fuel_efficiency Latest_Launch Power_perf_factor\n",
              "[1,] FALSE       FALSE         FALSE           FALSE         FALSE            \n",
              "[2,] FALSE       FALSE         FALSE           FALSE         FALSE            \n",
              "[3,] FALSE       FALSE         FALSE           FALSE          TRUE            \n",
              "[4,] FALSE       FALSE         FALSE           FALSE         FALSE            \n",
              "[5,] FALSE       FALSE         FALSE           FALSE         FALSE            "
            ]
          },
          "metadata": {}
        }
      ]
    },
    {
      "cell_type": "code",
      "source": [
        "# Remove NULL's\n",
        "car=na.omit(Car)"
      ],
      "metadata": {
        "id": "xf-M7QDvNRgX"
      },
      "execution_count": null,
      "outputs": []
    },
    {
      "cell_type": "code",
      "source": [
        "car"
      ],
      "metadata": {
        "colab": {
          "base_uri": "https://localhost:8080/",
          "height": 1000
        },
        "id": "_hu1_pT1Ns3x",
        "outputId": "bb95f454-cb97-458b-85a8-7b8b2896b9f6"
      },
      "execution_count": null,
      "outputs": [
        {
          "output_type": "display_data",
          "data": {
            "text/html": [
              "<table class=\"dataframe\">\n",
              "<caption>A data.frame: 117 × 16</caption>\n",
              "<thead>\n",
              "\t<tr><th></th><th scope=col>Manufacturer</th><th scope=col>Model</th><th scope=col>Sales_in_thousands</th><th scope=col>X__year_resale_value</th><th scope=col>Vehicle_type</th><th scope=col>Price_in_thousands</th><th scope=col>Engine_size</th><th scope=col>Horsepower</th><th scope=col>Wheelbase</th><th scope=col>Width</th><th scope=col>Length</th><th scope=col>Curb_weight</th><th scope=col>Fuel_capacity</th><th scope=col>Fuel_efficiency</th><th scope=col>Latest_Launch</th><th scope=col>Power_perf_factor</th></tr>\n",
              "\t<tr><th></th><th scope=col>&lt;chr&gt;</th><th scope=col>&lt;chr&gt;</th><th scope=col>&lt;dbl&gt;</th><th scope=col>&lt;dbl&gt;</th><th scope=col>&lt;chr&gt;</th><th scope=col>&lt;dbl&gt;</th><th scope=col>&lt;dbl&gt;</th><th scope=col>&lt;int&gt;</th><th scope=col>&lt;dbl&gt;</th><th scope=col>&lt;dbl&gt;</th><th scope=col>&lt;dbl&gt;</th><th scope=col>&lt;dbl&gt;</th><th scope=col>&lt;dbl&gt;</th><th scope=col>&lt;int&gt;</th><th scope=col>&lt;chr&gt;</th><th scope=col>&lt;dbl&gt;</th></tr>\n",
              "</thead>\n",
              "<tbody>\n",
              "\t<tr><th scope=row>1</th><td>Acura    </td><td>Integra      </td><td> 16.919</td><td>16.360</td><td>Passenger</td><td>21.500</td><td>1.8</td><td>140</td><td>101.2</td><td>67.3</td><td>172.4</td><td>2.639</td><td>13.2</td><td>28</td><td>02-02-2012</td><td> 58.28015</td></tr>\n",
              "\t<tr><th scope=row>2</th><td>Acura    </td><td>TL           </td><td> 39.384</td><td>19.875</td><td>Passenger</td><td>28.400</td><td>3.2</td><td>225</td><td>108.1</td><td>70.3</td><td>192.9</td><td>3.517</td><td>17.2</td><td>25</td><td>06-03-2011</td><td> 91.37078</td></tr>\n",
              "\t<tr><th scope=row>4</th><td>Acura    </td><td>RL           </td><td>  8.588</td><td>29.725</td><td>Passenger</td><td>42.000</td><td>3.5</td><td>210</td><td>114.6</td><td>71.4</td><td>196.6</td><td>3.850</td><td>18.0</td><td>22</td><td>03-10-2011</td><td> 91.38978</td></tr>\n",
              "\t<tr><th scope=row>5</th><td>Audi     </td><td>A4           </td><td> 20.397</td><td>22.255</td><td>Passenger</td><td>23.990</td><td>1.8</td><td>150</td><td>102.6</td><td>68.2</td><td>178.0</td><td>2.998</td><td>16.4</td><td>27</td><td>10-08-2011</td><td> 62.77764</td></tr>\n",
              "\t<tr><th scope=row>6</th><td>Audi     </td><td>A6           </td><td> 18.780</td><td>23.555</td><td>Passenger</td><td>33.950</td><td>2.8</td><td>200</td><td>108.7</td><td>76.1</td><td>192.0</td><td>3.561</td><td>18.5</td><td>22</td><td>08-09-2011</td><td> 84.56511</td></tr>\n",
              "\t<tr><th scope=row>7</th><td>Audi     </td><td>A8           </td><td>  1.380</td><td>39.000</td><td>Passenger</td><td>62.000</td><td>4.2</td><td>310</td><td>113.0</td><td>74.0</td><td>198.2</td><td>3.902</td><td>23.7</td><td>21</td><td>2/27/2012 </td><td>134.65686</td></tr>\n",
              "\t<tr><th scope=row>9</th><td>BMW      </td><td>328i         </td><td>  9.231</td><td>28.675</td><td>Passenger</td><td>33.400</td><td>2.8</td><td>193</td><td>107.3</td><td>68.5</td><td>176.0</td><td>3.197</td><td>16.6</td><td>24</td><td>1/29/2012 </td><td> 81.87707</td></tr>\n",
              "\t<tr><th scope=row>10</th><td>BMW      </td><td>528i         </td><td> 17.527</td><td>36.125</td><td>Passenger</td><td>38.900</td><td>2.8</td><td>193</td><td>111.4</td><td>70.9</td><td>188.0</td><td>3.472</td><td>18.5</td><td>25</td><td>04-04-2011</td><td> 83.99872</td></tr>\n",
              "\t<tr><th scope=row>11</th><td>Buick    </td><td>Century      </td><td> 91.561</td><td>12.475</td><td>Passenger</td><td>21.975</td><td>3.1</td><td>175</td><td>109.0</td><td>72.7</td><td>194.6</td><td>3.368</td><td>17.5</td><td>25</td><td>11-02-2011</td><td> 71.18145</td></tr>\n",
              "\t<tr><th scope=row>12</th><td>Buick    </td><td>Regal        </td><td> 39.350</td><td>13.740</td><td>Passenger</td><td>25.300</td><td>3.8</td><td>240</td><td>109.0</td><td>72.7</td><td>196.2</td><td>3.543</td><td>17.5</td><td>23</td><td>09-03-2011</td><td> 95.63670</td></tr>\n",
              "\t<tr><th scope=row>13</th><td>Buick    </td><td>Park Avenue  </td><td> 27.851</td><td>20.190</td><td>Passenger</td><td>31.965</td><td>3.8</td><td>205</td><td>113.8</td><td>74.7</td><td>206.8</td><td>3.778</td><td>18.5</td><td>24</td><td>3/23/2012 </td><td> 85.82841</td></tr>\n",
              "\t<tr><th scope=row>14</th><td>Buick    </td><td>LeSabre      </td><td> 83.257</td><td>13.360</td><td>Passenger</td><td>27.885</td><td>3.8</td><td>205</td><td>112.2</td><td>73.5</td><td>200.0</td><td>3.591</td><td>17.5</td><td>25</td><td>7/23/2011 </td><td> 84.25453</td></tr>\n",
              "\t<tr><th scope=row>15</th><td>Cadillac </td><td>DeVille      </td><td> 63.729</td><td>22.525</td><td>Passenger</td><td>39.895</td><td>4.6</td><td>275</td><td>115.3</td><td>74.5</td><td>207.2</td><td>3.978</td><td>18.5</td><td>22</td><td>2/23/2012 </td><td>113.85460</td></tr>\n",
              "\t<tr><th scope=row>17</th><td>Cadillac </td><td>Eldorado     </td><td>  6.536</td><td>25.725</td><td>Passenger</td><td>39.665</td><td>4.6</td><td>275</td><td>108.0</td><td>75.5</td><td>200.6</td><td>3.843</td><td>19.0</td><td>22</td><td>11/27/2011</td><td>113.76587</td></tr>\n",
              "\t<tr><th scope=row>18</th><td>Cadillac </td><td>Catera       </td><td> 11.185</td><td>18.225</td><td>Passenger</td><td>31.010</td><td>3.0</td><td>200</td><td>107.4</td><td>70.3</td><td>194.8</td><td>3.770</td><td>18.0</td><td>22</td><td>9/28/2011 </td><td> 83.48309</td></tr>\n",
              "\t<tr><th scope=row>20</th><td>Chevrolet</td><td>Cavalier     </td><td>145.519</td><td> 9.250</td><td>Passenger</td><td>13.260</td><td>2.2</td><td>115</td><td>104.1</td><td>67.9</td><td>180.9</td><td>2.676</td><td>14.3</td><td>27</td><td>8/17/2011 </td><td> 46.36335</td></tr>\n",
              "\t<tr><th scope=row>21</th><td>Chevrolet</td><td>Malibu       </td><td>135.126</td><td>11.225</td><td>Passenger</td><td>16.535</td><td>3.1</td><td>170</td><td>107.0</td><td>69.4</td><td>190.4</td><td>3.051</td><td>15.0</td><td>25</td><td>3/19/2012 </td><td> 67.31446</td></tr>\n",
              "\t<tr><th scope=row>22</th><td>Chevrolet</td><td>Lumina       </td><td> 24.629</td><td>10.310</td><td>Passenger</td><td>18.890</td><td>3.1</td><td>175</td><td>107.5</td><td>72.5</td><td>200.9</td><td>3.330</td><td>16.6</td><td>25</td><td>5/24/2011 </td><td> 69.99140</td></tr>\n",
              "\t<tr><th scope=row>23</th><td>Chevrolet</td><td>Monte Carlo  </td><td> 42.593</td><td>11.525</td><td>Passenger</td><td>19.390</td><td>3.4</td><td>180</td><td>110.5</td><td>72.7</td><td>197.9</td><td>3.340</td><td>17.0</td><td>27</td><td>12/22/2011</td><td> 72.03092</td></tr>\n",
              "\t<tr><th scope=row>24</th><td>Chevrolet</td><td>Camaro       </td><td> 26.402</td><td>13.025</td><td>Passenger</td><td>24.340</td><td>3.8</td><td>200</td><td>101.1</td><td>74.1</td><td>193.2</td><td>3.500</td><td>16.8</td><td>25</td><td>10/23/2011</td><td> 81.11854</td></tr>\n",
              "\t<tr><th scope=row>25</th><td>Chevrolet</td><td>Corvette     </td><td> 17.947</td><td>36.225</td><td>Passenger</td><td>45.705</td><td>5.7</td><td>345</td><td>104.5</td><td>73.6</td><td>179.7</td><td>3.210</td><td>19.1</td><td>22</td><td>05-12-2012</td><td>141.14115</td></tr>\n",
              "\t<tr><th scope=row>26</th><td>Chevrolet</td><td>Prizm        </td><td> 32.299</td><td> 9.125</td><td>Passenger</td><td>13.960</td><td>1.8</td><td>120</td><td> 97.1</td><td>66.7</td><td>174.3</td><td>2.398</td><td>13.2</td><td>33</td><td>09-11-2011</td><td> 48.29764</td></tr>\n",
              "\t<tr><th scope=row>27</th><td>Chevrolet</td><td>Metro        </td><td> 21.855</td><td> 5.160</td><td>Passenger</td><td> 9.235</td><td>1.0</td><td> 55</td><td> 93.1</td><td>62.6</td><td>149.4</td><td>1.895</td><td>10.3</td><td>45</td><td>4/13/2012 </td><td> 23.27627</td></tr>\n",
              "\t<tr><th scope=row>29</th><td>Chrysler </td><td>Sebring Coupe</td><td>  7.854</td><td>12.360</td><td>Passenger</td><td>19.840</td><td>2.5</td><td>163</td><td>103.7</td><td>69.7</td><td>190.9</td><td>2.967</td><td>15.9</td><td>24</td><td>1/16/2012 </td><td> 65.95718</td></tr>\n",
              "\t<tr><th scope=row>30</th><td>Chrysler </td><td>Sebring Conv.</td><td> 32.775</td><td>14.180</td><td>Passenger</td><td>24.495</td><td>2.5</td><td>168</td><td>106.0</td><td>69.2</td><td>193.0</td><td>3.332</td><td>16.0</td><td>24</td><td>11/17/2011</td><td> 69.52136</td></tr>\n",
              "\t<tr><th scope=row>31</th><td>Chrysler </td><td>Concorde     </td><td> 31.148</td><td>13.725</td><td>Passenger</td><td>22.245</td><td>2.7</td><td>200</td><td>113.0</td><td>74.4</td><td>209.1</td><td>3.452</td><td>17.0</td><td>26</td><td>06-06-2012</td><td> 80.02378</td></tr>\n",
              "\t<tr><th scope=row>32</th><td>Chrysler </td><td>Cirrus       </td><td> 32.306</td><td>12.640</td><td>Passenger</td><td>16.480</td><td>2.0</td><td>132</td><td>108.0</td><td>71.0</td><td>186.0</td><td>2.911</td><td>16.0</td><td>27</td><td>10-06-2011</td><td> 53.56620</td></tr>\n",
              "\t<tr><th scope=row>33</th><td>Chrysler </td><td>LHS          </td><td> 13.462</td><td>17.325</td><td>Passenger</td><td>28.340</td><td>3.5</td><td>253</td><td>113.0</td><td>74.4</td><td>207.7</td><td>3.564</td><td>17.0</td><td>23</td><td>05-08-2012</td><td>101.32928</td></tr>\n",
              "\t<tr><th scope=row>36</th><td>Dodge    </td><td>Neon         </td><td> 76.034</td><td> 7.750</td><td>Passenger</td><td>12.640</td><td>2.0</td><td>132</td><td>105.0</td><td>74.4</td><td>174.4</td><td>2.567</td><td>12.5</td><td>29</td><td>12-12-2011</td><td> 52.08490</td></tr>\n",
              "\t<tr><th scope=row>37</th><td>Dodge    </td><td>Avenger      </td><td>  4.734</td><td>12.545</td><td>Passenger</td><td>19.045</td><td>2.5</td><td>163</td><td>103.7</td><td>69.1</td><td>190.2</td><td>2.879</td><td>15.9</td><td>24</td><td>07-01-2012</td><td> 65.65051</td></tr>\n",
              "\t<tr><th scope=row>⋮</th><td>⋮</td><td>⋮</td><td>⋮</td><td>⋮</td><td>⋮</td><td>⋮</td><td>⋮</td><td>⋮</td><td>⋮</td><td>⋮</td><td>⋮</td><td>⋮</td><td>⋮</td><td>⋮</td><td>⋮</td><td>⋮</td></tr>\n",
              "\t<tr><th scope=row>112</th><td>Oldsmobile</td><td>Aurora        </td><td> 14.690</td><td>19.890</td><td>Passenger</td><td>36.229</td><td>4.0</td><td>250</td><td>113.8</td><td>74.4</td><td>205.4</td><td>3.967</td><td>18.5</td><td>22</td><td>2/18/2011 </td><td>103.44169</td></tr>\n",
              "\t<tr><th scope=row>113</th><td>Oldsmobile</td><td>Bravada       </td><td> 20.017</td><td>19.925</td><td>Car      </td><td>31.598</td><td>4.3</td><td>190</td><td>107.0</td><td>67.8</td><td>181.2</td><td>4.068</td><td>17.5</td><td>19</td><td>9/21/2011 </td><td> 80.51167</td></tr>\n",
              "\t<tr><th scope=row>114</th><td>Oldsmobile</td><td>Silhouette    </td><td> 24.361</td><td>15.240</td><td>Car      </td><td>25.345</td><td>3.4</td><td>185</td><td>120.0</td><td>72.2</td><td>201.4</td><td>3.948</td><td>25.0</td><td>22</td><td>6/25/2011 </td><td> 76.09657</td></tr>\n",
              "\t<tr><th scope=row>115</th><td>Plymouth  </td><td>Neon          </td><td> 32.734</td><td> 7.750</td><td>Passenger</td><td>12.640</td><td>2.0</td><td>132</td><td>105.0</td><td>74.4</td><td>174.4</td><td>2.559</td><td>12.5</td><td>29</td><td>4/26/2011 </td><td> 52.08490</td></tr>\n",
              "\t<tr><th scope=row>116</th><td>Plymouth  </td><td>Breeze        </td><td>  5.240</td><td> 9.800</td><td>Passenger</td><td>16.080</td><td>2.0</td><td>132</td><td>108.0</td><td>71.0</td><td>186.3</td><td>2.942</td><td>16.0</td><td>27</td><td>11/14/2011</td><td> 53.41190</td></tr>\n",
              "\t<tr><th scope=row>117</th><td>Plymouth  </td><td>Voyager       </td><td> 24.155</td><td>12.025</td><td>Car      </td><td>18.850</td><td>2.4</td><td>150</td><td>113.3</td><td>76.8</td><td>186.3</td><td>3.528</td><td>20.0</td><td>24</td><td>4/24/2011 </td><td> 60.95119</td></tr>\n",
              "\t<tr><th scope=row>119</th><td>Pontiac   </td><td>Sunfire       </td><td> 51.645</td><td>13.790</td><td>Passenger</td><td>21.610</td><td>2.4</td><td>150</td><td>104.1</td><td>68.4</td><td>181.9</td><td>2.906</td><td>15.0</td><td>27</td><td>1/25/2012 </td><td> 62.01587</td></tr>\n",
              "\t<tr><th scope=row>120</th><td>Pontiac   </td><td>Grand Am      </td><td>131.097</td><td>10.290</td><td>Passenger</td><td>19.720</td><td>3.4</td><td>175</td><td>107.0</td><td>70.4</td><td>186.3</td><td>3.091</td><td>15.2</td><td>25</td><td>11/26/2012</td><td> 70.38974</td></tr>\n",
              "\t<tr><th scope=row>121</th><td>Pontiac   </td><td>Firebird      </td><td> 19.911</td><td>17.805</td><td>Passenger</td><td>25.310</td><td>3.8</td><td>200</td><td>101.1</td><td>74.5</td><td>193.4</td><td>3.492</td><td>16.8</td><td>25</td><td>6/16/2012 </td><td> 81.49273</td></tr>\n",
              "\t<tr><th scope=row>122</th><td>Pontiac   </td><td>Grand Prix    </td><td> 92.364</td><td>14.010</td><td>Passenger</td><td>21.665</td><td>3.8</td><td>195</td><td>110.5</td><td>72.7</td><td>196.5</td><td>3.396</td><td>18.0</td><td>25</td><td>10/15/2012</td><td> 78.31817</td></tr>\n",
              "\t<tr><th scope=row>123</th><td>Pontiac   </td><td>Bonneville    </td><td> 35.945</td><td>13.225</td><td>Passenger</td><td>23.755</td><td>3.8</td><td>205</td><td>112.2</td><td>72.6</td><td>202.5</td><td>3.590</td><td>17.5</td><td>24</td><td>5/18/2011 </td><td> 82.66136</td></tr>\n",
              "\t<tr><th scope=row>125</th><td>Porsche   </td><td>Boxter        </td><td>  8.982</td><td>41.250</td><td>Passenger</td><td>41.430</td><td>2.7</td><td>217</td><td> 95.2</td><td>70.1</td><td>171.0</td><td>2.778</td><td>17.0</td><td>22</td><td>2/19/2012 </td><td> 93.43733</td></tr>\n",
              "\t<tr><th scope=row>126</th><td>Porsche   </td><td>Carrera Coupe </td><td>  1.280</td><td>60.625</td><td>Passenger</td><td>71.020</td><td>3.4</td><td>300</td><td> 92.6</td><td>69.5</td><td>174.5</td><td>3.032</td><td>17.0</td><td>21</td><td>12/21/2012</td><td>134.39098</td></tr>\n",
              "\t<tr><th scope=row>127</th><td>Porsche   </td><td>Carrera Cabrio</td><td>  1.866</td><td>67.550</td><td>Passenger</td><td>74.970</td><td>3.4</td><td>300</td><td> 92.6</td><td>69.5</td><td>174.5</td><td>3.075</td><td>17.0</td><td>23</td><td>07-11-2011</td><td>135.91471</td></tr>\n",
              "\t<tr><th scope=row>130</th><td>Saturn    </td><td>SL            </td><td> 80.620</td><td> 9.200</td><td>Passenger</td><td>10.685</td><td>1.9</td><td>100</td><td>102.4</td><td>66.4</td><td>176.9</td><td>2.332</td><td>12.1</td><td>33</td><td>8/16/2012 </td><td> 39.98642</td></tr>\n",
              "\t<tr><th scope=row>131</th><td>Saturn    </td><td>SC            </td><td> 24.546</td><td>10.590</td><td>Passenger</td><td>12.535</td><td>1.9</td><td>100</td><td>102.4</td><td>66.4</td><td>180.0</td><td>2.367</td><td>12.1</td><td>33</td><td>3/16/2011 </td><td> 40.70007</td></tr>\n",
              "\t<tr><th scope=row>132</th><td>Saturn    </td><td>SW            </td><td>  5.223</td><td>10.790</td><td>Passenger</td><td>14.290</td><td>1.9</td><td>124</td><td>102.4</td><td>66.4</td><td>176.9</td><td>2.452</td><td>12.1</td><td>31</td><td>1/15/2011 </td><td> 49.86577</td></tr>\n",
              "\t<tr><th scope=row>137</th><td>Toyota    </td><td>Corolla       </td><td>142.535</td><td>10.025</td><td>Passenger</td><td>13.108</td><td>1.8</td><td>120</td><td> 97.0</td><td>66.7</td><td>174.0</td><td>2.420</td><td>13.2</td><td>33</td><td>04-11-2011</td><td> 47.96897</td></tr>\n",
              "\t<tr><th scope=row>138</th><td>Toyota    </td><td>Camry         </td><td>247.994</td><td>13.245</td><td>Passenger</td><td>17.518</td><td>2.2</td><td>133</td><td>105.2</td><td>70.1</td><td>188.5</td><td>2.998</td><td>18.5</td><td>27</td><td>02-10-2011</td><td> 54.37242</td></tr>\n",
              "\t<tr><th scope=row>139</th><td>Toyota    </td><td>Avalon        </td><td> 63.849</td><td>18.140</td><td>Passenger</td><td>25.545</td><td>3.0</td><td>210</td><td>107.1</td><td>71.7</td><td>191.9</td><td>3.417</td><td>18.5</td><td>26</td><td>8/31/2011 </td><td> 84.91190</td></tr>\n",
              "\t<tr><th scope=row>140</th><td>Toyota    </td><td>Celica        </td><td> 33.269</td><td>15.445</td><td>Passenger</td><td>16.875</td><td>1.8</td><td>140</td><td>102.4</td><td>68.3</td><td>170.5</td><td>2.425</td><td>14.5</td><td>31</td><td>12/29/2012</td><td> 56.49603</td></tr>\n",
              "\t<tr><th scope=row>141</th><td>Toyota    </td><td>Tacoma        </td><td> 84.087</td><td> 9.575</td><td>Car      </td><td>11.528</td><td>2.4</td><td>142</td><td>103.3</td><td>66.5</td><td>178.7</td><td>2.580</td><td>15.1</td><td>23</td><td>08-01-2011</td><td> 55.29712</td></tr>\n",
              "\t<tr><th scope=row>143</th><td>Toyota    </td><td>RAV4          </td><td> 25.106</td><td>13.325</td><td>Car      </td><td>16.888</td><td>2.0</td><td>127</td><td> 94.9</td><td>66.7</td><td>163.8</td><td>2.668</td><td>15.3</td><td>27</td><td>05-06-2011</td><td> 51.95511</td></tr>\n",
              "\t<tr><th scope=row>144</th><td>Toyota    </td><td>4Runner       </td><td> 68.411</td><td>19.425</td><td>Car      </td><td>22.288</td><td>2.7</td><td>150</td><td>105.3</td><td>66.5</td><td>183.3</td><td>3.440</td><td>18.5</td><td>23</td><td>03-07-2011</td><td> 62.35558</td></tr>\n",
              "\t<tr><th scope=row>145</th><td>Toyota    </td><td>Land Cruiser  </td><td>  9.835</td><td>34.080</td><td>Car      </td><td>51.728</td><td>4.7</td><td>230</td><td>112.2</td><td>76.4</td><td>192.5</td><td>5.115</td><td>25.4</td><td>15</td><td>9/25/2011 </td><td>102.52898</td></tr>\n",
              "\t<tr><th scope=row>146</th><td>Volkswagen</td><td>Golf          </td><td>  9.761</td><td>11.425</td><td>Passenger</td><td>14.900</td><td>2.0</td><td>115</td><td> 98.9</td><td>68.3</td><td>163.3</td><td>2.767</td><td>14.5</td><td>26</td><td>1/24/2011 </td><td> 46.94388</td></tr>\n",
              "\t<tr><th scope=row>147</th><td>Volkswagen</td><td>Jetta         </td><td> 83.721</td><td>13.240</td><td>Passenger</td><td>16.700</td><td>2.0</td><td>115</td><td> 98.9</td><td>68.3</td><td>172.3</td><td>2.853</td><td>14.5</td><td>26</td><td>8/27/2011 </td><td> 47.63824</td></tr>\n",
              "\t<tr><th scope=row>148</th><td>Volkswagen</td><td>Passat        </td><td> 51.102</td><td>16.725</td><td>Passenger</td><td>21.200</td><td>1.8</td><td>150</td><td>106.4</td><td>68.5</td><td>184.1</td><td>3.043</td><td>16.4</td><td>27</td><td>10/30/2012</td><td> 61.70138</td></tr>\n",
              "\t<tr><th scope=row>149</th><td>Volkswagen</td><td>Cabrio        </td><td>  9.569</td><td>16.575</td><td>Passenger</td><td>19.990</td><td>2.0</td><td>115</td><td> 97.4</td><td>66.7</td><td>160.4</td><td>3.079</td><td>13.7</td><td>26</td><td>5/31/2011 </td><td> 48.90737</td></tr>\n",
              "\t<tr><th scope=row>150</th><td>Volkswagen</td><td>GTI           </td><td>  5.596</td><td>13.760</td><td>Passenger</td><td>17.500</td><td>2.0</td><td>115</td><td> 98.9</td><td>68.3</td><td>163.3</td><td>2.762</td><td>14.6</td><td>26</td><td>04-01-2011</td><td> 47.94684</td></tr>\n",
              "</tbody>\n",
              "</table>\n"
            ],
            "text/markdown": "\nA data.frame: 117 × 16\n\n| <!--/--> | Manufacturer &lt;chr&gt; | Model &lt;chr&gt; | Sales_in_thousands &lt;dbl&gt; | X__year_resale_value &lt;dbl&gt; | Vehicle_type &lt;chr&gt; | Price_in_thousands &lt;dbl&gt; | Engine_size &lt;dbl&gt; | Horsepower &lt;int&gt; | Wheelbase &lt;dbl&gt; | Width &lt;dbl&gt; | Length &lt;dbl&gt; | Curb_weight &lt;dbl&gt; | Fuel_capacity &lt;dbl&gt; | Fuel_efficiency &lt;int&gt; | Latest_Launch &lt;chr&gt; | Power_perf_factor &lt;dbl&gt; |\n|---|---|---|---|---|---|---|---|---|---|---|---|---|---|---|---|---|\n| 1 | Acura     | Integra       |  16.919 | 16.360 | Passenger | 21.500 | 1.8 | 140 | 101.2 | 67.3 | 172.4 | 2.639 | 13.2 | 28 | 02-02-2012 |  58.28015 |\n| 2 | Acura     | TL            |  39.384 | 19.875 | Passenger | 28.400 | 3.2 | 225 | 108.1 | 70.3 | 192.9 | 3.517 | 17.2 | 25 | 06-03-2011 |  91.37078 |\n| 4 | Acura     | RL            |   8.588 | 29.725 | Passenger | 42.000 | 3.5 | 210 | 114.6 | 71.4 | 196.6 | 3.850 | 18.0 | 22 | 03-10-2011 |  91.38978 |\n| 5 | Audi      | A4            |  20.397 | 22.255 | Passenger | 23.990 | 1.8 | 150 | 102.6 | 68.2 | 178.0 | 2.998 | 16.4 | 27 | 10-08-2011 |  62.77764 |\n| 6 | Audi      | A6            |  18.780 | 23.555 | Passenger | 33.950 | 2.8 | 200 | 108.7 | 76.1 | 192.0 | 3.561 | 18.5 | 22 | 08-09-2011 |  84.56511 |\n| 7 | Audi      | A8            |   1.380 | 39.000 | Passenger | 62.000 | 4.2 | 310 | 113.0 | 74.0 | 198.2 | 3.902 | 23.7 | 21 | 2/27/2012  | 134.65686 |\n| 9 | BMW       | 328i          |   9.231 | 28.675 | Passenger | 33.400 | 2.8 | 193 | 107.3 | 68.5 | 176.0 | 3.197 | 16.6 | 24 | 1/29/2012  |  81.87707 |\n| 10 | BMW       | 528i          |  17.527 | 36.125 | Passenger | 38.900 | 2.8 | 193 | 111.4 | 70.9 | 188.0 | 3.472 | 18.5 | 25 | 04-04-2011 |  83.99872 |\n| 11 | Buick     | Century       |  91.561 | 12.475 | Passenger | 21.975 | 3.1 | 175 | 109.0 | 72.7 | 194.6 | 3.368 | 17.5 | 25 | 11-02-2011 |  71.18145 |\n| 12 | Buick     | Regal         |  39.350 | 13.740 | Passenger | 25.300 | 3.8 | 240 | 109.0 | 72.7 | 196.2 | 3.543 | 17.5 | 23 | 09-03-2011 |  95.63670 |\n| 13 | Buick     | Park Avenue   |  27.851 | 20.190 | Passenger | 31.965 | 3.8 | 205 | 113.8 | 74.7 | 206.8 | 3.778 | 18.5 | 24 | 3/23/2012  |  85.82841 |\n| 14 | Buick     | LeSabre       |  83.257 | 13.360 | Passenger | 27.885 | 3.8 | 205 | 112.2 | 73.5 | 200.0 | 3.591 | 17.5 | 25 | 7/23/2011  |  84.25453 |\n| 15 | Cadillac  | DeVille       |  63.729 | 22.525 | Passenger | 39.895 | 4.6 | 275 | 115.3 | 74.5 | 207.2 | 3.978 | 18.5 | 22 | 2/23/2012  | 113.85460 |\n| 17 | Cadillac  | Eldorado      |   6.536 | 25.725 | Passenger | 39.665 | 4.6 | 275 | 108.0 | 75.5 | 200.6 | 3.843 | 19.0 | 22 | 11/27/2011 | 113.76587 |\n| 18 | Cadillac  | Catera        |  11.185 | 18.225 | Passenger | 31.010 | 3.0 | 200 | 107.4 | 70.3 | 194.8 | 3.770 | 18.0 | 22 | 9/28/2011  |  83.48309 |\n| 20 | Chevrolet | Cavalier      | 145.519 |  9.250 | Passenger | 13.260 | 2.2 | 115 | 104.1 | 67.9 | 180.9 | 2.676 | 14.3 | 27 | 8/17/2011  |  46.36335 |\n| 21 | Chevrolet | Malibu        | 135.126 | 11.225 | Passenger | 16.535 | 3.1 | 170 | 107.0 | 69.4 | 190.4 | 3.051 | 15.0 | 25 | 3/19/2012  |  67.31446 |\n| 22 | Chevrolet | Lumina        |  24.629 | 10.310 | Passenger | 18.890 | 3.1 | 175 | 107.5 | 72.5 | 200.9 | 3.330 | 16.6 | 25 | 5/24/2011  |  69.99140 |\n| 23 | Chevrolet | Monte Carlo   |  42.593 | 11.525 | Passenger | 19.390 | 3.4 | 180 | 110.5 | 72.7 | 197.9 | 3.340 | 17.0 | 27 | 12/22/2011 |  72.03092 |\n| 24 | Chevrolet | Camaro        |  26.402 | 13.025 | Passenger | 24.340 | 3.8 | 200 | 101.1 | 74.1 | 193.2 | 3.500 | 16.8 | 25 | 10/23/2011 |  81.11854 |\n| 25 | Chevrolet | Corvette      |  17.947 | 36.225 | Passenger | 45.705 | 5.7 | 345 | 104.5 | 73.6 | 179.7 | 3.210 | 19.1 | 22 | 05-12-2012 | 141.14115 |\n| 26 | Chevrolet | Prizm         |  32.299 |  9.125 | Passenger | 13.960 | 1.8 | 120 |  97.1 | 66.7 | 174.3 | 2.398 | 13.2 | 33 | 09-11-2011 |  48.29764 |\n| 27 | Chevrolet | Metro         |  21.855 |  5.160 | Passenger |  9.235 | 1.0 |  55 |  93.1 | 62.6 | 149.4 | 1.895 | 10.3 | 45 | 4/13/2012  |  23.27627 |\n| 29 | Chrysler  | Sebring Coupe |   7.854 | 12.360 | Passenger | 19.840 | 2.5 | 163 | 103.7 | 69.7 | 190.9 | 2.967 | 15.9 | 24 | 1/16/2012  |  65.95718 |\n| 30 | Chrysler  | Sebring Conv. |  32.775 | 14.180 | Passenger | 24.495 | 2.5 | 168 | 106.0 | 69.2 | 193.0 | 3.332 | 16.0 | 24 | 11/17/2011 |  69.52136 |\n| 31 | Chrysler  | Concorde      |  31.148 | 13.725 | Passenger | 22.245 | 2.7 | 200 | 113.0 | 74.4 | 209.1 | 3.452 | 17.0 | 26 | 06-06-2012 |  80.02378 |\n| 32 | Chrysler  | Cirrus        |  32.306 | 12.640 | Passenger | 16.480 | 2.0 | 132 | 108.0 | 71.0 | 186.0 | 2.911 | 16.0 | 27 | 10-06-2011 |  53.56620 |\n| 33 | Chrysler  | LHS           |  13.462 | 17.325 | Passenger | 28.340 | 3.5 | 253 | 113.0 | 74.4 | 207.7 | 3.564 | 17.0 | 23 | 05-08-2012 | 101.32928 |\n| 36 | Dodge     | Neon          |  76.034 |  7.750 | Passenger | 12.640 | 2.0 | 132 | 105.0 | 74.4 | 174.4 | 2.567 | 12.5 | 29 | 12-12-2011 |  52.08490 |\n| 37 | Dodge     | Avenger       |   4.734 | 12.545 | Passenger | 19.045 | 2.5 | 163 | 103.7 | 69.1 | 190.2 | 2.879 | 15.9 | 24 | 07-01-2012 |  65.65051 |\n| ⋮ | ⋮ | ⋮ | ⋮ | ⋮ | ⋮ | ⋮ | ⋮ | ⋮ | ⋮ | ⋮ | ⋮ | ⋮ | ⋮ | ⋮ | ⋮ | ⋮ |\n| 112 | Oldsmobile | Aurora         |  14.690 | 19.890 | Passenger | 36.229 | 4.0 | 250 | 113.8 | 74.4 | 205.4 | 3.967 | 18.5 | 22 | 2/18/2011  | 103.44169 |\n| 113 | Oldsmobile | Bravada        |  20.017 | 19.925 | Car       | 31.598 | 4.3 | 190 | 107.0 | 67.8 | 181.2 | 4.068 | 17.5 | 19 | 9/21/2011  |  80.51167 |\n| 114 | Oldsmobile | Silhouette     |  24.361 | 15.240 | Car       | 25.345 | 3.4 | 185 | 120.0 | 72.2 | 201.4 | 3.948 | 25.0 | 22 | 6/25/2011  |  76.09657 |\n| 115 | Plymouth   | Neon           |  32.734 |  7.750 | Passenger | 12.640 | 2.0 | 132 | 105.0 | 74.4 | 174.4 | 2.559 | 12.5 | 29 | 4/26/2011  |  52.08490 |\n| 116 | Plymouth   | Breeze         |   5.240 |  9.800 | Passenger | 16.080 | 2.0 | 132 | 108.0 | 71.0 | 186.3 | 2.942 | 16.0 | 27 | 11/14/2011 |  53.41190 |\n| 117 | Plymouth   | Voyager        |  24.155 | 12.025 | Car       | 18.850 | 2.4 | 150 | 113.3 | 76.8 | 186.3 | 3.528 | 20.0 | 24 | 4/24/2011  |  60.95119 |\n| 119 | Pontiac    | Sunfire        |  51.645 | 13.790 | Passenger | 21.610 | 2.4 | 150 | 104.1 | 68.4 | 181.9 | 2.906 | 15.0 | 27 | 1/25/2012  |  62.01587 |\n| 120 | Pontiac    | Grand Am       | 131.097 | 10.290 | Passenger | 19.720 | 3.4 | 175 | 107.0 | 70.4 | 186.3 | 3.091 | 15.2 | 25 | 11/26/2012 |  70.38974 |\n| 121 | Pontiac    | Firebird       |  19.911 | 17.805 | Passenger | 25.310 | 3.8 | 200 | 101.1 | 74.5 | 193.4 | 3.492 | 16.8 | 25 | 6/16/2012  |  81.49273 |\n| 122 | Pontiac    | Grand Prix     |  92.364 | 14.010 | Passenger | 21.665 | 3.8 | 195 | 110.5 | 72.7 | 196.5 | 3.396 | 18.0 | 25 | 10/15/2012 |  78.31817 |\n| 123 | Pontiac    | Bonneville     |  35.945 | 13.225 | Passenger | 23.755 | 3.8 | 205 | 112.2 | 72.6 | 202.5 | 3.590 | 17.5 | 24 | 5/18/2011  |  82.66136 |\n| 125 | Porsche    | Boxter         |   8.982 | 41.250 | Passenger | 41.430 | 2.7 | 217 |  95.2 | 70.1 | 171.0 | 2.778 | 17.0 | 22 | 2/19/2012  |  93.43733 |\n| 126 | Porsche    | Carrera Coupe  |   1.280 | 60.625 | Passenger | 71.020 | 3.4 | 300 |  92.6 | 69.5 | 174.5 | 3.032 | 17.0 | 21 | 12/21/2012 | 134.39098 |\n| 127 | Porsche    | Carrera Cabrio |   1.866 | 67.550 | Passenger | 74.970 | 3.4 | 300 |  92.6 | 69.5 | 174.5 | 3.075 | 17.0 | 23 | 07-11-2011 | 135.91471 |\n| 130 | Saturn     | SL             |  80.620 |  9.200 | Passenger | 10.685 | 1.9 | 100 | 102.4 | 66.4 | 176.9 | 2.332 | 12.1 | 33 | 8/16/2012  |  39.98642 |\n| 131 | Saturn     | SC             |  24.546 | 10.590 | Passenger | 12.535 | 1.9 | 100 | 102.4 | 66.4 | 180.0 | 2.367 | 12.1 | 33 | 3/16/2011  |  40.70007 |\n| 132 | Saturn     | SW             |   5.223 | 10.790 | Passenger | 14.290 | 1.9 | 124 | 102.4 | 66.4 | 176.9 | 2.452 | 12.1 | 31 | 1/15/2011  |  49.86577 |\n| 137 | Toyota     | Corolla        | 142.535 | 10.025 | Passenger | 13.108 | 1.8 | 120 |  97.0 | 66.7 | 174.0 | 2.420 | 13.2 | 33 | 04-11-2011 |  47.96897 |\n| 138 | Toyota     | Camry          | 247.994 | 13.245 | Passenger | 17.518 | 2.2 | 133 | 105.2 | 70.1 | 188.5 | 2.998 | 18.5 | 27 | 02-10-2011 |  54.37242 |\n| 139 | Toyota     | Avalon         |  63.849 | 18.140 | Passenger | 25.545 | 3.0 | 210 | 107.1 | 71.7 | 191.9 | 3.417 | 18.5 | 26 | 8/31/2011  |  84.91190 |\n| 140 | Toyota     | Celica         |  33.269 | 15.445 | Passenger | 16.875 | 1.8 | 140 | 102.4 | 68.3 | 170.5 | 2.425 | 14.5 | 31 | 12/29/2012 |  56.49603 |\n| 141 | Toyota     | Tacoma         |  84.087 |  9.575 | Car       | 11.528 | 2.4 | 142 | 103.3 | 66.5 | 178.7 | 2.580 | 15.1 | 23 | 08-01-2011 |  55.29712 |\n| 143 | Toyota     | RAV4           |  25.106 | 13.325 | Car       | 16.888 | 2.0 | 127 |  94.9 | 66.7 | 163.8 | 2.668 | 15.3 | 27 | 05-06-2011 |  51.95511 |\n| 144 | Toyota     | 4Runner        |  68.411 | 19.425 | Car       | 22.288 | 2.7 | 150 | 105.3 | 66.5 | 183.3 | 3.440 | 18.5 | 23 | 03-07-2011 |  62.35558 |\n| 145 | Toyota     | Land Cruiser   |   9.835 | 34.080 | Car       | 51.728 | 4.7 | 230 | 112.2 | 76.4 | 192.5 | 5.115 | 25.4 | 15 | 9/25/2011  | 102.52898 |\n| 146 | Volkswagen | Golf           |   9.761 | 11.425 | Passenger | 14.900 | 2.0 | 115 |  98.9 | 68.3 | 163.3 | 2.767 | 14.5 | 26 | 1/24/2011  |  46.94388 |\n| 147 | Volkswagen | Jetta          |  83.721 | 13.240 | Passenger | 16.700 | 2.0 | 115 |  98.9 | 68.3 | 172.3 | 2.853 | 14.5 | 26 | 8/27/2011  |  47.63824 |\n| 148 | Volkswagen | Passat         |  51.102 | 16.725 | Passenger | 21.200 | 1.8 | 150 | 106.4 | 68.5 | 184.1 | 3.043 | 16.4 | 27 | 10/30/2012 |  61.70138 |\n| 149 | Volkswagen | Cabrio         |   9.569 | 16.575 | Passenger | 19.990 | 2.0 | 115 |  97.4 | 66.7 | 160.4 | 3.079 | 13.7 | 26 | 5/31/2011  |  48.90737 |\n| 150 | Volkswagen | GTI            |   5.596 | 13.760 | Passenger | 17.500 | 2.0 | 115 |  98.9 | 68.3 | 163.3 | 2.762 | 14.6 | 26 | 04-01-2011 |  47.94684 |\n\n",
            "text/latex": "A data.frame: 117 × 16\n\\begin{tabular}{r|llllllllllllllll}\n  & Manufacturer & Model & Sales\\_in\\_thousands & X\\_\\_year\\_resale\\_value & Vehicle\\_type & Price\\_in\\_thousands & Engine\\_size & Horsepower & Wheelbase & Width & Length & Curb\\_weight & Fuel\\_capacity & Fuel\\_efficiency & Latest\\_Launch & Power\\_perf\\_factor\\\\\n  & <chr> & <chr> & <dbl> & <dbl> & <chr> & <dbl> & <dbl> & <int> & <dbl> & <dbl> & <dbl> & <dbl> & <dbl> & <int> & <chr> & <dbl>\\\\\n\\hline\n\t1 & Acura     & Integra       &  16.919 & 16.360 & Passenger & 21.500 & 1.8 & 140 & 101.2 & 67.3 & 172.4 & 2.639 & 13.2 & 28 & 02-02-2012 &  58.28015\\\\\n\t2 & Acura     & TL            &  39.384 & 19.875 & Passenger & 28.400 & 3.2 & 225 & 108.1 & 70.3 & 192.9 & 3.517 & 17.2 & 25 & 06-03-2011 &  91.37078\\\\\n\t4 & Acura     & RL            &   8.588 & 29.725 & Passenger & 42.000 & 3.5 & 210 & 114.6 & 71.4 & 196.6 & 3.850 & 18.0 & 22 & 03-10-2011 &  91.38978\\\\\n\t5 & Audi      & A4            &  20.397 & 22.255 & Passenger & 23.990 & 1.8 & 150 & 102.6 & 68.2 & 178.0 & 2.998 & 16.4 & 27 & 10-08-2011 &  62.77764\\\\\n\t6 & Audi      & A6            &  18.780 & 23.555 & Passenger & 33.950 & 2.8 & 200 & 108.7 & 76.1 & 192.0 & 3.561 & 18.5 & 22 & 08-09-2011 &  84.56511\\\\\n\t7 & Audi      & A8            &   1.380 & 39.000 & Passenger & 62.000 & 4.2 & 310 & 113.0 & 74.0 & 198.2 & 3.902 & 23.7 & 21 & 2/27/2012  & 134.65686\\\\\n\t9 & BMW       & 328i          &   9.231 & 28.675 & Passenger & 33.400 & 2.8 & 193 & 107.3 & 68.5 & 176.0 & 3.197 & 16.6 & 24 & 1/29/2012  &  81.87707\\\\\n\t10 & BMW       & 528i          &  17.527 & 36.125 & Passenger & 38.900 & 2.8 & 193 & 111.4 & 70.9 & 188.0 & 3.472 & 18.5 & 25 & 04-04-2011 &  83.99872\\\\\n\t11 & Buick     & Century       &  91.561 & 12.475 & Passenger & 21.975 & 3.1 & 175 & 109.0 & 72.7 & 194.6 & 3.368 & 17.5 & 25 & 11-02-2011 &  71.18145\\\\\n\t12 & Buick     & Regal         &  39.350 & 13.740 & Passenger & 25.300 & 3.8 & 240 & 109.0 & 72.7 & 196.2 & 3.543 & 17.5 & 23 & 09-03-2011 &  95.63670\\\\\n\t13 & Buick     & Park Avenue   &  27.851 & 20.190 & Passenger & 31.965 & 3.8 & 205 & 113.8 & 74.7 & 206.8 & 3.778 & 18.5 & 24 & 3/23/2012  &  85.82841\\\\\n\t14 & Buick     & LeSabre       &  83.257 & 13.360 & Passenger & 27.885 & 3.8 & 205 & 112.2 & 73.5 & 200.0 & 3.591 & 17.5 & 25 & 7/23/2011  &  84.25453\\\\\n\t15 & Cadillac  & DeVille       &  63.729 & 22.525 & Passenger & 39.895 & 4.6 & 275 & 115.3 & 74.5 & 207.2 & 3.978 & 18.5 & 22 & 2/23/2012  & 113.85460\\\\\n\t17 & Cadillac  & Eldorado      &   6.536 & 25.725 & Passenger & 39.665 & 4.6 & 275 & 108.0 & 75.5 & 200.6 & 3.843 & 19.0 & 22 & 11/27/2011 & 113.76587\\\\\n\t18 & Cadillac  & Catera        &  11.185 & 18.225 & Passenger & 31.010 & 3.0 & 200 & 107.4 & 70.3 & 194.8 & 3.770 & 18.0 & 22 & 9/28/2011  &  83.48309\\\\\n\t20 & Chevrolet & Cavalier      & 145.519 &  9.250 & Passenger & 13.260 & 2.2 & 115 & 104.1 & 67.9 & 180.9 & 2.676 & 14.3 & 27 & 8/17/2011  &  46.36335\\\\\n\t21 & Chevrolet & Malibu        & 135.126 & 11.225 & Passenger & 16.535 & 3.1 & 170 & 107.0 & 69.4 & 190.4 & 3.051 & 15.0 & 25 & 3/19/2012  &  67.31446\\\\\n\t22 & Chevrolet & Lumina        &  24.629 & 10.310 & Passenger & 18.890 & 3.1 & 175 & 107.5 & 72.5 & 200.9 & 3.330 & 16.6 & 25 & 5/24/2011  &  69.99140\\\\\n\t23 & Chevrolet & Monte Carlo   &  42.593 & 11.525 & Passenger & 19.390 & 3.4 & 180 & 110.5 & 72.7 & 197.9 & 3.340 & 17.0 & 27 & 12/22/2011 &  72.03092\\\\\n\t24 & Chevrolet & Camaro        &  26.402 & 13.025 & Passenger & 24.340 & 3.8 & 200 & 101.1 & 74.1 & 193.2 & 3.500 & 16.8 & 25 & 10/23/2011 &  81.11854\\\\\n\t25 & Chevrolet & Corvette      &  17.947 & 36.225 & Passenger & 45.705 & 5.7 & 345 & 104.5 & 73.6 & 179.7 & 3.210 & 19.1 & 22 & 05-12-2012 & 141.14115\\\\\n\t26 & Chevrolet & Prizm         &  32.299 &  9.125 & Passenger & 13.960 & 1.8 & 120 &  97.1 & 66.7 & 174.3 & 2.398 & 13.2 & 33 & 09-11-2011 &  48.29764\\\\\n\t27 & Chevrolet & Metro         &  21.855 &  5.160 & Passenger &  9.235 & 1.0 &  55 &  93.1 & 62.6 & 149.4 & 1.895 & 10.3 & 45 & 4/13/2012  &  23.27627\\\\\n\t29 & Chrysler  & Sebring Coupe &   7.854 & 12.360 & Passenger & 19.840 & 2.5 & 163 & 103.7 & 69.7 & 190.9 & 2.967 & 15.9 & 24 & 1/16/2012  &  65.95718\\\\\n\t30 & Chrysler  & Sebring Conv. &  32.775 & 14.180 & Passenger & 24.495 & 2.5 & 168 & 106.0 & 69.2 & 193.0 & 3.332 & 16.0 & 24 & 11/17/2011 &  69.52136\\\\\n\t31 & Chrysler  & Concorde      &  31.148 & 13.725 & Passenger & 22.245 & 2.7 & 200 & 113.0 & 74.4 & 209.1 & 3.452 & 17.0 & 26 & 06-06-2012 &  80.02378\\\\\n\t32 & Chrysler  & Cirrus        &  32.306 & 12.640 & Passenger & 16.480 & 2.0 & 132 & 108.0 & 71.0 & 186.0 & 2.911 & 16.0 & 27 & 10-06-2011 &  53.56620\\\\\n\t33 & Chrysler  & LHS           &  13.462 & 17.325 & Passenger & 28.340 & 3.5 & 253 & 113.0 & 74.4 & 207.7 & 3.564 & 17.0 & 23 & 05-08-2012 & 101.32928\\\\\n\t36 & Dodge     & Neon          &  76.034 &  7.750 & Passenger & 12.640 & 2.0 & 132 & 105.0 & 74.4 & 174.4 & 2.567 & 12.5 & 29 & 12-12-2011 &  52.08490\\\\\n\t37 & Dodge     & Avenger       &   4.734 & 12.545 & Passenger & 19.045 & 2.5 & 163 & 103.7 & 69.1 & 190.2 & 2.879 & 15.9 & 24 & 07-01-2012 &  65.65051\\\\\n\t⋮ & ⋮ & ⋮ & ⋮ & ⋮ & ⋮ & ⋮ & ⋮ & ⋮ & ⋮ & ⋮ & ⋮ & ⋮ & ⋮ & ⋮ & ⋮ & ⋮\\\\\n\t112 & Oldsmobile & Aurora         &  14.690 & 19.890 & Passenger & 36.229 & 4.0 & 250 & 113.8 & 74.4 & 205.4 & 3.967 & 18.5 & 22 & 2/18/2011  & 103.44169\\\\\n\t113 & Oldsmobile & Bravada        &  20.017 & 19.925 & Car       & 31.598 & 4.3 & 190 & 107.0 & 67.8 & 181.2 & 4.068 & 17.5 & 19 & 9/21/2011  &  80.51167\\\\\n\t114 & Oldsmobile & Silhouette     &  24.361 & 15.240 & Car       & 25.345 & 3.4 & 185 & 120.0 & 72.2 & 201.4 & 3.948 & 25.0 & 22 & 6/25/2011  &  76.09657\\\\\n\t115 & Plymouth   & Neon           &  32.734 &  7.750 & Passenger & 12.640 & 2.0 & 132 & 105.0 & 74.4 & 174.4 & 2.559 & 12.5 & 29 & 4/26/2011  &  52.08490\\\\\n\t116 & Plymouth   & Breeze         &   5.240 &  9.800 & Passenger & 16.080 & 2.0 & 132 & 108.0 & 71.0 & 186.3 & 2.942 & 16.0 & 27 & 11/14/2011 &  53.41190\\\\\n\t117 & Plymouth   & Voyager        &  24.155 & 12.025 & Car       & 18.850 & 2.4 & 150 & 113.3 & 76.8 & 186.3 & 3.528 & 20.0 & 24 & 4/24/2011  &  60.95119\\\\\n\t119 & Pontiac    & Sunfire        &  51.645 & 13.790 & Passenger & 21.610 & 2.4 & 150 & 104.1 & 68.4 & 181.9 & 2.906 & 15.0 & 27 & 1/25/2012  &  62.01587\\\\\n\t120 & Pontiac    & Grand Am       & 131.097 & 10.290 & Passenger & 19.720 & 3.4 & 175 & 107.0 & 70.4 & 186.3 & 3.091 & 15.2 & 25 & 11/26/2012 &  70.38974\\\\\n\t121 & Pontiac    & Firebird       &  19.911 & 17.805 & Passenger & 25.310 & 3.8 & 200 & 101.1 & 74.5 & 193.4 & 3.492 & 16.8 & 25 & 6/16/2012  &  81.49273\\\\\n\t122 & Pontiac    & Grand Prix     &  92.364 & 14.010 & Passenger & 21.665 & 3.8 & 195 & 110.5 & 72.7 & 196.5 & 3.396 & 18.0 & 25 & 10/15/2012 &  78.31817\\\\\n\t123 & Pontiac    & Bonneville     &  35.945 & 13.225 & Passenger & 23.755 & 3.8 & 205 & 112.2 & 72.6 & 202.5 & 3.590 & 17.5 & 24 & 5/18/2011  &  82.66136\\\\\n\t125 & Porsche    & Boxter         &   8.982 & 41.250 & Passenger & 41.430 & 2.7 & 217 &  95.2 & 70.1 & 171.0 & 2.778 & 17.0 & 22 & 2/19/2012  &  93.43733\\\\\n\t126 & Porsche    & Carrera Coupe  &   1.280 & 60.625 & Passenger & 71.020 & 3.4 & 300 &  92.6 & 69.5 & 174.5 & 3.032 & 17.0 & 21 & 12/21/2012 & 134.39098\\\\\n\t127 & Porsche    & Carrera Cabrio &   1.866 & 67.550 & Passenger & 74.970 & 3.4 & 300 &  92.6 & 69.5 & 174.5 & 3.075 & 17.0 & 23 & 07-11-2011 & 135.91471\\\\\n\t130 & Saturn     & SL             &  80.620 &  9.200 & Passenger & 10.685 & 1.9 & 100 & 102.4 & 66.4 & 176.9 & 2.332 & 12.1 & 33 & 8/16/2012  &  39.98642\\\\\n\t131 & Saturn     & SC             &  24.546 & 10.590 & Passenger & 12.535 & 1.9 & 100 & 102.4 & 66.4 & 180.0 & 2.367 & 12.1 & 33 & 3/16/2011  &  40.70007\\\\\n\t132 & Saturn     & SW             &   5.223 & 10.790 & Passenger & 14.290 & 1.9 & 124 & 102.4 & 66.4 & 176.9 & 2.452 & 12.1 & 31 & 1/15/2011  &  49.86577\\\\\n\t137 & Toyota     & Corolla        & 142.535 & 10.025 & Passenger & 13.108 & 1.8 & 120 &  97.0 & 66.7 & 174.0 & 2.420 & 13.2 & 33 & 04-11-2011 &  47.96897\\\\\n\t138 & Toyota     & Camry          & 247.994 & 13.245 & Passenger & 17.518 & 2.2 & 133 & 105.2 & 70.1 & 188.5 & 2.998 & 18.5 & 27 & 02-10-2011 &  54.37242\\\\\n\t139 & Toyota     & Avalon         &  63.849 & 18.140 & Passenger & 25.545 & 3.0 & 210 & 107.1 & 71.7 & 191.9 & 3.417 & 18.5 & 26 & 8/31/2011  &  84.91190\\\\\n\t140 & Toyota     & Celica         &  33.269 & 15.445 & Passenger & 16.875 & 1.8 & 140 & 102.4 & 68.3 & 170.5 & 2.425 & 14.5 & 31 & 12/29/2012 &  56.49603\\\\\n\t141 & Toyota     & Tacoma         &  84.087 &  9.575 & Car       & 11.528 & 2.4 & 142 & 103.3 & 66.5 & 178.7 & 2.580 & 15.1 & 23 & 08-01-2011 &  55.29712\\\\\n\t143 & Toyota     & RAV4           &  25.106 & 13.325 & Car       & 16.888 & 2.0 & 127 &  94.9 & 66.7 & 163.8 & 2.668 & 15.3 & 27 & 05-06-2011 &  51.95511\\\\\n\t144 & Toyota     & 4Runner        &  68.411 & 19.425 & Car       & 22.288 & 2.7 & 150 & 105.3 & 66.5 & 183.3 & 3.440 & 18.5 & 23 & 03-07-2011 &  62.35558\\\\\n\t145 & Toyota     & Land Cruiser   &   9.835 & 34.080 & Car       & 51.728 & 4.7 & 230 & 112.2 & 76.4 & 192.5 & 5.115 & 25.4 & 15 & 9/25/2011  & 102.52898\\\\\n\t146 & Volkswagen & Golf           &   9.761 & 11.425 & Passenger & 14.900 & 2.0 & 115 &  98.9 & 68.3 & 163.3 & 2.767 & 14.5 & 26 & 1/24/2011  &  46.94388\\\\\n\t147 & Volkswagen & Jetta          &  83.721 & 13.240 & Passenger & 16.700 & 2.0 & 115 &  98.9 & 68.3 & 172.3 & 2.853 & 14.5 & 26 & 8/27/2011  &  47.63824\\\\\n\t148 & Volkswagen & Passat         &  51.102 & 16.725 & Passenger & 21.200 & 1.8 & 150 & 106.4 & 68.5 & 184.1 & 3.043 & 16.4 & 27 & 10/30/2012 &  61.70138\\\\\n\t149 & Volkswagen & Cabrio         &   9.569 & 16.575 & Passenger & 19.990 & 2.0 & 115 &  97.4 & 66.7 & 160.4 & 3.079 & 13.7 & 26 & 5/31/2011  &  48.90737\\\\\n\t150 & Volkswagen & GTI            &   5.596 & 13.760 & Passenger & 17.500 & 2.0 & 115 &  98.9 & 68.3 & 163.3 & 2.762 & 14.6 & 26 & 04-01-2011 &  47.94684\\\\\n\\end{tabular}\n",
            "text/plain": [
              "    Manufacturer Model          Sales_in_thousands X__year_resale_value\n",
              "1   Acura        Integra         16.919            16.360              \n",
              "2   Acura        TL              39.384            19.875              \n",
              "4   Acura        RL               8.588            29.725              \n",
              "5   Audi         A4              20.397            22.255              \n",
              "6   Audi         A6              18.780            23.555              \n",
              "7   Audi         A8               1.380            39.000              \n",
              "9   BMW          328i             9.231            28.675              \n",
              "10  BMW          528i            17.527            36.125              \n",
              "11  Buick        Century         91.561            12.475              \n",
              "12  Buick        Regal           39.350            13.740              \n",
              "13  Buick        Park Avenue     27.851            20.190              \n",
              "14  Buick        LeSabre         83.257            13.360              \n",
              "15  Cadillac     DeVille         63.729            22.525              \n",
              "17  Cadillac     Eldorado         6.536            25.725              \n",
              "18  Cadillac     Catera          11.185            18.225              \n",
              "20  Chevrolet    Cavalier       145.519             9.250              \n",
              "21  Chevrolet    Malibu         135.126            11.225              \n",
              "22  Chevrolet    Lumina          24.629            10.310              \n",
              "23  Chevrolet    Monte Carlo     42.593            11.525              \n",
              "24  Chevrolet    Camaro          26.402            13.025              \n",
              "25  Chevrolet    Corvette        17.947            36.225              \n",
              "26  Chevrolet    Prizm           32.299             9.125              \n",
              "27  Chevrolet    Metro           21.855             5.160              \n",
              "29  Chrysler     Sebring Coupe    7.854            12.360              \n",
              "30  Chrysler     Sebring Conv.   32.775            14.180              \n",
              "31  Chrysler     Concorde        31.148            13.725              \n",
              "32  Chrysler     Cirrus          32.306            12.640              \n",
              "33  Chrysler     LHS             13.462            17.325              \n",
              "36  Dodge        Neon            76.034             7.750              \n",
              "37  Dodge        Avenger          4.734            12.545              \n",
              "⋮   ⋮            ⋮              ⋮                  ⋮                   \n",
              "112 Oldsmobile   Aurora          14.690            19.890              \n",
              "113 Oldsmobile   Bravada         20.017            19.925              \n",
              "114 Oldsmobile   Silhouette      24.361            15.240              \n",
              "115 Plymouth     Neon            32.734             7.750              \n",
              "116 Plymouth     Breeze           5.240             9.800              \n",
              "117 Plymouth     Voyager         24.155            12.025              \n",
              "119 Pontiac      Sunfire         51.645            13.790              \n",
              "120 Pontiac      Grand Am       131.097            10.290              \n",
              "121 Pontiac      Firebird        19.911            17.805              \n",
              "122 Pontiac      Grand Prix      92.364            14.010              \n",
              "123 Pontiac      Bonneville      35.945            13.225              \n",
              "125 Porsche      Boxter           8.982            41.250              \n",
              "126 Porsche      Carrera Coupe    1.280            60.625              \n",
              "127 Porsche      Carrera Cabrio   1.866            67.550              \n",
              "130 Saturn       SL              80.620             9.200              \n",
              "131 Saturn       SC              24.546            10.590              \n",
              "132 Saturn       SW               5.223            10.790              \n",
              "137 Toyota       Corolla        142.535            10.025              \n",
              "138 Toyota       Camry          247.994            13.245              \n",
              "139 Toyota       Avalon          63.849            18.140              \n",
              "140 Toyota       Celica          33.269            15.445              \n",
              "141 Toyota       Tacoma          84.087             9.575              \n",
              "143 Toyota       RAV4            25.106            13.325              \n",
              "144 Toyota       4Runner         68.411            19.425              \n",
              "145 Toyota       Land Cruiser     9.835            34.080              \n",
              "146 Volkswagen   Golf             9.761            11.425              \n",
              "147 Volkswagen   Jetta           83.721            13.240              \n",
              "148 Volkswagen   Passat          51.102            16.725              \n",
              "149 Volkswagen   Cabrio           9.569            16.575              \n",
              "150 Volkswagen   GTI              5.596            13.760              \n",
              "    Vehicle_type Price_in_thousands Engine_size Horsepower Wheelbase Width\n",
              "1   Passenger    21.500             1.8         140        101.2     67.3 \n",
              "2   Passenger    28.400             3.2         225        108.1     70.3 \n",
              "4   Passenger    42.000             3.5         210        114.6     71.4 \n",
              "5   Passenger    23.990             1.8         150        102.6     68.2 \n",
              "6   Passenger    33.950             2.8         200        108.7     76.1 \n",
              "7   Passenger    62.000             4.2         310        113.0     74.0 \n",
              "9   Passenger    33.400             2.8         193        107.3     68.5 \n",
              "10  Passenger    38.900             2.8         193        111.4     70.9 \n",
              "11  Passenger    21.975             3.1         175        109.0     72.7 \n",
              "12  Passenger    25.300             3.8         240        109.0     72.7 \n",
              "13  Passenger    31.965             3.8         205        113.8     74.7 \n",
              "14  Passenger    27.885             3.8         205        112.2     73.5 \n",
              "15  Passenger    39.895             4.6         275        115.3     74.5 \n",
              "17  Passenger    39.665             4.6         275        108.0     75.5 \n",
              "18  Passenger    31.010             3.0         200        107.4     70.3 \n",
              "20  Passenger    13.260             2.2         115        104.1     67.9 \n",
              "21  Passenger    16.535             3.1         170        107.0     69.4 \n",
              "22  Passenger    18.890             3.1         175        107.5     72.5 \n",
              "23  Passenger    19.390             3.4         180        110.5     72.7 \n",
              "24  Passenger    24.340             3.8         200        101.1     74.1 \n",
              "25  Passenger    45.705             5.7         345        104.5     73.6 \n",
              "26  Passenger    13.960             1.8         120         97.1     66.7 \n",
              "27  Passenger     9.235             1.0          55         93.1     62.6 \n",
              "29  Passenger    19.840             2.5         163        103.7     69.7 \n",
              "30  Passenger    24.495             2.5         168        106.0     69.2 \n",
              "31  Passenger    22.245             2.7         200        113.0     74.4 \n",
              "32  Passenger    16.480             2.0         132        108.0     71.0 \n",
              "33  Passenger    28.340             3.5         253        113.0     74.4 \n",
              "36  Passenger    12.640             2.0         132        105.0     74.4 \n",
              "37  Passenger    19.045             2.5         163        103.7     69.1 \n",
              "⋮   ⋮            ⋮                  ⋮           ⋮          ⋮         ⋮    \n",
              "112 Passenger    36.229             4.0         250        113.8     74.4 \n",
              "113 Car          31.598             4.3         190        107.0     67.8 \n",
              "114 Car          25.345             3.4         185        120.0     72.2 \n",
              "115 Passenger    12.640             2.0         132        105.0     74.4 \n",
              "116 Passenger    16.080             2.0         132        108.0     71.0 \n",
              "117 Car          18.850             2.4         150        113.3     76.8 \n",
              "119 Passenger    21.610             2.4         150        104.1     68.4 \n",
              "120 Passenger    19.720             3.4         175        107.0     70.4 \n",
              "121 Passenger    25.310             3.8         200        101.1     74.5 \n",
              "122 Passenger    21.665             3.8         195        110.5     72.7 \n",
              "123 Passenger    23.755             3.8         205        112.2     72.6 \n",
              "125 Passenger    41.430             2.7         217         95.2     70.1 \n",
              "126 Passenger    71.020             3.4         300         92.6     69.5 \n",
              "127 Passenger    74.970             3.4         300         92.6     69.5 \n",
              "130 Passenger    10.685             1.9         100        102.4     66.4 \n",
              "131 Passenger    12.535             1.9         100        102.4     66.4 \n",
              "132 Passenger    14.290             1.9         124        102.4     66.4 \n",
              "137 Passenger    13.108             1.8         120         97.0     66.7 \n",
              "138 Passenger    17.518             2.2         133        105.2     70.1 \n",
              "139 Passenger    25.545             3.0         210        107.1     71.7 \n",
              "140 Passenger    16.875             1.8         140        102.4     68.3 \n",
              "141 Car          11.528             2.4         142        103.3     66.5 \n",
              "143 Car          16.888             2.0         127         94.9     66.7 \n",
              "144 Car          22.288             2.7         150        105.3     66.5 \n",
              "145 Car          51.728             4.7         230        112.2     76.4 \n",
              "146 Passenger    14.900             2.0         115         98.9     68.3 \n",
              "147 Passenger    16.700             2.0         115         98.9     68.3 \n",
              "148 Passenger    21.200             1.8         150        106.4     68.5 \n",
              "149 Passenger    19.990             2.0         115         97.4     66.7 \n",
              "150 Passenger    17.500             2.0         115         98.9     68.3 \n",
              "    Length Curb_weight Fuel_capacity Fuel_efficiency Latest_Launch\n",
              "1   172.4  2.639       13.2          28              02-02-2012   \n",
              "2   192.9  3.517       17.2          25              06-03-2011   \n",
              "4   196.6  3.850       18.0          22              03-10-2011   \n",
              "5   178.0  2.998       16.4          27              10-08-2011   \n",
              "6   192.0  3.561       18.5          22              08-09-2011   \n",
              "7   198.2  3.902       23.7          21              2/27/2012    \n",
              "9   176.0  3.197       16.6          24              1/29/2012    \n",
              "10  188.0  3.472       18.5          25              04-04-2011   \n",
              "11  194.6  3.368       17.5          25              11-02-2011   \n",
              "12  196.2  3.543       17.5          23              09-03-2011   \n",
              "13  206.8  3.778       18.5          24              3/23/2012    \n",
              "14  200.0  3.591       17.5          25              7/23/2011    \n",
              "15  207.2  3.978       18.5          22              2/23/2012    \n",
              "17  200.6  3.843       19.0          22              11/27/2011   \n",
              "18  194.8  3.770       18.0          22              9/28/2011    \n",
              "20  180.9  2.676       14.3          27              8/17/2011    \n",
              "21  190.4  3.051       15.0          25              3/19/2012    \n",
              "22  200.9  3.330       16.6          25              5/24/2011    \n",
              "23  197.9  3.340       17.0          27              12/22/2011   \n",
              "24  193.2  3.500       16.8          25              10/23/2011   \n",
              "25  179.7  3.210       19.1          22              05-12-2012   \n",
              "26  174.3  2.398       13.2          33              09-11-2011   \n",
              "27  149.4  1.895       10.3          45              4/13/2012    \n",
              "29  190.9  2.967       15.9          24              1/16/2012    \n",
              "30  193.0  3.332       16.0          24              11/17/2011   \n",
              "31  209.1  3.452       17.0          26              06-06-2012   \n",
              "32  186.0  2.911       16.0          27              10-06-2011   \n",
              "33  207.7  3.564       17.0          23              05-08-2012   \n",
              "36  174.4  2.567       12.5          29              12-12-2011   \n",
              "37  190.2  2.879       15.9          24              07-01-2012   \n",
              "⋮   ⋮      ⋮           ⋮             ⋮               ⋮            \n",
              "112 205.4  3.967       18.5          22              2/18/2011    \n",
              "113 181.2  4.068       17.5          19              9/21/2011    \n",
              "114 201.4  3.948       25.0          22              6/25/2011    \n",
              "115 174.4  2.559       12.5          29              4/26/2011    \n",
              "116 186.3  2.942       16.0          27              11/14/2011   \n",
              "117 186.3  3.528       20.0          24              4/24/2011    \n",
              "119 181.9  2.906       15.0          27              1/25/2012    \n",
              "120 186.3  3.091       15.2          25              11/26/2012   \n",
              "121 193.4  3.492       16.8          25              6/16/2012    \n",
              "122 196.5  3.396       18.0          25              10/15/2012   \n",
              "123 202.5  3.590       17.5          24              5/18/2011    \n",
              "125 171.0  2.778       17.0          22              2/19/2012    \n",
              "126 174.5  3.032       17.0          21              12/21/2012   \n",
              "127 174.5  3.075       17.0          23              07-11-2011   \n",
              "130 176.9  2.332       12.1          33              8/16/2012    \n",
              "131 180.0  2.367       12.1          33              3/16/2011    \n",
              "132 176.9  2.452       12.1          31              1/15/2011    \n",
              "137 174.0  2.420       13.2          33              04-11-2011   \n",
              "138 188.5  2.998       18.5          27              02-10-2011   \n",
              "139 191.9  3.417       18.5          26              8/31/2011    \n",
              "140 170.5  2.425       14.5          31              12/29/2012   \n",
              "141 178.7  2.580       15.1          23              08-01-2011   \n",
              "143 163.8  2.668       15.3          27              05-06-2011   \n",
              "144 183.3  3.440       18.5          23              03-07-2011   \n",
              "145 192.5  5.115       25.4          15              9/25/2011    \n",
              "146 163.3  2.767       14.5          26              1/24/2011    \n",
              "147 172.3  2.853       14.5          26              8/27/2011    \n",
              "148 184.1  3.043       16.4          27              10/30/2012   \n",
              "149 160.4  3.079       13.7          26              5/31/2011    \n",
              "150 163.3  2.762       14.6          26              04-01-2011   \n",
              "    Power_perf_factor\n",
              "1    58.28015        \n",
              "2    91.37078        \n",
              "4    91.38978        \n",
              "5    62.77764        \n",
              "6    84.56511        \n",
              "7   134.65686        \n",
              "9    81.87707        \n",
              "10   83.99872        \n",
              "11   71.18145        \n",
              "12   95.63670        \n",
              "13   85.82841        \n",
              "14   84.25453        \n",
              "15  113.85460        \n",
              "17  113.76587        \n",
              "18   83.48309        \n",
              "20   46.36335        \n",
              "21   67.31446        \n",
              "22   69.99140        \n",
              "23   72.03092        \n",
              "24   81.11854        \n",
              "25  141.14115        \n",
              "26   48.29764        \n",
              "27   23.27627        \n",
              "29   65.95718        \n",
              "30   69.52136        \n",
              "31   80.02378        \n",
              "32   53.56620        \n",
              "33  101.32928        \n",
              "36   52.08490        \n",
              "37   65.65051        \n",
              "⋮   ⋮                \n",
              "112 103.44169        \n",
              "113  80.51167        \n",
              "114  76.09657        \n",
              "115  52.08490        \n",
              "116  53.41190        \n",
              "117  60.95119        \n",
              "119  62.01587        \n",
              "120  70.38974        \n",
              "121  81.49273        \n",
              "122  78.31817        \n",
              "123  82.66136        \n",
              "125  93.43733        \n",
              "126 134.39098        \n",
              "127 135.91471        \n",
              "130  39.98642        \n",
              "131  40.70007        \n",
              "132  49.86577        \n",
              "137  47.96897        \n",
              "138  54.37242        \n",
              "139  84.91190        \n",
              "140  56.49603        \n",
              "141  55.29712        \n",
              "143  51.95511        \n",
              "144  62.35558        \n",
              "145 102.52898        \n",
              "146  46.94388        \n",
              "147  47.63824        \n",
              "148  61.70138        \n",
              "149  48.90737        \n",
              "150  47.94684        "
            ]
          },
          "metadata": {}
        }
      ]
    },
    {
      "cell_type": "code",
      "source": [
        "sum(is.na(car))"
      ],
      "metadata": {
        "colab": {
          "base_uri": "https://localhost:8080/",
          "height": 34
        },
        "id": "uYBEfWU_OAVR",
        "outputId": "7ef50bf8-773e-4403-944f-6629be529a5b"
      },
      "execution_count": null,
      "outputs": [
        {
          "output_type": "display_data",
          "data": {
            "text/html": [
              "0"
            ],
            "text/markdown": "0",
            "text/latex": "0",
            "text/plain": [
              "[1] 0"
            ]
          },
          "metadata": {}
        }
      ]
    },
    {
      "cell_type": "code",
      "source": [
        "dim(car)"
      ],
      "metadata": {
        "colab": {
          "base_uri": "https://localhost:8080/",
          "height": 34
        },
        "id": "YuZGeUhmOMYp",
        "outputId": "7fa95a3c-b1e9-43de-f462-a8c083404cc0"
      },
      "execution_count": null,
      "outputs": [
        {
          "output_type": "display_data",
          "data": {
            "text/html": [
              "<style>\n",
              ".list-inline {list-style: none; margin:0; padding: 0}\n",
              ".list-inline>li {display: inline-block}\n",
              ".list-inline>li:not(:last-child)::after {content: \"\\00b7\"; padding: 0 .5ex}\n",
              "</style>\n",
              "<ol class=list-inline><li>117</li><li>16</li></ol>\n"
            ],
            "text/markdown": "1. 117\n2. 16\n\n\n",
            "text/latex": "\\begin{enumerate*}\n\\item 117\n\\item 16\n\\end{enumerate*}\n",
            "text/plain": [
              "[1] 117  16"
            ]
          },
          "metadata": {}
        }
      ]
    },
    {
      "cell_type": "code",
      "source": [
        "# Chech Data Structure\n",
        "str(car)"
      ],
      "metadata": {
        "colab": {
          "base_uri": "https://localhost:8080/"
        },
        "id": "0y9oP1AvYyN_",
        "outputId": "d5ba60f3-fd0d-42c0-9df8-73426254f5ac"
      },
      "execution_count": null,
      "outputs": [
        {
          "output_type": "stream",
          "name": "stdout",
          "text": [
            "'data.frame':\t117 obs. of  16 variables:\n",
            " $ Manufacturer        : chr  \"Acura\" \"Acura\" \"Acura\" \"Audi\" ...\n",
            " $ Model               : chr  \"Integra\" \"TL\" \"RL\" \"A4\" ...\n",
            " $ Sales_in_thousands  : num  16.92 39.38 8.59 20.4 18.78 ...\n",
            " $ X__year_resale_value: num  16.4 19.9 29.7 22.3 23.6 ...\n",
            " $ Vehicle_type        : chr  \"Passenger\" \"Passenger\" \"Passenger\" \"Passenger\" ...\n",
            " $ Price_in_thousands  : num  21.5 28.4 42 24 34 ...\n",
            " $ Engine_size         : num  1.8 3.2 3.5 1.8 2.8 4.2 2.8 2.8 3.1 3.8 ...\n",
            " $ Horsepower          : int  140 225 210 150 200 310 193 193 175 240 ...\n",
            " $ Wheelbase           : num  101 108 115 103 109 ...\n",
            " $ Width               : num  67.3 70.3 71.4 68.2 76.1 74 68.5 70.9 72.7 72.7 ...\n",
            " $ Length              : num  172 193 197 178 192 ...\n",
            " $ Curb_weight         : num  2.64 3.52 3.85 3 3.56 ...\n",
            " $ Fuel_capacity       : num  13.2 17.2 18 16.4 18.5 23.7 16.6 18.5 17.5 17.5 ...\n",
            " $ Fuel_efficiency     : int  28 25 22 27 22 21 24 25 25 23 ...\n",
            " $ Latest_Launch       : chr  \"02-02-2012\" \"06-03-2011\" \"03-10-2011\" \"10-08-2011\" ...\n",
            " $ Power_perf_factor   : num  58.3 91.4 91.4 62.8 84.6 ...\n",
            " - attr(*, \"na.action\")= 'omit' Named int [1:40] 3 8 16 19 28 34 35 39 45 51 ...\n",
            "  ..- attr(*, \"names\")= chr [1:40] \"3\" \"8\" \"16\" \"19\" ...\n"
          ]
        }
      ]
    },
    {
      "cell_type": "code",
      "source": [
        "# Change Datatype of Column\n",
        "car <- car %>%\n",
        "  mutate(Date_Column = as.Date(Latest_Launch, format = \"%Y-%m-%d\"))"
      ],
      "metadata": {
        "id": "o__nq1RFY5kR"
      },
      "execution_count": null,
      "outputs": []
    },
    {
      "cell_type": "code",
      "source": [
        "str(car)"
      ],
      "metadata": {
        "colab": {
          "base_uri": "https://localhost:8080/"
        },
        "id": "XUzUjd0iZxjm",
        "outputId": "8b8b1f81-f3b3-468a-e88d-69777275a771"
      },
      "execution_count": null,
      "outputs": [
        {
          "output_type": "stream",
          "name": "stdout",
          "text": [
            "'data.frame':\t117 obs. of  17 variables:\n",
            " $ Manufacturer        : chr  \"Acura\" \"Acura\" \"Acura\" \"Audi\" ...\n",
            " $ Model               : chr  \"Integra\" \"TL\" \"RL\" \"A4\" ...\n",
            " $ Sales_in_thousands  : num  16.92 39.38 8.59 20.4 18.78 ...\n",
            " $ X__year_resale_value: num  16.4 19.9 29.7 22.3 23.6 ...\n",
            " $ Vehicle_type        : chr  \"Passenger\" \"Passenger\" \"Passenger\" \"Passenger\" ...\n",
            " $ Price_in_thousands  : num  21.5 28.4 42 24 34 ...\n",
            " $ Engine_size         : num  1.8 3.2 3.5 1.8 2.8 4.2 2.8 2.8 3.1 3.8 ...\n",
            " $ Horsepower          : int  140 225 210 150 200 310 193 193 175 240 ...\n",
            " $ Wheelbase           : num  101 108 115 103 109 ...\n",
            " $ Width               : num  67.3 70.3 71.4 68.2 76.1 74 68.5 70.9 72.7 72.7 ...\n",
            " $ Length              : num  172 193 197 178 192 ...\n",
            " $ Curb_weight         : num  2.64 3.52 3.85 3 3.56 ...\n",
            " $ Fuel_capacity       : num  13.2 17.2 18 16.4 18.5 23.7 16.6 18.5 17.5 17.5 ...\n",
            " $ Fuel_efficiency     : int  28 25 22 27 22 21 24 25 25 23 ...\n",
            " $ Latest_Launch       : chr  \"02-02-2012\" \"06-03-2011\" \"03-10-2011\" \"10-08-2011\" ...\n",
            " $ Power_perf_factor   : num  58.3 91.4 91.4 62.8 84.6 ...\n",
            " $ Date_Column         : Date, format: \"2-02-20\" \"6-03-20\" ...\n",
            " - attr(*, \"na.action\")= 'omit' Named int [1:40] 3 8 16 19 28 34 35 39 45 51 ...\n",
            "  ..- attr(*, \"names\")= chr [1:40] \"3\" \"8\" \"16\" \"19\" ...\n"
          ]
        }
      ]
    },
    {
      "cell_type": "code",
      "source": [
        "head(car)"
      ],
      "metadata": {
        "colab": {
          "base_uri": "https://localhost:8080/",
          "height": 306
        },
        "id": "ZyxwQHYDOTdw",
        "outputId": "a77bcbac-8238-4c96-89ea-091130b46a82"
      },
      "execution_count": null,
      "outputs": [
        {
          "output_type": "display_data",
          "data": {
            "text/html": [
              "<table class=\"dataframe\">\n",
              "<caption>A data.frame: 6 × 17</caption>\n",
              "<thead>\n",
              "\t<tr><th></th><th scope=col>Manufacturer</th><th scope=col>Model</th><th scope=col>Sales_in_thousands</th><th scope=col>X__year_resale_value</th><th scope=col>Vehicle_type</th><th scope=col>Price_in_thousands</th><th scope=col>Engine_size</th><th scope=col>Horsepower</th><th scope=col>Wheelbase</th><th scope=col>Width</th><th scope=col>Length</th><th scope=col>Curb_weight</th><th scope=col>Fuel_capacity</th><th scope=col>Fuel_efficiency</th><th scope=col>Latest_Launch</th><th scope=col>Power_perf_factor</th><th scope=col>Date_Column</th></tr>\n",
              "\t<tr><th></th><th scope=col>&lt;chr&gt;</th><th scope=col>&lt;chr&gt;</th><th scope=col>&lt;dbl&gt;</th><th scope=col>&lt;dbl&gt;</th><th scope=col>&lt;chr&gt;</th><th scope=col>&lt;dbl&gt;</th><th scope=col>&lt;dbl&gt;</th><th scope=col>&lt;int&gt;</th><th scope=col>&lt;dbl&gt;</th><th scope=col>&lt;dbl&gt;</th><th scope=col>&lt;dbl&gt;</th><th scope=col>&lt;dbl&gt;</th><th scope=col>&lt;dbl&gt;</th><th scope=col>&lt;int&gt;</th><th scope=col>&lt;chr&gt;</th><th scope=col>&lt;dbl&gt;</th><th scope=col>&lt;date&gt;</th></tr>\n",
              "</thead>\n",
              "<tbody>\n",
              "\t<tr><th scope=row>1</th><td>Acura</td><td>Integra</td><td>16.919</td><td>16.360</td><td>Passenger</td><td>21.50</td><td>1.8</td><td>140</td><td>101.2</td><td>67.3</td><td>172.4</td><td>2.639</td><td>13.2</td><td>28</td><td>02-02-2012</td><td> 58.28015</td><td>2-02-20</td></tr>\n",
              "\t<tr><th scope=row>2</th><td>Acura</td><td>TL     </td><td>39.384</td><td>19.875</td><td>Passenger</td><td>28.40</td><td>3.2</td><td>225</td><td>108.1</td><td>70.3</td><td>192.9</td><td>3.517</td><td>17.2</td><td>25</td><td>06-03-2011</td><td> 91.37078</td><td>6-03-20</td></tr>\n",
              "\t<tr><th scope=row>4</th><td>Acura</td><td>RL     </td><td> 8.588</td><td>29.725</td><td>Passenger</td><td>42.00</td><td>3.5</td><td>210</td><td>114.6</td><td>71.4</td><td>196.6</td><td>3.850</td><td>18.0</td><td>22</td><td>03-10-2011</td><td> 91.38978</td><td>3-10-20</td></tr>\n",
              "\t<tr><th scope=row>5</th><td>Audi </td><td>A4     </td><td>20.397</td><td>22.255</td><td>Passenger</td><td>23.99</td><td>1.8</td><td>150</td><td>102.6</td><td>68.2</td><td>178.0</td><td>2.998</td><td>16.4</td><td>27</td><td>10-08-2011</td><td> 62.77764</td><td>10-08-20</td></tr>\n",
              "\t<tr><th scope=row>6</th><td>Audi </td><td>A6     </td><td>18.780</td><td>23.555</td><td>Passenger</td><td>33.95</td><td>2.8</td><td>200</td><td>108.7</td><td>76.1</td><td>192.0</td><td>3.561</td><td>18.5</td><td>22</td><td>08-09-2011</td><td> 84.56511</td><td>8-09-20</td></tr>\n",
              "\t<tr><th scope=row>7</th><td>Audi </td><td>A8     </td><td> 1.380</td><td>39.000</td><td>Passenger</td><td>62.00</td><td>4.2</td><td>310</td><td>113.0</td><td>74.0</td><td>198.2</td><td>3.902</td><td>23.7</td><td>21</td><td>2/27/2012 </td><td>134.65686</td><td>NA</td></tr>\n",
              "</tbody>\n",
              "</table>\n"
            ],
            "text/markdown": "\nA data.frame: 6 × 17\n\n| <!--/--> | Manufacturer &lt;chr&gt; | Model &lt;chr&gt; | Sales_in_thousands &lt;dbl&gt; | X__year_resale_value &lt;dbl&gt; | Vehicle_type &lt;chr&gt; | Price_in_thousands &lt;dbl&gt; | Engine_size &lt;dbl&gt; | Horsepower &lt;int&gt; | Wheelbase &lt;dbl&gt; | Width &lt;dbl&gt; | Length &lt;dbl&gt; | Curb_weight &lt;dbl&gt; | Fuel_capacity &lt;dbl&gt; | Fuel_efficiency &lt;int&gt; | Latest_Launch &lt;chr&gt; | Power_perf_factor &lt;dbl&gt; | Date_Column &lt;date&gt; |\n|---|---|---|---|---|---|---|---|---|---|---|---|---|---|---|---|---|---|\n| 1 | Acura | Integra | 16.919 | 16.360 | Passenger | 21.50 | 1.8 | 140 | 101.2 | 67.3 | 172.4 | 2.639 | 13.2 | 28 | 02-02-2012 |  58.28015 | 2-02-20 |\n| 2 | Acura | TL      | 39.384 | 19.875 | Passenger | 28.40 | 3.2 | 225 | 108.1 | 70.3 | 192.9 | 3.517 | 17.2 | 25 | 06-03-2011 |  91.37078 | 6-03-20 |\n| 4 | Acura | RL      |  8.588 | 29.725 | Passenger | 42.00 | 3.5 | 210 | 114.6 | 71.4 | 196.6 | 3.850 | 18.0 | 22 | 03-10-2011 |  91.38978 | 3-10-20 |\n| 5 | Audi  | A4      | 20.397 | 22.255 | Passenger | 23.99 | 1.8 | 150 | 102.6 | 68.2 | 178.0 | 2.998 | 16.4 | 27 | 10-08-2011 |  62.77764 | 10-08-20 |\n| 6 | Audi  | A6      | 18.780 | 23.555 | Passenger | 33.95 | 2.8 | 200 | 108.7 | 76.1 | 192.0 | 3.561 | 18.5 | 22 | 08-09-2011 |  84.56511 | 8-09-20 |\n| 7 | Audi  | A8      |  1.380 | 39.000 | Passenger | 62.00 | 4.2 | 310 | 113.0 | 74.0 | 198.2 | 3.902 | 23.7 | 21 | 2/27/2012  | 134.65686 | NA |\n\n",
            "text/latex": "A data.frame: 6 × 17\n\\begin{tabular}{r|lllllllllllllllll}\n  & Manufacturer & Model & Sales\\_in\\_thousands & X\\_\\_year\\_resale\\_value & Vehicle\\_type & Price\\_in\\_thousands & Engine\\_size & Horsepower & Wheelbase & Width & Length & Curb\\_weight & Fuel\\_capacity & Fuel\\_efficiency & Latest\\_Launch & Power\\_perf\\_factor & Date\\_Column\\\\\n  & <chr> & <chr> & <dbl> & <dbl> & <chr> & <dbl> & <dbl> & <int> & <dbl> & <dbl> & <dbl> & <dbl> & <dbl> & <int> & <chr> & <dbl> & <date>\\\\\n\\hline\n\t1 & Acura & Integra & 16.919 & 16.360 & Passenger & 21.50 & 1.8 & 140 & 101.2 & 67.3 & 172.4 & 2.639 & 13.2 & 28 & 02-02-2012 &  58.28015 & 2-02-20\\\\\n\t2 & Acura & TL      & 39.384 & 19.875 & Passenger & 28.40 & 3.2 & 225 & 108.1 & 70.3 & 192.9 & 3.517 & 17.2 & 25 & 06-03-2011 &  91.37078 & 6-03-20\\\\\n\t4 & Acura & RL      &  8.588 & 29.725 & Passenger & 42.00 & 3.5 & 210 & 114.6 & 71.4 & 196.6 & 3.850 & 18.0 & 22 & 03-10-2011 &  91.38978 & 3-10-20\\\\\n\t5 & Audi  & A4      & 20.397 & 22.255 & Passenger & 23.99 & 1.8 & 150 & 102.6 & 68.2 & 178.0 & 2.998 & 16.4 & 27 & 10-08-2011 &  62.77764 & 10-08-20\\\\\n\t6 & Audi  & A6      & 18.780 & 23.555 & Passenger & 33.95 & 2.8 & 200 & 108.7 & 76.1 & 192.0 & 3.561 & 18.5 & 22 & 08-09-2011 &  84.56511 & 8-09-20\\\\\n\t7 & Audi  & A8      &  1.380 & 39.000 & Passenger & 62.00 & 4.2 & 310 & 113.0 & 74.0 & 198.2 & 3.902 & 23.7 & 21 & 2/27/2012  & 134.65686 & NA\\\\\n\\end{tabular}\n",
            "text/plain": [
              "  Manufacturer Model   Sales_in_thousands X__year_resale_value Vehicle_type\n",
              "1 Acura        Integra 16.919             16.360               Passenger   \n",
              "2 Acura        TL      39.384             19.875               Passenger   \n",
              "4 Acura        RL       8.588             29.725               Passenger   \n",
              "5 Audi         A4      20.397             22.255               Passenger   \n",
              "6 Audi         A6      18.780             23.555               Passenger   \n",
              "7 Audi         A8       1.380             39.000               Passenger   \n",
              "  Price_in_thousands Engine_size Horsepower Wheelbase Width Length Curb_weight\n",
              "1 21.50              1.8         140        101.2     67.3  172.4  2.639      \n",
              "2 28.40              3.2         225        108.1     70.3  192.9  3.517      \n",
              "4 42.00              3.5         210        114.6     71.4  196.6  3.850      \n",
              "5 23.99              1.8         150        102.6     68.2  178.0  2.998      \n",
              "6 33.95              2.8         200        108.7     76.1  192.0  3.561      \n",
              "7 62.00              4.2         310        113.0     74.0  198.2  3.902      \n",
              "  Fuel_capacity Fuel_efficiency Latest_Launch Power_perf_factor Date_Column\n",
              "1 13.2          28              02-02-2012     58.28015         2-02-20    \n",
              "2 17.2          25              06-03-2011     91.37078         6-03-20    \n",
              "4 18.0          22              03-10-2011     91.38978         3-10-20    \n",
              "5 16.4          27              10-08-2011     62.77764         10-08-20   \n",
              "6 18.5          22              08-09-2011     84.56511         8-09-20    \n",
              "7 23.7          21              2/27/2012     134.65686         <NA>       "
            ]
          },
          "metadata": {}
        }
      ]
    },
    {
      "cell_type": "code",
      "source": [
        "# group same Manufacturer and then find count\n",
        "count(car %>% group_by(Manufacturer))"
      ],
      "metadata": {
        "colab": {
          "base_uri": "https://localhost:8080/",
          "height": 913
        },
        "id": "0Dgh2qMEOhdB",
        "outputId": "2c73b00b-2315-469b-8da0-0fab0458bca3"
      },
      "execution_count": null,
      "outputs": [
        {
          "output_type": "display_data",
          "data": {
            "text/html": [
              "<table class=\"dataframe\">\n",
              "<caption>A grouped_df: 26 × 2</caption>\n",
              "<thead>\n",
              "\t<tr><th scope=col>Manufacturer</th><th scope=col>n</th></tr>\n",
              "\t<tr><th scope=col>&lt;chr&gt;</th><th scope=col>&lt;int&gt;</th></tr>\n",
              "</thead>\n",
              "<tbody>\n",
              "\t<tr><td>Acura     </td><td> 3</td></tr>\n",
              "\t<tr><td>Audi      </td><td> 3</td></tr>\n",
              "\t<tr><td>BMW       </td><td> 2</td></tr>\n",
              "\t<tr><td>Buick     </td><td> 4</td></tr>\n",
              "\t<tr><td>Cadillac  </td><td> 3</td></tr>\n",
              "\t<tr><td>Chevrolet </td><td> 8</td></tr>\n",
              "\t<tr><td>Chrysler  </td><td> 5</td></tr>\n",
              "\t<tr><td>Dodge     </td><td> 9</td></tr>\n",
              "\t<tr><td>Ford      </td><td>10</td></tr>\n",
              "\t<tr><td>Honda     </td><td> 5</td></tr>\n",
              "\t<tr><td>Hyundai   </td><td> 3</td></tr>\n",
              "\t<tr><td>Infiniti  </td><td> 1</td></tr>\n",
              "\t<tr><td>Jeep      </td><td> 3</td></tr>\n",
              "\t<tr><td>Lexus     </td><td> 3</td></tr>\n",
              "\t<tr><td>Lincoln   </td><td> 2</td></tr>\n",
              "\t<tr><td>Mercedes-B</td><td> 4</td></tr>\n",
              "\t<tr><td>Mercury   </td><td> 6</td></tr>\n",
              "\t<tr><td>Mitsubishi</td><td> 7</td></tr>\n",
              "\t<tr><td>Nissan    </td><td> 5</td></tr>\n",
              "\t<tr><td>Oldsmobile</td><td> 4</td></tr>\n",
              "\t<tr><td>Plymouth  </td><td> 3</td></tr>\n",
              "\t<tr><td>Pontiac   </td><td> 5</td></tr>\n",
              "\t<tr><td>Porsche   </td><td> 3</td></tr>\n",
              "\t<tr><td>Saturn    </td><td> 3</td></tr>\n",
              "\t<tr><td>Toyota    </td><td> 8</td></tr>\n",
              "\t<tr><td>Volkswagen</td><td> 5</td></tr>\n",
              "</tbody>\n",
              "</table>\n"
            ],
            "text/markdown": "\nA grouped_df: 26 × 2\n\n| Manufacturer &lt;chr&gt; | n &lt;int&gt; |\n|---|---|\n| Acura      |  3 |\n| Audi       |  3 |\n| BMW        |  2 |\n| Buick      |  4 |\n| Cadillac   |  3 |\n| Chevrolet  |  8 |\n| Chrysler   |  5 |\n| Dodge      |  9 |\n| Ford       | 10 |\n| Honda      |  5 |\n| Hyundai    |  3 |\n| Infiniti   |  1 |\n| Jeep       |  3 |\n| Lexus      |  3 |\n| Lincoln    |  2 |\n| Mercedes-B |  4 |\n| Mercury    |  6 |\n| Mitsubishi |  7 |\n| Nissan     |  5 |\n| Oldsmobile |  4 |\n| Plymouth   |  3 |\n| Pontiac    |  5 |\n| Porsche    |  3 |\n| Saturn     |  3 |\n| Toyota     |  8 |\n| Volkswagen |  5 |\n\n",
            "text/latex": "A grouped\\_df: 26 × 2\n\\begin{tabular}{ll}\n Manufacturer & n\\\\\n <chr> & <int>\\\\\n\\hline\n\t Acura      &  3\\\\\n\t Audi       &  3\\\\\n\t BMW        &  2\\\\\n\t Buick      &  4\\\\\n\t Cadillac   &  3\\\\\n\t Chevrolet  &  8\\\\\n\t Chrysler   &  5\\\\\n\t Dodge      &  9\\\\\n\t Ford       & 10\\\\\n\t Honda      &  5\\\\\n\t Hyundai    &  3\\\\\n\t Infiniti   &  1\\\\\n\t Jeep       &  3\\\\\n\t Lexus      &  3\\\\\n\t Lincoln    &  2\\\\\n\t Mercedes-B &  4\\\\\n\t Mercury    &  6\\\\\n\t Mitsubishi &  7\\\\\n\t Nissan     &  5\\\\\n\t Oldsmobile &  4\\\\\n\t Plymouth   &  3\\\\\n\t Pontiac    &  5\\\\\n\t Porsche    &  3\\\\\n\t Saturn     &  3\\\\\n\t Toyota     &  8\\\\\n\t Volkswagen &  5\\\\\n\\end{tabular}\n",
            "text/plain": [
              "   Manufacturer n \n",
              "1  Acura         3\n",
              "2  Audi          3\n",
              "3  BMW           2\n",
              "4  Buick         4\n",
              "5  Cadillac      3\n",
              "6  Chevrolet     8\n",
              "7  Chrysler      5\n",
              "8  Dodge         9\n",
              "9  Ford         10\n",
              "10 Honda         5\n",
              "11 Hyundai       3\n",
              "12 Infiniti      1\n",
              "13 Jeep          3\n",
              "14 Lexus         3\n",
              "15 Lincoln       2\n",
              "16 Mercedes-B    4\n",
              "17 Mercury       6\n",
              "18 Mitsubishi    7\n",
              "19 Nissan        5\n",
              "20 Oldsmobile    4\n",
              "21 Plymouth      3\n",
              "22 Pontiac       5\n",
              "23 Porsche       3\n",
              "24 Saturn        3\n",
              "25 Toyota        8\n",
              "26 Volkswagen    5"
            ]
          },
          "metadata": {}
        }
      ]
    },
    {
      "cell_type": "code",
      "source": [
        "# Graphical Representation count of Manufacturer using Bar Chart\n",
        "ggplot(data = car,aes(x=Manufacturer,fill=Manufacturer)) + geom_bar()"
      ],
      "metadata": {
        "colab": {
          "base_uri": "https://localhost:8080/",
          "height": 437
        },
        "id": "uK_vcfk5OwMK",
        "outputId": "b434e0a0-ea13-4677-bd37-41e9b52df4bb"
      },
      "execution_count": null,
      "outputs": [
        {
          "output_type": "display_data",
          "data": {
            "text/plain": [
              "plot without title"
            ],
            "image/png": "[encoded data removed]"
          },
          "metadata": {
            "image/png": {
              "width": 420,
              "height": 420
            }
          }
        }
      ]
    },
    {
      "cell_type": "code",
      "source": [
        "head(car)"
      ],
      "metadata": {
        "colab": {
          "base_uri": "https://localhost:8080/",
          "height": 306
        },
        "id": "-j4m1nY5TF9m",
        "outputId": "29831bc6-4e5b-4862-a292-ef176dc0311e"
      },
      "execution_count": null,
      "outputs": [
        {
          "output_type": "display_data",
          "data": {
            "text/html": [
              "<table class=\"dataframe\">\n",
              "<caption>A data.frame: 6 × 17</caption>\n",
              "<thead>\n",
              "\t<tr><th></th><th scope=col>Manufacturer</th><th scope=col>Model</th><th scope=col>Sales_in_thousands</th><th scope=col>X__year_resale_value</th><th scope=col>Vehicle_type</th><th scope=col>Price_in_thousands</th><th scope=col>Engine_size</th><th scope=col>Horsepower</th><th scope=col>Wheelbase</th><th scope=col>Width</th><th scope=col>Length</th><th scope=col>Curb_weight</th><th scope=col>Fuel_capacity</th><th scope=col>Fuel_efficiency</th><th scope=col>Latest_Launch</th><th scope=col>Power_perf_factor</th><th scope=col>Date_Column</th></tr>\n",
              "\t<tr><th></th><th scope=col>&lt;chr&gt;</th><th scope=col>&lt;chr&gt;</th><th scope=col>&lt;dbl&gt;</th><th scope=col>&lt;dbl&gt;</th><th scope=col>&lt;chr&gt;</th><th scope=col>&lt;dbl&gt;</th><th scope=col>&lt;dbl&gt;</th><th scope=col>&lt;int&gt;</th><th scope=col>&lt;dbl&gt;</th><th scope=col>&lt;dbl&gt;</th><th scope=col>&lt;dbl&gt;</th><th scope=col>&lt;dbl&gt;</th><th scope=col>&lt;dbl&gt;</th><th scope=col>&lt;int&gt;</th><th scope=col>&lt;chr&gt;</th><th scope=col>&lt;dbl&gt;</th><th scope=col>&lt;date&gt;</th></tr>\n",
              "</thead>\n",
              "<tbody>\n",
              "\t<tr><th scope=row>1</th><td>Acura</td><td>Integra</td><td>16.919</td><td>16.360</td><td>Passenger</td><td>21.50</td><td>1.8</td><td>140</td><td>101.2</td><td>67.3</td><td>172.4</td><td>2.639</td><td>13.2</td><td>28</td><td>02-02-2012</td><td> 58.28015</td><td>2-02-20</td></tr>\n",
              "\t<tr><th scope=row>2</th><td>Acura</td><td>TL     </td><td>39.384</td><td>19.875</td><td>Passenger</td><td>28.40</td><td>3.2</td><td>225</td><td>108.1</td><td>70.3</td><td>192.9</td><td>3.517</td><td>17.2</td><td>25</td><td>06-03-2011</td><td> 91.37078</td><td>6-03-20</td></tr>\n",
              "\t<tr><th scope=row>4</th><td>Acura</td><td>RL     </td><td> 8.588</td><td>29.725</td><td>Passenger</td><td>42.00</td><td>3.5</td><td>210</td><td>114.6</td><td>71.4</td><td>196.6</td><td>3.850</td><td>18.0</td><td>22</td><td>03-10-2011</td><td> 91.38978</td><td>3-10-20</td></tr>\n",
              "\t<tr><th scope=row>5</th><td>Audi </td><td>A4     </td><td>20.397</td><td>22.255</td><td>Passenger</td><td>23.99</td><td>1.8</td><td>150</td><td>102.6</td><td>68.2</td><td>178.0</td><td>2.998</td><td>16.4</td><td>27</td><td>10-08-2011</td><td> 62.77764</td><td>10-08-20</td></tr>\n",
              "\t<tr><th scope=row>6</th><td>Audi </td><td>A6     </td><td>18.780</td><td>23.555</td><td>Passenger</td><td>33.95</td><td>2.8</td><td>200</td><td>108.7</td><td>76.1</td><td>192.0</td><td>3.561</td><td>18.5</td><td>22</td><td>08-09-2011</td><td> 84.56511</td><td>8-09-20</td></tr>\n",
              "\t<tr><th scope=row>7</th><td>Audi </td><td>A8     </td><td> 1.380</td><td>39.000</td><td>Passenger</td><td>62.00</td><td>4.2</td><td>310</td><td>113.0</td><td>74.0</td><td>198.2</td><td>3.902</td><td>23.7</td><td>21</td><td>2/27/2012 </td><td>134.65686</td><td>NA</td></tr>\n",
              "</tbody>\n",
              "</table>\n"
            ],
            "text/markdown": "\nA data.frame: 6 × 17\n\n| <!--/--> | Manufacturer &lt;chr&gt; | Model &lt;chr&gt; | Sales_in_thousands &lt;dbl&gt; | X__year_resale_value &lt;dbl&gt; | Vehicle_type &lt;chr&gt; | Price_in_thousands &lt;dbl&gt; | Engine_size &lt;dbl&gt; | Horsepower &lt;int&gt; | Wheelbase &lt;dbl&gt; | Width &lt;dbl&gt; | Length &lt;dbl&gt; | Curb_weight &lt;dbl&gt; | Fuel_capacity &lt;dbl&gt; | Fuel_efficiency &lt;int&gt; | Latest_Launch &lt;chr&gt; | Power_perf_factor &lt;dbl&gt; | Date_Column &lt;date&gt; |\n|---|---|---|---|---|---|---|---|---|---|---|---|---|---|---|---|---|---|\n| 1 | Acura | Integra | 16.919 | 16.360 | Passenger | 21.50 | 1.8 | 140 | 101.2 | 67.3 | 172.4 | 2.639 | 13.2 | 28 | 02-02-2012 |  58.28015 | 2-02-20 |\n| 2 | Acura | TL      | 39.384 | 19.875 | Passenger | 28.40 | 3.2 | 225 | 108.1 | 70.3 | 192.9 | 3.517 | 17.2 | 25 | 06-03-2011 |  91.37078 | 6-03-20 |\n| 4 | Acura | RL      |  8.588 | 29.725 | Passenger | 42.00 | 3.5 | 210 | 114.6 | 71.4 | 196.6 | 3.850 | 18.0 | 22 | 03-10-2011 |  91.38978 | 3-10-20 |\n| 5 | Audi  | A4      | 20.397 | 22.255 | Passenger | 23.99 | 1.8 | 150 | 102.6 | 68.2 | 178.0 | 2.998 | 16.4 | 27 | 10-08-2011 |  62.77764 | 10-08-20 |\n| 6 | Audi  | A6      | 18.780 | 23.555 | Passenger | 33.95 | 2.8 | 200 | 108.7 | 76.1 | 192.0 | 3.561 | 18.5 | 22 | 08-09-2011 |  84.56511 | 8-09-20 |\n| 7 | Audi  | A8      |  1.380 | 39.000 | Passenger | 62.00 | 4.2 | 310 | 113.0 | 74.0 | 198.2 | 3.902 | 23.7 | 21 | 2/27/2012  | 134.65686 | NA |\n\n",
            "text/latex": "A data.frame: 6 × 17\n\\begin{tabular}{r|lllllllllllllllll}\n  & Manufacturer & Model & Sales\\_in\\_thousands & X\\_\\_year\\_resale\\_value & Vehicle\\_type & Price\\_in\\_thousands & Engine\\_size & Horsepower & Wheelbase & Width & Length & Curb\\_weight & Fuel\\_capacity & Fuel\\_efficiency & Latest\\_Launch & Power\\_perf\\_factor & Date\\_Column\\\\\n  & <chr> & <chr> & <dbl> & <dbl> & <chr> & <dbl> & <dbl> & <int> & <dbl> & <dbl> & <dbl> & <dbl> & <dbl> & <int> & <chr> & <dbl> & <date>\\\\\n\\hline\n\t1 & Acura & Integra & 16.919 & 16.360 & Passenger & 21.50 & 1.8 & 140 & 101.2 & 67.3 & 172.4 & 2.639 & 13.2 & 28 & 02-02-2012 &  58.28015 & 2-02-20\\\\\n\t2 & Acura & TL      & 39.384 & 19.875 & Passenger & 28.40 & 3.2 & 225 & 108.1 & 70.3 & 192.9 & 3.517 & 17.2 & 25 & 06-03-2011 &  91.37078 & 6-03-20\\\\\n\t4 & Acura & RL      &  8.588 & 29.725 & Passenger & 42.00 & 3.5 & 210 & 114.6 & 71.4 & 196.6 & 3.850 & 18.0 & 22 & 03-10-2011 &  91.38978 & 3-10-20\\\\\n\t5 & Audi  & A4      & 20.397 & 22.255 & Passenger & 23.99 & 1.8 & 150 & 102.6 & 68.2 & 178.0 & 2.998 & 16.4 & 27 & 10-08-2011 &  62.77764 & 10-08-20\\\\\n\t6 & Audi  & A6      & 18.780 & 23.555 & Passenger & 33.95 & 2.8 & 200 & 108.7 & 76.1 & 192.0 & 3.561 & 18.5 & 22 & 08-09-2011 &  84.56511 & 8-09-20\\\\\n\t7 & Audi  & A8      &  1.380 & 39.000 & Passenger & 62.00 & 4.2 & 310 & 113.0 & 74.0 & 198.2 & 3.902 & 23.7 & 21 & 2/27/2012  & 134.65686 & NA\\\\\n\\end{tabular}\n",
            "text/plain": [
              "  Manufacturer Model   Sales_in_thousands X__year_resale_value Vehicle_type\n",
              "1 Acura        Integra 16.919             16.360               Passenger   \n",
              "2 Acura        TL      39.384             19.875               Passenger   \n",
              "4 Acura        RL       8.588             29.725               Passenger   \n",
              "5 Audi         A4      20.397             22.255               Passenger   \n",
              "6 Audi         A6      18.780             23.555               Passenger   \n",
              "7 Audi         A8       1.380             39.000               Passenger   \n",
              "  Price_in_thousands Engine_size Horsepower Wheelbase Width Length Curb_weight\n",
              "1 21.50              1.8         140        101.2     67.3  172.4  2.639      \n",
              "2 28.40              3.2         225        108.1     70.3  192.9  3.517      \n",
              "4 42.00              3.5         210        114.6     71.4  196.6  3.850      \n",
              "5 23.99              1.8         150        102.6     68.2  178.0  2.998      \n",
              "6 33.95              2.8         200        108.7     76.1  192.0  3.561      \n",
              "7 62.00              4.2         310        113.0     74.0  198.2  3.902      \n",
              "  Fuel_capacity Fuel_efficiency Latest_Launch Power_perf_factor Date_Column\n",
              "1 13.2          28              02-02-2012     58.28015         2-02-20    \n",
              "2 17.2          25              06-03-2011     91.37078         6-03-20    \n",
              "4 18.0          22              03-10-2011     91.38978         3-10-20    \n",
              "5 16.4          27              10-08-2011     62.77764         10-08-20   \n",
              "6 18.5          22              08-09-2011     84.56511         8-09-20    \n",
              "7 23.7          21              2/27/2012     134.65686         <NA>       "
            ]
          },
          "metadata": {}
        }
      ]
    },
    {
      "cell_type": "code",
      "source": [
        "# View the model column\n",
        "head(car %>% select(Model))"
      ],
      "metadata": {
        "colab": {
          "base_uri": "https://localhost:8080/",
          "height": 321
        },
        "id": "l0MmR-RfQVsJ",
        "outputId": "b8bb593a-dd16-4631-c8ea-7d2e11075db0"
      },
      "execution_count": null,
      "outputs": [
        {
          "output_type": "display_data",
          "data": {
            "text/html": [
              "<table class=\"dataframe\">\n",
              "<caption>A data.frame: 6 × 1</caption>\n",
              "<thead>\n",
              "\t<tr><th></th><th scope=col>Model</th></tr>\n",
              "\t<tr><th></th><th scope=col>&lt;chr&gt;</th></tr>\n",
              "</thead>\n",
              "<tbody>\n",
              "\t<tr><th scope=row>1</th><td>Integra</td></tr>\n",
              "\t<tr><th scope=row>2</th><td>TL     </td></tr>\n",
              "\t<tr><th scope=row>4</th><td>RL     </td></tr>\n",
              "\t<tr><th scope=row>5</th><td>A4     </td></tr>\n",
              "\t<tr><th scope=row>6</th><td>A6     </td></tr>\n",
              "\t<tr><th scope=row>7</th><td>A8     </td></tr>\n",
              "</tbody>\n",
              "</table>\n"
            ],
            "text/markdown": "\nA data.frame: 6 × 1\n\n| <!--/--> | Model &lt;chr&gt; |\n|---|---|\n| 1 | Integra |\n| 2 | TL      |\n| 4 | RL      |\n| 5 | A4      |\n| 6 | A6      |\n| 7 | A8      |\n\n",
            "text/latex": "A data.frame: 6 × 1\n\\begin{tabular}{r|l}\n  & Model\\\\\n  & <chr>\\\\\n\\hline\n\t1 & Integra\\\\\n\t2 & TL     \\\\\n\t4 & RL     \\\\\n\t5 & A4     \\\\\n\t6 & A6     \\\\\n\t7 & A8     \\\\\n\\end{tabular}\n",
            "text/plain": [
              "  Model  \n",
              "1 Integra\n",
              "2 TL     \n",
              "4 RL     \n",
              "5 A4     \n",
              "6 A6     \n",
              "7 A8     "
            ]
          },
          "metadata": {}
        }
      ]
    },
    {
      "cell_type": "code",
      "source": [
        "# find the top sales of model\n",
        "head(car %>% select(Model,Sales_in_thousands))"
      ],
      "metadata": {
        "colab": {
          "base_uri": "https://localhost:8080/",
          "height": 286
        },
        "id": "Ui4AmQ_AV9U8",
        "outputId": "4fe0aa56-7204-45ab-e1a0-fd295aa64a9f"
      },
      "execution_count": null,
      "outputs": [
        {
          "output_type": "display_data",
          "data": {
            "text/html": [
              "<table class=\"dataframe\">\n",
              "<caption>A data.frame: 6 × 2</caption>\n",
              "<thead>\n",
              "\t<tr><th></th><th scope=col>Model</th><th scope=col>Sales_in_thousands</th></tr>\n",
              "\t<tr><th></th><th scope=col>&lt;chr&gt;</th><th scope=col>&lt;dbl&gt;</th></tr>\n",
              "</thead>\n",
              "<tbody>\n",
              "\t<tr><th scope=row>1</th><td>Integra</td><td>16.919</td></tr>\n",
              "\t<tr><th scope=row>2</th><td>TL     </td><td>39.384</td></tr>\n",
              "\t<tr><th scope=row>4</th><td>RL     </td><td> 8.588</td></tr>\n",
              "\t<tr><th scope=row>5</th><td>A4     </td><td>20.397</td></tr>\n",
              "\t<tr><th scope=row>6</th><td>A6     </td><td>18.780</td></tr>\n",
              "\t<tr><th scope=row>7</th><td>A8     </td><td> 1.380</td></tr>\n",
              "</tbody>\n",
              "</table>\n"
            ],
            "text/markdown": "\nA data.frame: 6 × 2\n\n| <!--/--> | Model &lt;chr&gt; | Sales_in_thousands &lt;dbl&gt; |\n|---|---|---|\n| 1 | Integra | 16.919 |\n| 2 | TL      | 39.384 |\n| 4 | RL      |  8.588 |\n| 5 | A4      | 20.397 |\n| 6 | A6      | 18.780 |\n| 7 | A8      |  1.380 |\n\n",
            "text/latex": "A data.frame: 6 × 2\n\\begin{tabular}{r|ll}\n  & Model & Sales\\_in\\_thousands\\\\\n  & <chr> & <dbl>\\\\\n\\hline\n\t1 & Integra & 16.919\\\\\n\t2 & TL      & 39.384\\\\\n\t4 & RL      &  8.588\\\\\n\t5 & A4      & 20.397\\\\\n\t6 & A6      & 18.780\\\\\n\t7 & A8      &  1.380\\\\\n\\end{tabular}\n",
            "text/plain": [
              "  Model   Sales_in_thousands\n",
              "1 Integra 16.919            \n",
              "2 TL      39.384            \n",
              "4 RL       8.588            \n",
              "5 A4      20.397            \n",
              "6 A6      18.780            \n",
              "7 A8       1.380            "
            ]
          },
          "metadata": {}
        }
      ]
    },
    {
      "cell_type": "code",
      "source": [
        "# Graphical represrntation of top 5 Model Sale\n",
        "ggplot(data = car[1:5, ], aes(x = Model, y = Sales_in_thousands)) +\n",
        "  geom_bar(stat = \"identity\", fill = \"orange\") +\n",
        "  labs(title = \"Bar Plot for First 5 Rows\",\n",
        "       x = \"Car Model\",\n",
        "       y = \"Sales in Thousands\")"
      ],
      "metadata": {
        "colab": {
          "base_uri": "https://localhost:8080/",
          "height": 437
        },
        "id": "zGJvCEbER9LR",
        "outputId": "ac0083ee-0085-4bc6-c180-40b1138be803"
      },
      "execution_count": null,
      "outputs": [
        {
          "output_type": "display_data",
          "data": {
            "text/plain": [
              "plot without title"
            ],
            "image/png": "[encoded data removed]"
          },
          "metadata": {
            "image/png": {
              "width": 420,
              "height": 420
            }
          }
        }
      ]
    },
    {
      "cell_type": "code",
      "source": [
        "head(car %>% select(Model,Price_in_thousands))"
      ],
      "metadata": {
        "colab": {
          "base_uri": "https://localhost:8080/",
          "height": 286
        },
        "id": "W-q5V8LNVfSr",
        "outputId": "5180ea14-f8ce-46cb-c0d2-c0bfa3932ac6"
      },
      "execution_count": null,
      "outputs": [
        {
          "output_type": "display_data",
          "data": {
            "text/html": [
              "<table class=\"dataframe\">\n",
              "<caption>A data.frame: 6 × 2</caption>\n",
              "<thead>\n",
              "\t<tr><th></th><th scope=col>Model</th><th scope=col>Price_in_thousands</th></tr>\n",
              "\t<tr><th></th><th scope=col>&lt;chr&gt;</th><th scope=col>&lt;dbl&gt;</th></tr>\n",
              "</thead>\n",
              "<tbody>\n",
              "\t<tr><th scope=row>1</th><td>Integra</td><td>21.50</td></tr>\n",
              "\t<tr><th scope=row>2</th><td>TL     </td><td>28.40</td></tr>\n",
              "\t<tr><th scope=row>4</th><td>RL     </td><td>42.00</td></tr>\n",
              "\t<tr><th scope=row>5</th><td>A4     </td><td>23.99</td></tr>\n",
              "\t<tr><th scope=row>6</th><td>A6     </td><td>33.95</td></tr>\n",
              "\t<tr><th scope=row>7</th><td>A8     </td><td>62.00</td></tr>\n",
              "</tbody>\n",
              "</table>\n"
            ],
            "text/markdown": "\nA data.frame: 6 × 2\n\n| <!--/--> | Model &lt;chr&gt; | Price_in_thousands &lt;dbl&gt; |\n|---|---|---|\n| 1 | Integra | 21.50 |\n| 2 | TL      | 28.40 |\n| 4 | RL      | 42.00 |\n| 5 | A4      | 23.99 |\n| 6 | A6      | 33.95 |\n| 7 | A8      | 62.00 |\n\n",
            "text/latex": "A data.frame: 6 × 2\n\\begin{tabular}{r|ll}\n  & Model & Price\\_in\\_thousands\\\\\n  & <chr> & <dbl>\\\\\n\\hline\n\t1 & Integra & 21.50\\\\\n\t2 & TL      & 28.40\\\\\n\t4 & RL      & 42.00\\\\\n\t5 & A4      & 23.99\\\\\n\t6 & A6      & 33.95\\\\\n\t7 & A8      & 62.00\\\\\n\\end{tabular}\n",
            "text/plain": [
              "  Model   Price_in_thousands\n",
              "1 Integra 21.50             \n",
              "2 TL      28.40             \n",
              "4 RL      42.00             \n",
              "5 A4      23.99             \n",
              "6 A6      33.95             \n",
              "7 A8      62.00             "
            ]
          },
          "metadata": {}
        }
      ]
    },
    {
      "cell_type": "code",
      "source": [
        "# Graphical represrntation of top 5 Model Profit\n",
        "ggplot(data = car[1:5, ], aes(x = Model, y = Price_in_thousands)) +\n",
        "  geom_bar(stat = \"identity\", fill = \"blue\") +\n",
        "  labs(title = \"Bar Plot for First 5 Rows\",\n",
        "       x = \"Car Model\",\n",
        "       y = \"Sales in Thousands\")"
      ],
      "metadata": {
        "colab": {
          "base_uri": "https://localhost:8080/",
          "height": 437
        },
        "id": "pRefJlj0RN1B",
        "outputId": "00879549-e1ae-4771-c7f1-48346845fda0"
      },
      "execution_count": null,
      "outputs": [
        {
          "output_type": "display_data",
          "data": {
            "text/plain": [
              "plot without title"
            ],
            "image/png": "[encoded data removed]"
          },
          "metadata": {
            "image/png": {
              "width": 420,
              "height": 420
            }
          }
        }
      ]
    },
    {
      "cell_type": "code",
      "source": [
        "head(car)\n"
      ],
      "metadata": {
        "colab": {
          "base_uri": "https://localhost:8080/",
          "height": 306
        },
        "id": "xU65g-KPVES8",
        "outputId": "352f309d-76a3-4b2d-c188-42a26cb1429a"
      },
      "execution_count": null,
      "outputs": [
        {
          "output_type": "display_data",
          "data": {
            "text/html": [
              "<table class=\"dataframe\">\n",
              "<caption>A data.frame: 6 × 17</caption>\n",
              "<thead>\n",
              "\t<tr><th></th><th scope=col>Manufacturer</th><th scope=col>Model</th><th scope=col>Sales_in_thousands</th><th scope=col>X__year_resale_value</th><th scope=col>Vehicle_type</th><th scope=col>Price_in_thousands</th><th scope=col>Engine_size</th><th scope=col>Horsepower</th><th scope=col>Wheelbase</th><th scope=col>Width</th><th scope=col>Length</th><th scope=col>Curb_weight</th><th scope=col>Fuel_capacity</th><th scope=col>Fuel_efficiency</th><th scope=col>Latest_Launch</th><th scope=col>Power_perf_factor</th><th scope=col>Date_Column</th></tr>\n",
              "\t<tr><th></th><th scope=col>&lt;chr&gt;</th><th scope=col>&lt;chr&gt;</th><th scope=col>&lt;dbl&gt;</th><th scope=col>&lt;dbl&gt;</th><th scope=col>&lt;chr&gt;</th><th scope=col>&lt;dbl&gt;</th><th scope=col>&lt;dbl&gt;</th><th scope=col>&lt;int&gt;</th><th scope=col>&lt;dbl&gt;</th><th scope=col>&lt;dbl&gt;</th><th scope=col>&lt;dbl&gt;</th><th scope=col>&lt;dbl&gt;</th><th scope=col>&lt;dbl&gt;</th><th scope=col>&lt;int&gt;</th><th scope=col>&lt;chr&gt;</th><th scope=col>&lt;dbl&gt;</th><th scope=col>&lt;date&gt;</th></tr>\n",
              "</thead>\n",
              "<tbody>\n",
              "\t<tr><th scope=row>1</th><td>Acura</td><td>Integra</td><td>16.919</td><td>16.360</td><td>Passenger</td><td>21.50</td><td>1.8</td><td>140</td><td>101.2</td><td>67.3</td><td>172.4</td><td>2.639</td><td>13.2</td><td>28</td><td>02-02-2012</td><td> 58.28015</td><td>2-02-20</td></tr>\n",
              "\t<tr><th scope=row>2</th><td>Acura</td><td>TL     </td><td>39.384</td><td>19.875</td><td>Passenger</td><td>28.40</td><td>3.2</td><td>225</td><td>108.1</td><td>70.3</td><td>192.9</td><td>3.517</td><td>17.2</td><td>25</td><td>06-03-2011</td><td> 91.37078</td><td>6-03-20</td></tr>\n",
              "\t<tr><th scope=row>4</th><td>Acura</td><td>RL     </td><td> 8.588</td><td>29.725</td><td>Passenger</td><td>42.00</td><td>3.5</td><td>210</td><td>114.6</td><td>71.4</td><td>196.6</td><td>3.850</td><td>18.0</td><td>22</td><td>03-10-2011</td><td> 91.38978</td><td>3-10-20</td></tr>\n",
              "\t<tr><th scope=row>5</th><td>Audi </td><td>A4     </td><td>20.397</td><td>22.255</td><td>Passenger</td><td>23.99</td><td>1.8</td><td>150</td><td>102.6</td><td>68.2</td><td>178.0</td><td>2.998</td><td>16.4</td><td>27</td><td>10-08-2011</td><td> 62.77764</td><td>10-08-20</td></tr>\n",
              "\t<tr><th scope=row>6</th><td>Audi </td><td>A6     </td><td>18.780</td><td>23.555</td><td>Passenger</td><td>33.95</td><td>2.8</td><td>200</td><td>108.7</td><td>76.1</td><td>192.0</td><td>3.561</td><td>18.5</td><td>22</td><td>08-09-2011</td><td> 84.56511</td><td>8-09-20</td></tr>\n",
              "\t<tr><th scope=row>7</th><td>Audi </td><td>A8     </td><td> 1.380</td><td>39.000</td><td>Passenger</td><td>62.00</td><td>4.2</td><td>310</td><td>113.0</td><td>74.0</td><td>198.2</td><td>3.902</td><td>23.7</td><td>21</td><td>2/27/2012 </td><td>134.65686</td><td>NA</td></tr>\n",
              "</tbody>\n",
              "</table>\n"
            ],
            "text/markdown": "\nA data.frame: 6 × 17\n\n| <!--/--> | Manufacturer &lt;chr&gt; | Model &lt;chr&gt; | Sales_in_thousands &lt;dbl&gt; | X__year_resale_value &lt;dbl&gt; | Vehicle_type &lt;chr&gt; | Price_in_thousands &lt;dbl&gt; | Engine_size &lt;dbl&gt; | Horsepower &lt;int&gt; | Wheelbase &lt;dbl&gt; | Width &lt;dbl&gt; | Length &lt;dbl&gt; | Curb_weight &lt;dbl&gt; | Fuel_capacity &lt;dbl&gt; | Fuel_efficiency &lt;int&gt; | Latest_Launch &lt;chr&gt; | Power_perf_factor &lt;dbl&gt; | Date_Column &lt;date&gt; |\n|---|---|---|---|---|---|---|---|---|---|---|---|---|---|---|---|---|---|\n| 1 | Acura | Integra | 16.919 | 16.360 | Passenger | 21.50 | 1.8 | 140 | 101.2 | 67.3 | 172.4 | 2.639 | 13.2 | 28 | 02-02-2012 |  58.28015 | 2-02-20 |\n| 2 | Acura | TL      | 39.384 | 19.875 | Passenger | 28.40 | 3.2 | 225 | 108.1 | 70.3 | 192.9 | 3.517 | 17.2 | 25 | 06-03-2011 |  91.37078 | 6-03-20 |\n| 4 | Acura | RL      |  8.588 | 29.725 | Passenger | 42.00 | 3.5 | 210 | 114.6 | 71.4 | 196.6 | 3.850 | 18.0 | 22 | 03-10-2011 |  91.38978 | 3-10-20 |\n| 5 | Audi  | A4      | 20.397 | 22.255 | Passenger | 23.99 | 1.8 | 150 | 102.6 | 68.2 | 178.0 | 2.998 | 16.4 | 27 | 10-08-2011 |  62.77764 | 10-08-20 |\n| 6 | Audi  | A6      | 18.780 | 23.555 | Passenger | 33.95 | 2.8 | 200 | 108.7 | 76.1 | 192.0 | 3.561 | 18.5 | 22 | 08-09-2011 |  84.56511 | 8-09-20 |\n| 7 | Audi  | A8      |  1.380 | 39.000 | Passenger | 62.00 | 4.2 | 310 | 113.0 | 74.0 | 198.2 | 3.902 | 23.7 | 21 | 2/27/2012  | 134.65686 | NA |\n\n",
            "text/latex": "A data.frame: 6 × 17\n\\begin{tabular}{r|lllllllllllllllll}\n  & Manufacturer & Model & Sales\\_in\\_thousands & X\\_\\_year\\_resale\\_value & Vehicle\\_type & Price\\_in\\_thousands & Engine\\_size & Horsepower & Wheelbase & Width & Length & Curb\\_weight & Fuel\\_capacity & Fuel\\_efficiency & Latest\\_Launch & Power\\_perf\\_factor & Date\\_Column\\\\\n  & <chr> & <chr> & <dbl> & <dbl> & <chr> & <dbl> & <dbl> & <int> & <dbl> & <dbl> & <dbl> & <dbl> & <dbl> & <int> & <chr> & <dbl> & <date>\\\\\n\\hline\n\t1 & Acura & Integra & 16.919 & 16.360 & Passenger & 21.50 & 1.8 & 140 & 101.2 & 67.3 & 172.4 & 2.639 & 13.2 & 28 & 02-02-2012 &  58.28015 & 2-02-20\\\\\n\t2 & Acura & TL      & 39.384 & 19.875 & Passenger & 28.40 & 3.2 & 225 & 108.1 & 70.3 & 192.9 & 3.517 & 17.2 & 25 & 06-03-2011 &  91.37078 & 6-03-20\\\\\n\t4 & Acura & RL      &  8.588 & 29.725 & Passenger & 42.00 & 3.5 & 210 & 114.6 & 71.4 & 196.6 & 3.850 & 18.0 & 22 & 03-10-2011 &  91.38978 & 3-10-20\\\\\n\t5 & Audi  & A4      & 20.397 & 22.255 & Passenger & 23.99 & 1.8 & 150 & 102.6 & 68.2 & 178.0 & 2.998 & 16.4 & 27 & 10-08-2011 &  62.77764 & 10-08-20\\\\\n\t6 & Audi  & A6      & 18.780 & 23.555 & Passenger & 33.95 & 2.8 & 200 & 108.7 & 76.1 & 192.0 & 3.561 & 18.5 & 22 & 08-09-2011 &  84.56511 & 8-09-20\\\\\n\t7 & Audi  & A8      &  1.380 & 39.000 & Passenger & 62.00 & 4.2 & 310 & 113.0 & 74.0 & 198.2 & 3.902 & 23.7 & 21 & 2/27/2012  & 134.65686 & NA\\\\\n\\end{tabular}\n",
            "text/plain": [
              "  Manufacturer Model   Sales_in_thousands X__year_resale_value Vehicle_type\n",
              "1 Acura        Integra 16.919             16.360               Passenger   \n",
              "2 Acura        TL      39.384             19.875               Passenger   \n",
              "4 Acura        RL       8.588             29.725               Passenger   \n",
              "5 Audi         A4      20.397             22.255               Passenger   \n",
              "6 Audi         A6      18.780             23.555               Passenger   \n",
              "7 Audi         A8       1.380             39.000               Passenger   \n",
              "  Price_in_thousands Engine_size Horsepower Wheelbase Width Length Curb_weight\n",
              "1 21.50              1.8         140        101.2     67.3  172.4  2.639      \n",
              "2 28.40              3.2         225        108.1     70.3  192.9  3.517      \n",
              "4 42.00              3.5         210        114.6     71.4  196.6  3.850      \n",
              "5 23.99              1.8         150        102.6     68.2  178.0  2.998      \n",
              "6 33.95              2.8         200        108.7     76.1  192.0  3.561      \n",
              "7 62.00              4.2         310        113.0     74.0  198.2  3.902      \n",
              "  Fuel_capacity Fuel_efficiency Latest_Launch Power_perf_factor Date_Column\n",
              "1 13.2          28              02-02-2012     58.28015         2-02-20    \n",
              "2 17.2          25              06-03-2011     91.37078         6-03-20    \n",
              "4 18.0          22              03-10-2011     91.38978         3-10-20    \n",
              "5 16.4          27              10-08-2011     62.77764         10-08-20   \n",
              "6 18.5          22              08-09-2011     84.56511         8-09-20    \n",
              "7 23.7          21              2/27/2012     134.65686         <NA>       "
            ]
          },
          "metadata": {}
        }
      ]
    },
    {
      "cell_type": "code",
      "source": [
        "head(car %>% select(Date_Column,Sales_in_thousands))"
      ],
      "metadata": {
        "colab": {
          "base_uri": "https://localhost:8080/",
          "height": 286
        },
        "id": "2-e_tRBqcUvM",
        "outputId": "64e6b075-a5d6-46d6-d735-658a73170fc7"
      },
      "execution_count": null,
      "outputs": [
        {
          "output_type": "display_data",
          "data": {
            "text/html": [
              "<table class=\"dataframe\">\n",
              "<caption>A data.frame: 6 × 2</caption>\n",
              "<thead>\n",
              "\t<tr><th></th><th scope=col>Date_Column</th><th scope=col>Sales_in_thousands</th></tr>\n",
              "\t<tr><th></th><th scope=col>&lt;date&gt;</th><th scope=col>&lt;dbl&gt;</th></tr>\n",
              "</thead>\n",
              "<tbody>\n",
              "\t<tr><th scope=row>1</th><td>2-02-20</td><td>16.919</td></tr>\n",
              "\t<tr><th scope=row>2</th><td>6-03-20</td><td>39.384</td></tr>\n",
              "\t<tr><th scope=row>4</th><td>3-10-20</td><td> 8.588</td></tr>\n",
              "\t<tr><th scope=row>5</th><td>10-08-20</td><td>20.397</td></tr>\n",
              "\t<tr><th scope=row>6</th><td>8-09-20</td><td>18.780</td></tr>\n",
              "\t<tr><th scope=row>7</th><td>NA</td><td> 1.380</td></tr>\n",
              "</tbody>\n",
              "</table>\n"
            ],
            "text/markdown": "\nA data.frame: 6 × 2\n\n| <!--/--> | Date_Column &lt;date&gt; | Sales_in_thousands &lt;dbl&gt; |\n|---|---|---|\n| 1 | 2-02-20 | 16.919 |\n| 2 | 6-03-20 | 39.384 |\n| 4 | 3-10-20 |  8.588 |\n| 5 | 10-08-20 | 20.397 |\n| 6 | 8-09-20 | 18.780 |\n| 7 | NA |  1.380 |\n\n",
            "text/latex": "A data.frame: 6 × 2\n\\begin{tabular}{r|ll}\n  & Date\\_Column & Sales\\_in\\_thousands\\\\\n  & <date> & <dbl>\\\\\n\\hline\n\t1 & 2-02-20 & 16.919\\\\\n\t2 & 6-03-20 & 39.384\\\\\n\t4 & 3-10-20 &  8.588\\\\\n\t5 & 10-08-20 & 20.397\\\\\n\t6 & 8-09-20 & 18.780\\\\\n\t7 & NA &  1.380\\\\\n\\end{tabular}\n",
            "text/plain": [
              "  Date_Column Sales_in_thousands\n",
              "1 2-02-20     16.919            \n",
              "2 6-03-20     39.384            \n",
              "4 3-10-20      8.588            \n",
              "5 10-08-20    20.397            \n",
              "6 8-09-20     18.780            \n",
              "7 <NA>         1.380            "
            ]
          },
          "metadata": {}
        }
      ]
    },
    {
      "cell_type": "code",
      "source": [
        "# check sales over time using Line\n",
        "options(repr.plot.width = 12)\n",
        "ggplot(data = car, aes(x = Date_Column, y = Sales_in_thousands, color = \"red\")) +\n",
        "  geom_line() +\n",
        "  labs(title = \"Sales Over Time\",\n",
        "       x = \"Date\",\n",
        "       y = \"Sales (in Thousands)\")"
      ],
      "metadata": {
        "colab": {
          "base_uri": "https://localhost:8080/",
          "height": 472
        },
        "id": "SMFji8W9YObM",
        "outputId": "8f477cbe-ecd3-4db5-fc61-cac8c3402930"
      },
      "execution_count": null,
      "outputs": [
        {
          "output_type": "stream",
          "name": "stderr",
          "text": [
            "Warning message:\n",
            "“\u001b[1m\u001b[22mRemoved 77 rows containing missing values (`geom_line()`).”\n"
          ]
        },
        {
          "output_type": "display_data",
          "data": {
            "text/plain": [
              "plot without title"
            ],
            "image/png": "[encoded data removed]"
          },
          "metadata": {
            "image/png": {
              "width": 720,
              "height": 420
            }
          }
        }
      ]
    },
    {
      "cell_type": "code",
      "source": [
        "head(car)"
      ],
      "metadata": {
        "colab": {
          "base_uri": "https://localhost:8080/",
          "height": 306
        },
        "id": "b_4D2RVubg6n",
        "outputId": "000768b1-3d04-416f-b46d-b8ef0f507de6"
      },
      "execution_count": null,
      "outputs": [
        {
          "output_type": "display_data",
          "data": {
            "text/html": [
              "<table class=\"dataframe\">\n",
              "<caption>A data.frame: 6 × 17</caption>\n",
              "<thead>\n",
              "\t<tr><th></th><th scope=col>Manufacturer</th><th scope=col>Model</th><th scope=col>Sales_in_thousands</th><th scope=col>X__year_resale_value</th><th scope=col>Vehicle_type</th><th scope=col>Price_in_thousands</th><th scope=col>Engine_size</th><th scope=col>Horsepower</th><th scope=col>Wheelbase</th><th scope=col>Width</th><th scope=col>Length</th><th scope=col>Curb_weight</th><th scope=col>Fuel_capacity</th><th scope=col>Fuel_efficiency</th><th scope=col>Latest_Launch</th><th scope=col>Power_perf_factor</th><th scope=col>Date_Column</th></tr>\n",
              "\t<tr><th></th><th scope=col>&lt;chr&gt;</th><th scope=col>&lt;chr&gt;</th><th scope=col>&lt;dbl&gt;</th><th scope=col>&lt;dbl&gt;</th><th scope=col>&lt;chr&gt;</th><th scope=col>&lt;dbl&gt;</th><th scope=col>&lt;dbl&gt;</th><th scope=col>&lt;int&gt;</th><th scope=col>&lt;dbl&gt;</th><th scope=col>&lt;dbl&gt;</th><th scope=col>&lt;dbl&gt;</th><th scope=col>&lt;dbl&gt;</th><th scope=col>&lt;dbl&gt;</th><th scope=col>&lt;int&gt;</th><th scope=col>&lt;chr&gt;</th><th scope=col>&lt;dbl&gt;</th><th scope=col>&lt;date&gt;</th></tr>\n",
              "</thead>\n",
              "<tbody>\n",
              "\t<tr><th scope=row>1</th><td>Acura</td><td>Integra</td><td>16.919</td><td>16.360</td><td>Passenger</td><td>21.50</td><td>1.8</td><td>140</td><td>101.2</td><td>67.3</td><td>172.4</td><td>2.639</td><td>13.2</td><td>28</td><td>02-02-2012</td><td> 58.28015</td><td>2-02-20</td></tr>\n",
              "\t<tr><th scope=row>2</th><td>Acura</td><td>TL     </td><td>39.384</td><td>19.875</td><td>Passenger</td><td>28.40</td><td>3.2</td><td>225</td><td>108.1</td><td>70.3</td><td>192.9</td><td>3.517</td><td>17.2</td><td>25</td><td>06-03-2011</td><td> 91.37078</td><td>6-03-20</td></tr>\n",
              "\t<tr><th scope=row>4</th><td>Acura</td><td>RL     </td><td> 8.588</td><td>29.725</td><td>Passenger</td><td>42.00</td><td>3.5</td><td>210</td><td>114.6</td><td>71.4</td><td>196.6</td><td>3.850</td><td>18.0</td><td>22</td><td>03-10-2011</td><td> 91.38978</td><td>3-10-20</td></tr>\n",
              "\t<tr><th scope=row>5</th><td>Audi </td><td>A4     </td><td>20.397</td><td>22.255</td><td>Passenger</td><td>23.99</td><td>1.8</td><td>150</td><td>102.6</td><td>68.2</td><td>178.0</td><td>2.998</td><td>16.4</td><td>27</td><td>10-08-2011</td><td> 62.77764</td><td>10-08-20</td></tr>\n",
              "\t<tr><th scope=row>6</th><td>Audi </td><td>A6     </td><td>18.780</td><td>23.555</td><td>Passenger</td><td>33.95</td><td>2.8</td><td>200</td><td>108.7</td><td>76.1</td><td>192.0</td><td>3.561</td><td>18.5</td><td>22</td><td>08-09-2011</td><td> 84.56511</td><td>8-09-20</td></tr>\n",
              "\t<tr><th scope=row>7</th><td>Audi </td><td>A8     </td><td> 1.380</td><td>39.000</td><td>Passenger</td><td>62.00</td><td>4.2</td><td>310</td><td>113.0</td><td>74.0</td><td>198.2</td><td>3.902</td><td>23.7</td><td>21</td><td>2/27/2012 </td><td>134.65686</td><td>NA</td></tr>\n",
              "</tbody>\n",
              "</table>\n"
            ],
            "text/markdown": "\nA data.frame: 6 × 17\n\n| <!--/--> | Manufacturer &lt;chr&gt; | Model &lt;chr&gt; | Sales_in_thousands &lt;dbl&gt; | X__year_resale_value &lt;dbl&gt; | Vehicle_type &lt;chr&gt; | Price_in_thousands &lt;dbl&gt; | Engine_size &lt;dbl&gt; | Horsepower &lt;int&gt; | Wheelbase &lt;dbl&gt; | Width &lt;dbl&gt; | Length &lt;dbl&gt; | Curb_weight &lt;dbl&gt; | Fuel_capacity &lt;dbl&gt; | Fuel_efficiency &lt;int&gt; | Latest_Launch &lt;chr&gt; | Power_perf_factor &lt;dbl&gt; | Date_Column &lt;date&gt; |\n|---|---|---|---|---|---|---|---|---|---|---|---|---|---|---|---|---|---|\n| 1 | Acura | Integra | 16.919 | 16.360 | Passenger | 21.50 | 1.8 | 140 | 101.2 | 67.3 | 172.4 | 2.639 | 13.2 | 28 | 02-02-2012 |  58.28015 | 2-02-20 |\n| 2 | Acura | TL      | 39.384 | 19.875 | Passenger | 28.40 | 3.2 | 225 | 108.1 | 70.3 | 192.9 | 3.517 | 17.2 | 25 | 06-03-2011 |  91.37078 | 6-03-20 |\n| 4 | Acura | RL      |  8.588 | 29.725 | Passenger | 42.00 | 3.5 | 210 | 114.6 | 71.4 | 196.6 | 3.850 | 18.0 | 22 | 03-10-2011 |  91.38978 | 3-10-20 |\n| 5 | Audi  | A4      | 20.397 | 22.255 | Passenger | 23.99 | 1.8 | 150 | 102.6 | 68.2 | 178.0 | 2.998 | 16.4 | 27 | 10-08-2011 |  62.77764 | 10-08-20 |\n| 6 | Audi  | A6      | 18.780 | 23.555 | Passenger | 33.95 | 2.8 | 200 | 108.7 | 76.1 | 192.0 | 3.561 | 18.5 | 22 | 08-09-2011 |  84.56511 | 8-09-20 |\n| 7 | Audi  | A8      |  1.380 | 39.000 | Passenger | 62.00 | 4.2 | 310 | 113.0 | 74.0 | 198.2 | 3.902 | 23.7 | 21 | 2/27/2012  | 134.65686 | NA |\n\n",
            "text/latex": "A data.frame: 6 × 17\n\\begin{tabular}{r|lllllllllllllllll}\n  & Manufacturer & Model & Sales\\_in\\_thousands & X\\_\\_year\\_resale\\_value & Vehicle\\_type & Price\\_in\\_thousands & Engine\\_size & Horsepower & Wheelbase & Width & Length & Curb\\_weight & Fuel\\_capacity & Fuel\\_efficiency & Latest\\_Launch & Power\\_perf\\_factor & Date\\_Column\\\\\n  & <chr> & <chr> & <dbl> & <dbl> & <chr> & <dbl> & <dbl> & <int> & <dbl> & <dbl> & <dbl> & <dbl> & <dbl> & <int> & <chr> & <dbl> & <date>\\\\\n\\hline\n\t1 & Acura & Integra & 16.919 & 16.360 & Passenger & 21.50 & 1.8 & 140 & 101.2 & 67.3 & 172.4 & 2.639 & 13.2 & 28 & 02-02-2012 &  58.28015 & 2-02-20\\\\\n\t2 & Acura & TL      & 39.384 & 19.875 & Passenger & 28.40 & 3.2 & 225 & 108.1 & 70.3 & 192.9 & 3.517 & 17.2 & 25 & 06-03-2011 &  91.37078 & 6-03-20\\\\\n\t4 & Acura & RL      &  8.588 & 29.725 & Passenger & 42.00 & 3.5 & 210 & 114.6 & 71.4 & 196.6 & 3.850 & 18.0 & 22 & 03-10-2011 &  91.38978 & 3-10-20\\\\\n\t5 & Audi  & A4      & 20.397 & 22.255 & Passenger & 23.99 & 1.8 & 150 & 102.6 & 68.2 & 178.0 & 2.998 & 16.4 & 27 & 10-08-2011 &  62.77764 & 10-08-20\\\\\n\t6 & Audi  & A6      & 18.780 & 23.555 & Passenger & 33.95 & 2.8 & 200 & 108.7 & 76.1 & 192.0 & 3.561 & 18.5 & 22 & 08-09-2011 &  84.56511 & 8-09-20\\\\\n\t7 & Audi  & A8      &  1.380 & 39.000 & Passenger & 62.00 & 4.2 & 310 & 113.0 & 74.0 & 198.2 & 3.902 & 23.7 & 21 & 2/27/2012  & 134.65686 & NA\\\\\n\\end{tabular}\n",
            "text/plain": [
              "  Manufacturer Model   Sales_in_thousands X__year_resale_value Vehicle_type\n",
              "1 Acura        Integra 16.919             16.360               Passenger   \n",
              "2 Acura        TL      39.384             19.875               Passenger   \n",
              "4 Acura        RL       8.588             29.725               Passenger   \n",
              "5 Audi         A4      20.397             22.255               Passenger   \n",
              "6 Audi         A6      18.780             23.555               Passenger   \n",
              "7 Audi         A8       1.380             39.000               Passenger   \n",
              "  Price_in_thousands Engine_size Horsepower Wheelbase Width Length Curb_weight\n",
              "1 21.50              1.8         140        101.2     67.3  172.4  2.639      \n",
              "2 28.40              3.2         225        108.1     70.3  192.9  3.517      \n",
              "4 42.00              3.5         210        114.6     71.4  196.6  3.850      \n",
              "5 23.99              1.8         150        102.6     68.2  178.0  2.998      \n",
              "6 33.95              2.8         200        108.7     76.1  192.0  3.561      \n",
              "7 62.00              4.2         310        113.0     74.0  198.2  3.902      \n",
              "  Fuel_capacity Fuel_efficiency Latest_Launch Power_perf_factor Date_Column\n",
              "1 13.2          28              02-02-2012     58.28015         2-02-20    \n",
              "2 17.2          25              06-03-2011     91.37078         6-03-20    \n",
              "4 18.0          22              03-10-2011     91.38978         3-10-20    \n",
              "5 16.4          27              10-08-2011     62.77764         10-08-20   \n",
              "6 18.5          22              08-09-2011     84.56511         8-09-20    \n",
              "7 23.7          21              2/27/2012     134.65686         <NA>       "
            ]
          },
          "metadata": {}
        }
      ]
    },
    {
      "cell_type": "code",
      "source": [
        "count(car %>% group_by(Vehicle_type))"
      ],
      "metadata": {
        "colab": {
          "base_uri": "https://localhost:8080/",
          "height": 161
        },
        "id": "UIuZUFXbc0zn",
        "outputId": "ceb01ac2-6f45-46d7-acec-8351d2acf927"
      },
      "execution_count": null,
      "outputs": [
        {
          "output_type": "display_data",
          "data": {
            "text/html": [
              "<table class=\"dataframe\">\n",
              "<caption>A grouped_df: 2 × 2</caption>\n",
              "<thead>\n",
              "\t<tr><th scope=col>Vehicle_type</th><th scope=col>n</th></tr>\n",
              "\t<tr><th scope=col>&lt;chr&gt;</th><th scope=col>&lt;int&gt;</th></tr>\n",
              "</thead>\n",
              "<tbody>\n",
              "\t<tr><td>Car      </td><td>29</td></tr>\n",
              "\t<tr><td>Passenger</td><td>88</td></tr>\n",
              "</tbody>\n",
              "</table>\n"
            ],
            "text/markdown": "\nA grouped_df: 2 × 2\n\n| Vehicle_type &lt;chr&gt; | n &lt;int&gt; |\n|---|---|\n| Car       | 29 |\n| Passenger | 88 |\n\n",
            "text/latex": "A grouped\\_df: 2 × 2\n\\begin{tabular}{ll}\n Vehicle\\_type & n\\\\\n <chr> & <int>\\\\\n\\hline\n\t Car       & 29\\\\\n\t Passenger & 88\\\\\n\\end{tabular}\n",
            "text/plain": [
              "  Vehicle_type n \n",
              "1 Car          29\n",
              "2 Passenger    88"
            ]
          },
          "metadata": {}
        }
      ]
    },
    {
      "cell_type": "code",
      "source": [
        "head(car\n",
        ")"
      ],
      "metadata": {
        "colab": {
          "base_uri": "https://localhost:8080/",
          "height": 306
        },
        "id": "qDQEX_JWdRSg",
        "outputId": "b752d80d-f80a-4534-9e94-d5880137a9e1"
      },
      "execution_count": null,
      "outputs": [
        {
          "output_type": "display_data",
          "data": {
            "text/html": [
              "<table class=\"dataframe\">\n",
              "<caption>A data.frame: 6 × 17</caption>\n",
              "<thead>\n",
              "\t<tr><th></th><th scope=col>Manufacturer</th><th scope=col>Model</th><th scope=col>Sales_in_thousands</th><th scope=col>X__year_resale_value</th><th scope=col>Vehicle_type</th><th scope=col>Price_in_thousands</th><th scope=col>Engine_size</th><th scope=col>Horsepower</th><th scope=col>Wheelbase</th><th scope=col>Width</th><th scope=col>Length</th><th scope=col>Curb_weight</th><th scope=col>Fuel_capacity</th><th scope=col>Fuel_efficiency</th><th scope=col>Latest_Launch</th><th scope=col>Power_perf_factor</th><th scope=col>Date_Column</th></tr>\n",
              "\t<tr><th></th><th scope=col>&lt;chr&gt;</th><th scope=col>&lt;chr&gt;</th><th scope=col>&lt;dbl&gt;</th><th scope=col>&lt;dbl&gt;</th><th scope=col>&lt;chr&gt;</th><th scope=col>&lt;dbl&gt;</th><th scope=col>&lt;dbl&gt;</th><th scope=col>&lt;int&gt;</th><th scope=col>&lt;dbl&gt;</th><th scope=col>&lt;dbl&gt;</th><th scope=col>&lt;dbl&gt;</th><th scope=col>&lt;dbl&gt;</th><th scope=col>&lt;dbl&gt;</th><th scope=col>&lt;int&gt;</th><th scope=col>&lt;chr&gt;</th><th scope=col>&lt;dbl&gt;</th><th scope=col>&lt;date&gt;</th></tr>\n",
              "</thead>\n",
              "<tbody>\n",
              "\t<tr><th scope=row>1</th><td>Acura</td><td>Integra</td><td>16.919</td><td>16.360</td><td>Passenger</td><td>21.50</td><td>1.8</td><td>140</td><td>101.2</td><td>67.3</td><td>172.4</td><td>2.639</td><td>13.2</td><td>28</td><td>02-02-2012</td><td> 58.28015</td><td>2-02-20</td></tr>\n",
              "\t<tr><th scope=row>2</th><td>Acura</td><td>TL     </td><td>39.384</td><td>19.875</td><td>Passenger</td><td>28.40</td><td>3.2</td><td>225</td><td>108.1</td><td>70.3</td><td>192.9</td><td>3.517</td><td>17.2</td><td>25</td><td>06-03-2011</td><td> 91.37078</td><td>6-03-20</td></tr>\n",
              "\t<tr><th scope=row>4</th><td>Acura</td><td>RL     </td><td> 8.588</td><td>29.725</td><td>Passenger</td><td>42.00</td><td>3.5</td><td>210</td><td>114.6</td><td>71.4</td><td>196.6</td><td>3.850</td><td>18.0</td><td>22</td><td>03-10-2011</td><td> 91.38978</td><td>3-10-20</td></tr>\n",
              "\t<tr><th scope=row>5</th><td>Audi </td><td>A4     </td><td>20.397</td><td>22.255</td><td>Passenger</td><td>23.99</td><td>1.8</td><td>150</td><td>102.6</td><td>68.2</td><td>178.0</td><td>2.998</td><td>16.4</td><td>27</td><td>10-08-2011</td><td> 62.77764</td><td>10-08-20</td></tr>\n",
              "\t<tr><th scope=row>6</th><td>Audi </td><td>A6     </td><td>18.780</td><td>23.555</td><td>Passenger</td><td>33.95</td><td>2.8</td><td>200</td><td>108.7</td><td>76.1</td><td>192.0</td><td>3.561</td><td>18.5</td><td>22</td><td>08-09-2011</td><td> 84.56511</td><td>8-09-20</td></tr>\n",
              "\t<tr><th scope=row>7</th><td>Audi </td><td>A8     </td><td> 1.380</td><td>39.000</td><td>Passenger</td><td>62.00</td><td>4.2</td><td>310</td><td>113.0</td><td>74.0</td><td>198.2</td><td>3.902</td><td>23.7</td><td>21</td><td>2/27/2012 </td><td>134.65686</td><td>NA</td></tr>\n",
              "</tbody>\n",
              "</table>\n"
            ],
            "text/markdown": "\nA data.frame: 6 × 17\n\n| <!--/--> | Manufacturer &lt;chr&gt; | Model &lt;chr&gt; | Sales_in_thousands &lt;dbl&gt; | X__year_resale_value &lt;dbl&gt; | Vehicle_type &lt;chr&gt; | Price_in_thousands &lt;dbl&gt; | Engine_size &lt;dbl&gt; | Horsepower &lt;int&gt; | Wheelbase &lt;dbl&gt; | Width &lt;dbl&gt; | Length &lt;dbl&gt; | Curb_weight &lt;dbl&gt; | Fuel_capacity &lt;dbl&gt; | Fuel_efficiency &lt;int&gt; | Latest_Launch &lt;chr&gt; | Power_perf_factor &lt;dbl&gt; | Date_Column &lt;date&gt; |\n|---|---|---|---|---|---|---|---|---|---|---|---|---|---|---|---|---|---|\n| 1 | Acura | Integra | 16.919 | 16.360 | Passenger | 21.50 | 1.8 | 140 | 101.2 | 67.3 | 172.4 | 2.639 | 13.2 | 28 | 02-02-2012 |  58.28015 | 2-02-20 |\n| 2 | Acura | TL      | 39.384 | 19.875 | Passenger | 28.40 | 3.2 | 225 | 108.1 | 70.3 | 192.9 | 3.517 | 17.2 | 25 | 06-03-2011 |  91.37078 | 6-03-20 |\n| 4 | Acura | RL      |  8.588 | 29.725 | Passenger | 42.00 | 3.5 | 210 | 114.6 | 71.4 | 196.6 | 3.850 | 18.0 | 22 | 03-10-2011 |  91.38978 | 3-10-20 |\n| 5 | Audi  | A4      | 20.397 | 22.255 | Passenger | 23.99 | 1.8 | 150 | 102.6 | 68.2 | 178.0 | 2.998 | 16.4 | 27 | 10-08-2011 |  62.77764 | 10-08-20 |\n| 6 | Audi  | A6      | 18.780 | 23.555 | Passenger | 33.95 | 2.8 | 200 | 108.7 | 76.1 | 192.0 | 3.561 | 18.5 | 22 | 08-09-2011 |  84.56511 | 8-09-20 |\n| 7 | Audi  | A8      |  1.380 | 39.000 | Passenger | 62.00 | 4.2 | 310 | 113.0 | 74.0 | 198.2 | 3.902 | 23.7 | 21 | 2/27/2012  | 134.65686 | NA |\n\n",
            "text/latex": "A data.frame: 6 × 17\n\\begin{tabular}{r|lllllllllllllllll}\n  & Manufacturer & Model & Sales\\_in\\_thousands & X\\_\\_year\\_resale\\_value & Vehicle\\_type & Price\\_in\\_thousands & Engine\\_size & Horsepower & Wheelbase & Width & Length & Curb\\_weight & Fuel\\_capacity & Fuel\\_efficiency & Latest\\_Launch & Power\\_perf\\_factor & Date\\_Column\\\\\n  & <chr> & <chr> & <dbl> & <dbl> & <chr> & <dbl> & <dbl> & <int> & <dbl> & <dbl> & <dbl> & <dbl> & <dbl> & <int> & <chr> & <dbl> & <date>\\\\\n\\hline\n\t1 & Acura & Integra & 16.919 & 16.360 & Passenger & 21.50 & 1.8 & 140 & 101.2 & 67.3 & 172.4 & 2.639 & 13.2 & 28 & 02-02-2012 &  58.28015 & 2-02-20\\\\\n\t2 & Acura & TL      & 39.384 & 19.875 & Passenger & 28.40 & 3.2 & 225 & 108.1 & 70.3 & 192.9 & 3.517 & 17.2 & 25 & 06-03-2011 &  91.37078 & 6-03-20\\\\\n\t4 & Acura & RL      &  8.588 & 29.725 & Passenger & 42.00 & 3.5 & 210 & 114.6 & 71.4 & 196.6 & 3.850 & 18.0 & 22 & 03-10-2011 &  91.38978 & 3-10-20\\\\\n\t5 & Audi  & A4      & 20.397 & 22.255 & Passenger & 23.99 & 1.8 & 150 & 102.6 & 68.2 & 178.0 & 2.998 & 16.4 & 27 & 10-08-2011 &  62.77764 & 10-08-20\\\\\n\t6 & Audi  & A6      & 18.780 & 23.555 & Passenger & 33.95 & 2.8 & 200 & 108.7 & 76.1 & 192.0 & 3.561 & 18.5 & 22 & 08-09-2011 &  84.56511 & 8-09-20\\\\\n\t7 & Audi  & A8      &  1.380 & 39.000 & Passenger & 62.00 & 4.2 & 310 & 113.0 & 74.0 & 198.2 & 3.902 & 23.7 & 21 & 2/27/2012  & 134.65686 & NA\\\\\n\\end{tabular}\n",
            "text/plain": [
              "  Manufacturer Model   Sales_in_thousands X__year_resale_value Vehicle_type\n",
              "1 Acura        Integra 16.919             16.360               Passenger   \n",
              "2 Acura        TL      39.384             19.875               Passenger   \n",
              "4 Acura        RL       8.588             29.725               Passenger   \n",
              "5 Audi         A4      20.397             22.255               Passenger   \n",
              "6 Audi         A6      18.780             23.555               Passenger   \n",
              "7 Audi         A8       1.380             39.000               Passenger   \n",
              "  Price_in_thousands Engine_size Horsepower Wheelbase Width Length Curb_weight\n",
              "1 21.50              1.8         140        101.2     67.3  172.4  2.639      \n",
              "2 28.40              3.2         225        108.1     70.3  192.9  3.517      \n",
              "4 42.00              3.5         210        114.6     71.4  196.6  3.850      \n",
              "5 23.99              1.8         150        102.6     68.2  178.0  2.998      \n",
              "6 33.95              2.8         200        108.7     76.1  192.0  3.561      \n",
              "7 62.00              4.2         310        113.0     74.0  198.2  3.902      \n",
              "  Fuel_capacity Fuel_efficiency Latest_Launch Power_perf_factor Date_Column\n",
              "1 13.2          28              02-02-2012     58.28015         2-02-20    \n",
              "2 17.2          25              06-03-2011     91.37078         6-03-20    \n",
              "4 18.0          22              03-10-2011     91.38978         3-10-20    \n",
              "5 16.4          27              10-08-2011     62.77764         10-08-20   \n",
              "6 18.5          22              08-09-2011     84.56511         8-09-20    \n",
              "7 23.7          21              2/27/2012     134.65686         <NA>       "
            ]
          },
          "metadata": {}
        }
      ]
    },
    {
      "cell_type": "code",
      "source": [
        "summary(car)"
      ],
      "metadata": {
        "colab": {
          "base_uri": "https://localhost:8080/",
          "height": 711
        },
        "id": "c-jcIAcsd-Uf",
        "outputId": "32c1c678-77d3-4f09-f4e3-018df577dbf8"
      },
      "execution_count": null,
      "outputs": [
        {
          "output_type": "display_data",
          "data": {
            "text/plain": [
              " Manufacturer          Model           Sales_in_thousands X__year_resale_value\n",
              " Length:117         Length:117         Min.   :  0.11     Min.   : 5.16       \n",
              " Class :character   Class :character   1st Qu.: 16.77     1st Qu.:11.24       \n",
              " Mode  :character   Mode  :character   Median : 32.30     Median :14.01       \n",
              "                                       Mean   : 59.11     Mean   :18.03       \n",
              "                                       3rd Qu.: 76.03     3rd Qu.:19.88       \n",
              "                                       Max.   :540.56     Max.   :67.55       \n",
              "                                                                              \n",
              " Vehicle_type       Price_in_thousands  Engine_size      Horsepower   \n",
              " Length:117         Min.   : 9.235     Min.   :1.000   Min.   : 55.0  \n",
              " Class :character   1st Qu.:16.980     1st Qu.:2.200   1st Qu.:140.0  \n",
              " Mode  :character   Median :21.665     Median :3.000   Median :175.0  \n",
              "                    Mean   :25.969     Mean   :3.049   Mean   :181.3  \n",
              "                    3rd Qu.:29.465     3rd Qu.:3.800   3rd Qu.:210.0  \n",
              "                    Max.   :82.600     Max.   :8.000   Max.   :450.0  \n",
              "                                                                      \n",
              "   Wheelbase         Width           Length       Curb_weight   \n",
              " Min.   : 92.6   Min.   :62.60   Min.   :149.4   Min.   :1.895  \n",
              " 1st Qu.:102.4   1st Qu.:68.50   1st Qu.:177.5   1st Qu.:2.911  \n",
              " Median :107.0   Median :70.40   Median :187.8   Median :3.340  \n",
              " Mean   :107.3   Mean   :71.19   Mean   :187.7   Mean   :3.324  \n",
              " 3rd Qu.:111.6   3rd Qu.:73.60   3rd Qu.:196.5   3rd Qu.:3.823  \n",
              " Max.   :138.7   Max.   :79.30   Max.   :224.5   Max.   :5.115  \n",
              "                                                                \n",
              " Fuel_capacity   Fuel_efficiency Latest_Launch      Power_perf_factor\n",
              " Min.   :10.30   Min.   :15.00   Length:117         Min.   : 23.28   \n",
              " 1st Qu.:15.30   1st Qu.:22.00   Class :character   1st Qu.: 55.30   \n",
              " Median :17.20   Median :24.00   Mode  :character   Median : 70.66   \n",
              " Mean   :17.81   Mean   :24.12                      Mean   : 74.93   \n",
              " 3rd Qu.:19.80   3rd Qu.:26.00                      3rd Qu.: 85.83   \n",
              " Max.   :32.00   Max.   :45.00                      Max.   :188.14   \n",
              "                                                                     \n",
              "  Date_Column      \n",
              " Min.   :1-06-20   \n",
              " 1st Qu.:4-03-28   \n",
              " Median :6-10-05   \n",
              " Mean   :6-11-30   \n",
              " 3rd Qu.:9-02-03   \n",
              " Max.   :12-12-20  \n",
              " NA's   :77        "
            ]
          },
          "metadata": {}
        }
      ]
    },
    {
      "cell_type": "code",
      "source": [
        "car"
      ],
      "metadata": {
        "colab": {
          "base_uri": "https://localhost:8080/",
          "height": 1000
        },
        "id": "aWWSEgsTeOVx",
        "outputId": "2261e055-b5ad-4c13-9bec-16adc3982a9d"
      },
      "execution_count": null,
      "outputs": [
        {
          "output_type": "display_data",
          "data": {
            "text/html": [
              "<table class=\"dataframe\">\n",
              "<caption>A data.frame: 117 × 17</caption>\n",
              "<thead>\n",
              "\t<tr><th></th><th scope=col>Manufacturer</th><th scope=col>Model</th><th scope=col>Sales_in_thousands</th><th scope=col>X__year_resale_value</th><th scope=col>Vehicle_type</th><th scope=col>Price_in_thousands</th><th scope=col>Engine_size</th><th scope=col>Horsepower</th><th scope=col>Wheelbase</th><th scope=col>Width</th><th scope=col>Length</th><th scope=col>Curb_weight</th><th scope=col>Fuel_capacity</th><th scope=col>Fuel_efficiency</th><th scope=col>Latest_Launch</th><th scope=col>Power_perf_factor</th><th scope=col>Date_Column</th></tr>\n",
              "\t<tr><th></th><th scope=col>&lt;chr&gt;</th><th scope=col>&lt;chr&gt;</th><th scope=col>&lt;dbl&gt;</th><th scope=col>&lt;dbl&gt;</th><th scope=col>&lt;chr&gt;</th><th scope=col>&lt;dbl&gt;</th><th scope=col>&lt;dbl&gt;</th><th scope=col>&lt;int&gt;</th><th scope=col>&lt;dbl&gt;</th><th scope=col>&lt;dbl&gt;</th><th scope=col>&lt;dbl&gt;</th><th scope=col>&lt;dbl&gt;</th><th scope=col>&lt;dbl&gt;</th><th scope=col>&lt;int&gt;</th><th scope=col>&lt;chr&gt;</th><th scope=col>&lt;dbl&gt;</th><th scope=col>&lt;date&gt;</th></tr>\n",
              "</thead>\n",
              "<tbody>\n",
              "\t<tr><th scope=row>1</th><td>Acura    </td><td>Integra      </td><td> 16.919</td><td>16.360</td><td>Passenger</td><td>21.500</td><td>1.8</td><td>140</td><td>101.2</td><td>67.3</td><td>172.4</td><td>2.639</td><td>13.2</td><td>28</td><td>02-02-2012</td><td> 58.28015</td><td>2-02-20</td></tr>\n",
              "\t<tr><th scope=row>2</th><td>Acura    </td><td>TL           </td><td> 39.384</td><td>19.875</td><td>Passenger</td><td>28.400</td><td>3.2</td><td>225</td><td>108.1</td><td>70.3</td><td>192.9</td><td>3.517</td><td>17.2</td><td>25</td><td>06-03-2011</td><td> 91.37078</td><td>6-03-20</td></tr>\n",
              "\t<tr><th scope=row>4</th><td>Acura    </td><td>RL           </td><td>  8.588</td><td>29.725</td><td>Passenger</td><td>42.000</td><td>3.5</td><td>210</td><td>114.6</td><td>71.4</td><td>196.6</td><td>3.850</td><td>18.0</td><td>22</td><td>03-10-2011</td><td> 91.38978</td><td>3-10-20</td></tr>\n",
              "\t<tr><th scope=row>5</th><td>Audi     </td><td>A4           </td><td> 20.397</td><td>22.255</td><td>Passenger</td><td>23.990</td><td>1.8</td><td>150</td><td>102.6</td><td>68.2</td><td>178.0</td><td>2.998</td><td>16.4</td><td>27</td><td>10-08-2011</td><td> 62.77764</td><td>10-08-20</td></tr>\n",
              "\t<tr><th scope=row>6</th><td>Audi     </td><td>A6           </td><td> 18.780</td><td>23.555</td><td>Passenger</td><td>33.950</td><td>2.8</td><td>200</td><td>108.7</td><td>76.1</td><td>192.0</td><td>3.561</td><td>18.5</td><td>22</td><td>08-09-2011</td><td> 84.56511</td><td>8-09-20</td></tr>\n",
              "\t<tr><th scope=row>7</th><td>Audi     </td><td>A8           </td><td>  1.380</td><td>39.000</td><td>Passenger</td><td>62.000</td><td>4.2</td><td>310</td><td>113.0</td><td>74.0</td><td>198.2</td><td>3.902</td><td>23.7</td><td>21</td><td>2/27/2012 </td><td>134.65686</td><td>NA</td></tr>\n",
              "\t<tr><th scope=row>9</th><td>BMW      </td><td>328i         </td><td>  9.231</td><td>28.675</td><td>Passenger</td><td>33.400</td><td>2.8</td><td>193</td><td>107.3</td><td>68.5</td><td>176.0</td><td>3.197</td><td>16.6</td><td>24</td><td>1/29/2012 </td><td> 81.87707</td><td>NA</td></tr>\n",
              "\t<tr><th scope=row>10</th><td>BMW      </td><td>528i         </td><td> 17.527</td><td>36.125</td><td>Passenger</td><td>38.900</td><td>2.8</td><td>193</td><td>111.4</td><td>70.9</td><td>188.0</td><td>3.472</td><td>18.5</td><td>25</td><td>04-04-2011</td><td> 83.99872</td><td>4-04-20</td></tr>\n",
              "\t<tr><th scope=row>11</th><td>Buick    </td><td>Century      </td><td> 91.561</td><td>12.475</td><td>Passenger</td><td>21.975</td><td>3.1</td><td>175</td><td>109.0</td><td>72.7</td><td>194.6</td><td>3.368</td><td>17.5</td><td>25</td><td>11-02-2011</td><td> 71.18145</td><td>11-02-20</td></tr>\n",
              "\t<tr><th scope=row>12</th><td>Buick    </td><td>Regal        </td><td> 39.350</td><td>13.740</td><td>Passenger</td><td>25.300</td><td>3.8</td><td>240</td><td>109.0</td><td>72.7</td><td>196.2</td><td>3.543</td><td>17.5</td><td>23</td><td>09-03-2011</td><td> 95.63670</td><td>9-03-20</td></tr>\n",
              "\t<tr><th scope=row>13</th><td>Buick    </td><td>Park Avenue  </td><td> 27.851</td><td>20.190</td><td>Passenger</td><td>31.965</td><td>3.8</td><td>205</td><td>113.8</td><td>74.7</td><td>206.8</td><td>3.778</td><td>18.5</td><td>24</td><td>3/23/2012 </td><td> 85.82841</td><td>NA</td></tr>\n",
              "\t<tr><th scope=row>14</th><td>Buick    </td><td>LeSabre      </td><td> 83.257</td><td>13.360</td><td>Passenger</td><td>27.885</td><td>3.8</td><td>205</td><td>112.2</td><td>73.5</td><td>200.0</td><td>3.591</td><td>17.5</td><td>25</td><td>7/23/2011 </td><td> 84.25453</td><td>NA</td></tr>\n",
              "\t<tr><th scope=row>15</th><td>Cadillac </td><td>DeVille      </td><td> 63.729</td><td>22.525</td><td>Passenger</td><td>39.895</td><td>4.6</td><td>275</td><td>115.3</td><td>74.5</td><td>207.2</td><td>3.978</td><td>18.5</td><td>22</td><td>2/23/2012 </td><td>113.85460</td><td>NA</td></tr>\n",
              "\t<tr><th scope=row>17</th><td>Cadillac </td><td>Eldorado     </td><td>  6.536</td><td>25.725</td><td>Passenger</td><td>39.665</td><td>4.6</td><td>275</td><td>108.0</td><td>75.5</td><td>200.6</td><td>3.843</td><td>19.0</td><td>22</td><td>11/27/2011</td><td>113.76587</td><td>NA</td></tr>\n",
              "\t<tr><th scope=row>18</th><td>Cadillac </td><td>Catera       </td><td> 11.185</td><td>18.225</td><td>Passenger</td><td>31.010</td><td>3.0</td><td>200</td><td>107.4</td><td>70.3</td><td>194.8</td><td>3.770</td><td>18.0</td><td>22</td><td>9/28/2011 </td><td> 83.48309</td><td>NA</td></tr>\n",
              "\t<tr><th scope=row>20</th><td>Chevrolet</td><td>Cavalier     </td><td>145.519</td><td> 9.250</td><td>Passenger</td><td>13.260</td><td>2.2</td><td>115</td><td>104.1</td><td>67.9</td><td>180.9</td><td>2.676</td><td>14.3</td><td>27</td><td>8/17/2011 </td><td> 46.36335</td><td>NA</td></tr>\n",
              "\t<tr><th scope=row>21</th><td>Chevrolet</td><td>Malibu       </td><td>135.126</td><td>11.225</td><td>Passenger</td><td>16.535</td><td>3.1</td><td>170</td><td>107.0</td><td>69.4</td><td>190.4</td><td>3.051</td><td>15.0</td><td>25</td><td>3/19/2012 </td><td> 67.31446</td><td>NA</td></tr>\n",
              "\t<tr><th scope=row>22</th><td>Chevrolet</td><td>Lumina       </td><td> 24.629</td><td>10.310</td><td>Passenger</td><td>18.890</td><td>3.1</td><td>175</td><td>107.5</td><td>72.5</td><td>200.9</td><td>3.330</td><td>16.6</td><td>25</td><td>5/24/2011 </td><td> 69.99140</td><td>NA</td></tr>\n",
              "\t<tr><th scope=row>23</th><td>Chevrolet</td><td>Monte Carlo  </td><td> 42.593</td><td>11.525</td><td>Passenger</td><td>19.390</td><td>3.4</td><td>180</td><td>110.5</td><td>72.7</td><td>197.9</td><td>3.340</td><td>17.0</td><td>27</td><td>12/22/2011</td><td> 72.03092</td><td>NA</td></tr>\n",
              "\t<tr><th scope=row>24</th><td>Chevrolet</td><td>Camaro       </td><td> 26.402</td><td>13.025</td><td>Passenger</td><td>24.340</td><td>3.8</td><td>200</td><td>101.1</td><td>74.1</td><td>193.2</td><td>3.500</td><td>16.8</td><td>25</td><td>10/23/2011</td><td> 81.11854</td><td>NA</td></tr>\n",
              "\t<tr><th scope=row>25</th><td>Chevrolet</td><td>Corvette     </td><td> 17.947</td><td>36.225</td><td>Passenger</td><td>45.705</td><td>5.7</td><td>345</td><td>104.5</td><td>73.6</td><td>179.7</td><td>3.210</td><td>19.1</td><td>22</td><td>05-12-2012</td><td>141.14115</td><td>5-12-20</td></tr>\n",
              "\t<tr><th scope=row>26</th><td>Chevrolet</td><td>Prizm        </td><td> 32.299</td><td> 9.125</td><td>Passenger</td><td>13.960</td><td>1.8</td><td>120</td><td> 97.1</td><td>66.7</td><td>174.3</td><td>2.398</td><td>13.2</td><td>33</td><td>09-11-2011</td><td> 48.29764</td><td>9-11-20</td></tr>\n",
              "\t<tr><th scope=row>27</th><td>Chevrolet</td><td>Metro        </td><td> 21.855</td><td> 5.160</td><td>Passenger</td><td> 9.235</td><td>1.0</td><td> 55</td><td> 93.1</td><td>62.6</td><td>149.4</td><td>1.895</td><td>10.3</td><td>45</td><td>4/13/2012 </td><td> 23.27627</td><td>NA</td></tr>\n",
              "\t<tr><th scope=row>29</th><td>Chrysler </td><td>Sebring Coupe</td><td>  7.854</td><td>12.360</td><td>Passenger</td><td>19.840</td><td>2.5</td><td>163</td><td>103.7</td><td>69.7</td><td>190.9</td><td>2.967</td><td>15.9</td><td>24</td><td>1/16/2012 </td><td> 65.95718</td><td>NA</td></tr>\n",
              "\t<tr><th scope=row>30</th><td>Chrysler </td><td>Sebring Conv.</td><td> 32.775</td><td>14.180</td><td>Passenger</td><td>24.495</td><td>2.5</td><td>168</td><td>106.0</td><td>69.2</td><td>193.0</td><td>3.332</td><td>16.0</td><td>24</td><td>11/17/2011</td><td> 69.52136</td><td>NA</td></tr>\n",
              "\t<tr><th scope=row>31</th><td>Chrysler </td><td>Concorde     </td><td> 31.148</td><td>13.725</td><td>Passenger</td><td>22.245</td><td>2.7</td><td>200</td><td>113.0</td><td>74.4</td><td>209.1</td><td>3.452</td><td>17.0</td><td>26</td><td>06-06-2012</td><td> 80.02378</td><td>6-06-20</td></tr>\n",
              "\t<tr><th scope=row>32</th><td>Chrysler </td><td>Cirrus       </td><td> 32.306</td><td>12.640</td><td>Passenger</td><td>16.480</td><td>2.0</td><td>132</td><td>108.0</td><td>71.0</td><td>186.0</td><td>2.911</td><td>16.0</td><td>27</td><td>10-06-2011</td><td> 53.56620</td><td>10-06-20</td></tr>\n",
              "\t<tr><th scope=row>33</th><td>Chrysler </td><td>LHS          </td><td> 13.462</td><td>17.325</td><td>Passenger</td><td>28.340</td><td>3.5</td><td>253</td><td>113.0</td><td>74.4</td><td>207.7</td><td>3.564</td><td>17.0</td><td>23</td><td>05-08-2012</td><td>101.32928</td><td>5-08-20</td></tr>\n",
              "\t<tr><th scope=row>36</th><td>Dodge    </td><td>Neon         </td><td> 76.034</td><td> 7.750</td><td>Passenger</td><td>12.640</td><td>2.0</td><td>132</td><td>105.0</td><td>74.4</td><td>174.4</td><td>2.567</td><td>12.5</td><td>29</td><td>12-12-2011</td><td> 52.08490</td><td>12-12-20</td></tr>\n",
              "\t<tr><th scope=row>37</th><td>Dodge    </td><td>Avenger      </td><td>  4.734</td><td>12.545</td><td>Passenger</td><td>19.045</td><td>2.5</td><td>163</td><td>103.7</td><td>69.1</td><td>190.2</td><td>2.879</td><td>15.9</td><td>24</td><td>07-01-2012</td><td> 65.65051</td><td>7-01-20</td></tr>\n",
              "\t<tr><th scope=row>⋮</th><td>⋮</td><td>⋮</td><td>⋮</td><td>⋮</td><td>⋮</td><td>⋮</td><td>⋮</td><td>⋮</td><td>⋮</td><td>⋮</td><td>⋮</td><td>⋮</td><td>⋮</td><td>⋮</td><td>⋮</td><td>⋮</td><td>⋮</td></tr>\n",
              "\t<tr><th scope=row>112</th><td>Oldsmobile</td><td>Aurora        </td><td> 14.690</td><td>19.890</td><td>Passenger</td><td>36.229</td><td>4.0</td><td>250</td><td>113.8</td><td>74.4</td><td>205.4</td><td>3.967</td><td>18.5</td><td>22</td><td>2/18/2011 </td><td>103.44169</td><td>NA</td></tr>\n",
              "\t<tr><th scope=row>113</th><td>Oldsmobile</td><td>Bravada       </td><td> 20.017</td><td>19.925</td><td>Car      </td><td>31.598</td><td>4.3</td><td>190</td><td>107.0</td><td>67.8</td><td>181.2</td><td>4.068</td><td>17.5</td><td>19</td><td>9/21/2011 </td><td> 80.51167</td><td>NA</td></tr>\n",
              "\t<tr><th scope=row>114</th><td>Oldsmobile</td><td>Silhouette    </td><td> 24.361</td><td>15.240</td><td>Car      </td><td>25.345</td><td>3.4</td><td>185</td><td>120.0</td><td>72.2</td><td>201.4</td><td>3.948</td><td>25.0</td><td>22</td><td>6/25/2011 </td><td> 76.09657</td><td>NA</td></tr>\n",
              "\t<tr><th scope=row>115</th><td>Plymouth  </td><td>Neon          </td><td> 32.734</td><td> 7.750</td><td>Passenger</td><td>12.640</td><td>2.0</td><td>132</td><td>105.0</td><td>74.4</td><td>174.4</td><td>2.559</td><td>12.5</td><td>29</td><td>4/26/2011 </td><td> 52.08490</td><td>NA</td></tr>\n",
              "\t<tr><th scope=row>116</th><td>Plymouth  </td><td>Breeze        </td><td>  5.240</td><td> 9.800</td><td>Passenger</td><td>16.080</td><td>2.0</td><td>132</td><td>108.0</td><td>71.0</td><td>186.3</td><td>2.942</td><td>16.0</td><td>27</td><td>11/14/2011</td><td> 53.41190</td><td>NA</td></tr>\n",
              "\t<tr><th scope=row>117</th><td>Plymouth  </td><td>Voyager       </td><td> 24.155</td><td>12.025</td><td>Car      </td><td>18.850</td><td>2.4</td><td>150</td><td>113.3</td><td>76.8</td><td>186.3</td><td>3.528</td><td>20.0</td><td>24</td><td>4/24/2011 </td><td> 60.95119</td><td>NA</td></tr>\n",
              "\t<tr><th scope=row>119</th><td>Pontiac   </td><td>Sunfire       </td><td> 51.645</td><td>13.790</td><td>Passenger</td><td>21.610</td><td>2.4</td><td>150</td><td>104.1</td><td>68.4</td><td>181.9</td><td>2.906</td><td>15.0</td><td>27</td><td>1/25/2012 </td><td> 62.01587</td><td>NA</td></tr>\n",
              "\t<tr><th scope=row>120</th><td>Pontiac   </td><td>Grand Am      </td><td>131.097</td><td>10.290</td><td>Passenger</td><td>19.720</td><td>3.4</td><td>175</td><td>107.0</td><td>70.4</td><td>186.3</td><td>3.091</td><td>15.2</td><td>25</td><td>11/26/2012</td><td> 70.38974</td><td>NA</td></tr>\n",
              "\t<tr><th scope=row>121</th><td>Pontiac   </td><td>Firebird      </td><td> 19.911</td><td>17.805</td><td>Passenger</td><td>25.310</td><td>3.8</td><td>200</td><td>101.1</td><td>74.5</td><td>193.4</td><td>3.492</td><td>16.8</td><td>25</td><td>6/16/2012 </td><td> 81.49273</td><td>NA</td></tr>\n",
              "\t<tr><th scope=row>122</th><td>Pontiac   </td><td>Grand Prix    </td><td> 92.364</td><td>14.010</td><td>Passenger</td><td>21.665</td><td>3.8</td><td>195</td><td>110.5</td><td>72.7</td><td>196.5</td><td>3.396</td><td>18.0</td><td>25</td><td>10/15/2012</td><td> 78.31817</td><td>NA</td></tr>\n",
              "\t<tr><th scope=row>123</th><td>Pontiac   </td><td>Bonneville    </td><td> 35.945</td><td>13.225</td><td>Passenger</td><td>23.755</td><td>3.8</td><td>205</td><td>112.2</td><td>72.6</td><td>202.5</td><td>3.590</td><td>17.5</td><td>24</td><td>5/18/2011 </td><td> 82.66136</td><td>NA</td></tr>\n",
              "\t<tr><th scope=row>125</th><td>Porsche   </td><td>Boxter        </td><td>  8.982</td><td>41.250</td><td>Passenger</td><td>41.430</td><td>2.7</td><td>217</td><td> 95.2</td><td>70.1</td><td>171.0</td><td>2.778</td><td>17.0</td><td>22</td><td>2/19/2012 </td><td> 93.43733</td><td>NA</td></tr>\n",
              "\t<tr><th scope=row>126</th><td>Porsche   </td><td>Carrera Coupe </td><td>  1.280</td><td>60.625</td><td>Passenger</td><td>71.020</td><td>3.4</td><td>300</td><td> 92.6</td><td>69.5</td><td>174.5</td><td>3.032</td><td>17.0</td><td>21</td><td>12/21/2012</td><td>134.39098</td><td>NA</td></tr>\n",
              "\t<tr><th scope=row>127</th><td>Porsche   </td><td>Carrera Cabrio</td><td>  1.866</td><td>67.550</td><td>Passenger</td><td>74.970</td><td>3.4</td><td>300</td><td> 92.6</td><td>69.5</td><td>174.5</td><td>3.075</td><td>17.0</td><td>23</td><td>07-11-2011</td><td>135.91471</td><td>7-11-20</td></tr>\n",
              "\t<tr><th scope=row>130</th><td>Saturn    </td><td>SL            </td><td> 80.620</td><td> 9.200</td><td>Passenger</td><td>10.685</td><td>1.9</td><td>100</td><td>102.4</td><td>66.4</td><td>176.9</td><td>2.332</td><td>12.1</td><td>33</td><td>8/16/2012 </td><td> 39.98642</td><td>NA</td></tr>\n",
              "\t<tr><th scope=row>131</th><td>Saturn    </td><td>SC            </td><td> 24.546</td><td>10.590</td><td>Passenger</td><td>12.535</td><td>1.9</td><td>100</td><td>102.4</td><td>66.4</td><td>180.0</td><td>2.367</td><td>12.1</td><td>33</td><td>3/16/2011 </td><td> 40.70007</td><td>NA</td></tr>\n",
              "\t<tr><th scope=row>132</th><td>Saturn    </td><td>SW            </td><td>  5.223</td><td>10.790</td><td>Passenger</td><td>14.290</td><td>1.9</td><td>124</td><td>102.4</td><td>66.4</td><td>176.9</td><td>2.452</td><td>12.1</td><td>31</td><td>1/15/2011 </td><td> 49.86577</td><td>NA</td></tr>\n",
              "\t<tr><th scope=row>137</th><td>Toyota    </td><td>Corolla       </td><td>142.535</td><td>10.025</td><td>Passenger</td><td>13.108</td><td>1.8</td><td>120</td><td> 97.0</td><td>66.7</td><td>174.0</td><td>2.420</td><td>13.2</td><td>33</td><td>04-11-2011</td><td> 47.96897</td><td>4-11-20</td></tr>\n",
              "\t<tr><th scope=row>138</th><td>Toyota    </td><td>Camry         </td><td>247.994</td><td>13.245</td><td>Passenger</td><td>17.518</td><td>2.2</td><td>133</td><td>105.2</td><td>70.1</td><td>188.5</td><td>2.998</td><td>18.5</td><td>27</td><td>02-10-2011</td><td> 54.37242</td><td>2-10-20</td></tr>\n",
              "\t<tr><th scope=row>139</th><td>Toyota    </td><td>Avalon        </td><td> 63.849</td><td>18.140</td><td>Passenger</td><td>25.545</td><td>3.0</td><td>210</td><td>107.1</td><td>71.7</td><td>191.9</td><td>3.417</td><td>18.5</td><td>26</td><td>8/31/2011 </td><td> 84.91190</td><td>NA</td></tr>\n",
              "\t<tr><th scope=row>140</th><td>Toyota    </td><td>Celica        </td><td> 33.269</td><td>15.445</td><td>Passenger</td><td>16.875</td><td>1.8</td><td>140</td><td>102.4</td><td>68.3</td><td>170.5</td><td>2.425</td><td>14.5</td><td>31</td><td>12/29/2012</td><td> 56.49603</td><td>NA</td></tr>\n",
              "\t<tr><th scope=row>141</th><td>Toyota    </td><td>Tacoma        </td><td> 84.087</td><td> 9.575</td><td>Car      </td><td>11.528</td><td>2.4</td><td>142</td><td>103.3</td><td>66.5</td><td>178.7</td><td>2.580</td><td>15.1</td><td>23</td><td>08-01-2011</td><td> 55.29712</td><td>8-01-20</td></tr>\n",
              "\t<tr><th scope=row>143</th><td>Toyota    </td><td>RAV4          </td><td> 25.106</td><td>13.325</td><td>Car      </td><td>16.888</td><td>2.0</td><td>127</td><td> 94.9</td><td>66.7</td><td>163.8</td><td>2.668</td><td>15.3</td><td>27</td><td>05-06-2011</td><td> 51.95511</td><td>5-06-20</td></tr>\n",
              "\t<tr><th scope=row>144</th><td>Toyota    </td><td>4Runner       </td><td> 68.411</td><td>19.425</td><td>Car      </td><td>22.288</td><td>2.7</td><td>150</td><td>105.3</td><td>66.5</td><td>183.3</td><td>3.440</td><td>18.5</td><td>23</td><td>03-07-2011</td><td> 62.35558</td><td>3-07-20</td></tr>\n",
              "\t<tr><th scope=row>145</th><td>Toyota    </td><td>Land Cruiser  </td><td>  9.835</td><td>34.080</td><td>Car      </td><td>51.728</td><td>4.7</td><td>230</td><td>112.2</td><td>76.4</td><td>192.5</td><td>5.115</td><td>25.4</td><td>15</td><td>9/25/2011 </td><td>102.52898</td><td>NA</td></tr>\n",
              "\t<tr><th scope=row>146</th><td>Volkswagen</td><td>Golf          </td><td>  9.761</td><td>11.425</td><td>Passenger</td><td>14.900</td><td>2.0</td><td>115</td><td> 98.9</td><td>68.3</td><td>163.3</td><td>2.767</td><td>14.5</td><td>26</td><td>1/24/2011 </td><td> 46.94388</td><td>NA</td></tr>\n",
              "\t<tr><th scope=row>147</th><td>Volkswagen</td><td>Jetta         </td><td> 83.721</td><td>13.240</td><td>Passenger</td><td>16.700</td><td>2.0</td><td>115</td><td> 98.9</td><td>68.3</td><td>172.3</td><td>2.853</td><td>14.5</td><td>26</td><td>8/27/2011 </td><td> 47.63824</td><td>NA</td></tr>\n",
              "\t<tr><th scope=row>148</th><td>Volkswagen</td><td>Passat        </td><td> 51.102</td><td>16.725</td><td>Passenger</td><td>21.200</td><td>1.8</td><td>150</td><td>106.4</td><td>68.5</td><td>184.1</td><td>3.043</td><td>16.4</td><td>27</td><td>10/30/2012</td><td> 61.70138</td><td>NA</td></tr>\n",
              "\t<tr><th scope=row>149</th><td>Volkswagen</td><td>Cabrio        </td><td>  9.569</td><td>16.575</td><td>Passenger</td><td>19.990</td><td>2.0</td><td>115</td><td> 97.4</td><td>66.7</td><td>160.4</td><td>3.079</td><td>13.7</td><td>26</td><td>5/31/2011 </td><td> 48.90737</td><td>NA</td></tr>\n",
              "\t<tr><th scope=row>150</th><td>Volkswagen</td><td>GTI           </td><td>  5.596</td><td>13.760</td><td>Passenger</td><td>17.500</td><td>2.0</td><td>115</td><td> 98.9</td><td>68.3</td><td>163.3</td><td>2.762</td><td>14.6</td><td>26</td><td>04-01-2011</td><td> 47.94684</td><td>4-01-20</td></tr>\n",
              "</tbody>\n",
              "</table>\n"
            ],
            "text/markdown": "\nA data.frame: 117 × 17\n\n| <!--/--> | Manufacturer &lt;chr&gt; | Model &lt;chr&gt; | Sales_in_thousands &lt;dbl&gt; | X__year_resale_value &lt;dbl&gt; | Vehicle_type &lt;chr&gt; | Price_in_thousands &lt;dbl&gt; | Engine_size &lt;dbl&gt; | Horsepower &lt;int&gt; | Wheelbase &lt;dbl&gt; | Width &lt;dbl&gt; | Length &lt;dbl&gt; | Curb_weight &lt;dbl&gt; | Fuel_capacity &lt;dbl&gt; | Fuel_efficiency &lt;int&gt; | Latest_Launch &lt;chr&gt; | Power_perf_factor &lt;dbl&gt; | Date_Column &lt;date&gt; |\n|---|---|---|---|---|---|---|---|---|---|---|---|---|---|---|---|---|---|\n| 1 | Acura     | Integra       |  16.919 | 16.360 | Passenger | 21.500 | 1.8 | 140 | 101.2 | 67.3 | 172.4 | 2.639 | 13.2 | 28 | 02-02-2012 |  58.28015 | 2-02-20 |\n| 2 | Acura     | TL            |  39.384 | 19.875 | Passenger | 28.400 | 3.2 | 225 | 108.1 | 70.3 | 192.9 | 3.517 | 17.2 | 25 | 06-03-2011 |  91.37078 | 6-03-20 |\n| 4 | Acura     | RL            |   8.588 | 29.725 | Passenger | 42.000 | 3.5 | 210 | 114.6 | 71.4 | 196.6 | 3.850 | 18.0 | 22 | 03-10-2011 |  91.38978 | 3-10-20 |\n| 5 | Audi      | A4            |  20.397 | 22.255 | Passenger | 23.990 | 1.8 | 150 | 102.6 | 68.2 | 178.0 | 2.998 | 16.4 | 27 | 10-08-2011 |  62.77764 | 10-08-20 |\n| 6 | Audi      | A6            |  18.780 | 23.555 | Passenger | 33.950 | 2.8 | 200 | 108.7 | 76.1 | 192.0 | 3.561 | 18.5 | 22 | 08-09-2011 |  84.56511 | 8-09-20 |\n| 7 | Audi      | A8            |   1.380 | 39.000 | Passenger | 62.000 | 4.2 | 310 | 113.0 | 74.0 | 198.2 | 3.902 | 23.7 | 21 | 2/27/2012  | 134.65686 | NA |\n| 9 | BMW       | 328i          |   9.231 | 28.675 | Passenger | 33.400 | 2.8 | 193 | 107.3 | 68.5 | 176.0 | 3.197 | 16.6 | 24 | 1/29/2012  |  81.87707 | NA |\n| 10 | BMW       | 528i          |  17.527 | 36.125 | Passenger | 38.900 | 2.8 | 193 | 111.4 | 70.9 | 188.0 | 3.472 | 18.5 | 25 | 04-04-2011 |  83.99872 | 4-04-20 |\n| 11 | Buick     | Century       |  91.561 | 12.475 | Passenger | 21.975 | 3.1 | 175 | 109.0 | 72.7 | 194.6 | 3.368 | 17.5 | 25 | 11-02-2011 |  71.18145 | 11-02-20 |\n| 12 | Buick     | Regal         |  39.350 | 13.740 | Passenger | 25.300 | 3.8 | 240 | 109.0 | 72.7 | 196.2 | 3.543 | 17.5 | 23 | 09-03-2011 |  95.63670 | 9-03-20 |\n| 13 | Buick     | Park Avenue   |  27.851 | 20.190 | Passenger | 31.965 | 3.8 | 205 | 113.8 | 74.7 | 206.8 | 3.778 | 18.5 | 24 | 3/23/2012  |  85.82841 | NA |\n| 14 | Buick     | LeSabre       |  83.257 | 13.360 | Passenger | 27.885 | 3.8 | 205 | 112.2 | 73.5 | 200.0 | 3.591 | 17.5 | 25 | 7/23/2011  |  84.25453 | NA |\n| 15 | Cadillac  | DeVille       |  63.729 | 22.525 | Passenger | 39.895 | 4.6 | 275 | 115.3 | 74.5 | 207.2 | 3.978 | 18.5 | 22 | 2/23/2012  | 113.85460 | NA |\n| 17 | Cadillac  | Eldorado      |   6.536 | 25.725 | Passenger | 39.665 | 4.6 | 275 | 108.0 | 75.5 | 200.6 | 3.843 | 19.0 | 22 | 11/27/2011 | 113.76587 | NA |\n| 18 | Cadillac  | Catera        |  11.185 | 18.225 | Passenger | 31.010 | 3.0 | 200 | 107.4 | 70.3 | 194.8 | 3.770 | 18.0 | 22 | 9/28/2011  |  83.48309 | NA |\n| 20 | Chevrolet | Cavalier      | 145.519 |  9.250 | Passenger | 13.260 | 2.2 | 115 | 104.1 | 67.9 | 180.9 | 2.676 | 14.3 | 27 | 8/17/2011  |  46.36335 | NA |\n| 21 | Chevrolet | Malibu        | 135.126 | 11.225 | Passenger | 16.535 | 3.1 | 170 | 107.0 | 69.4 | 190.4 | 3.051 | 15.0 | 25 | 3/19/2012  |  67.31446 | NA |\n| 22 | Chevrolet | Lumina        |  24.629 | 10.310 | Passenger | 18.890 | 3.1 | 175 | 107.5 | 72.5 | 200.9 | 3.330 | 16.6 | 25 | 5/24/2011  |  69.99140 | NA |\n| 23 | Chevrolet | Monte Carlo   |  42.593 | 11.525 | Passenger | 19.390 | 3.4 | 180 | 110.5 | 72.7 | 197.9 | 3.340 | 17.0 | 27 | 12/22/2011 |  72.03092 | NA |\n| 24 | Chevrolet | Camaro        |  26.402 | 13.025 | Passenger | 24.340 | 3.8 | 200 | 101.1 | 74.1 | 193.2 | 3.500 | 16.8 | 25 | 10/23/2011 |  81.11854 | NA |\n| 25 | Chevrolet | Corvette      |  17.947 | 36.225 | Passenger | 45.705 | 5.7 | 345 | 104.5 | 73.6 | 179.7 | 3.210 | 19.1 | 22 | 05-12-2012 | 141.14115 | 5-12-20 |\n| 26 | Chevrolet | Prizm         |  32.299 |  9.125 | Passenger | 13.960 | 1.8 | 120 |  97.1 | 66.7 | 174.3 | 2.398 | 13.2 | 33 | 09-11-2011 |  48.29764 | 9-11-20 |\n| 27 | Chevrolet | Metro         |  21.855 |  5.160 | Passenger |  9.235 | 1.0 |  55 |  93.1 | 62.6 | 149.4 | 1.895 | 10.3 | 45 | 4/13/2012  |  23.27627 | NA |\n| 29 | Chrysler  | Sebring Coupe |   7.854 | 12.360 | Passenger | 19.840 | 2.5 | 163 | 103.7 | 69.7 | 190.9 | 2.967 | 15.9 | 24 | 1/16/2012  |  65.95718 | NA |\n| 30 | Chrysler  | Sebring Conv. |  32.775 | 14.180 | Passenger | 24.495 | 2.5 | 168 | 106.0 | 69.2 | 193.0 | 3.332 | 16.0 | 24 | 11/17/2011 |  69.52136 | NA |\n| 31 | Chrysler  | Concorde      |  31.148 | 13.725 | Passenger | 22.245 | 2.7 | 200 | 113.0 | 74.4 | 209.1 | 3.452 | 17.0 | 26 | 06-06-2012 |  80.02378 | 6-06-20 |\n| 32 | Chrysler  | Cirrus        |  32.306 | 12.640 | Passenger | 16.480 | 2.0 | 132 | 108.0 | 71.0 | 186.0 | 2.911 | 16.0 | 27 | 10-06-2011 |  53.56620 | 10-06-20 |\n| 33 | Chrysler  | LHS           |  13.462 | 17.325 | Passenger | 28.340 | 3.5 | 253 | 113.0 | 74.4 | 207.7 | 3.564 | 17.0 | 23 | 05-08-2012 | 101.32928 | 5-08-20 |\n| 36 | Dodge     | Neon          |  76.034 |  7.750 | Passenger | 12.640 | 2.0 | 132 | 105.0 | 74.4 | 174.4 | 2.567 | 12.5 | 29 | 12-12-2011 |  52.08490 | 12-12-20 |\n| 37 | Dodge     | Avenger       |   4.734 | 12.545 | Passenger | 19.045 | 2.5 | 163 | 103.7 | 69.1 | 190.2 | 2.879 | 15.9 | 24 | 07-01-2012 |  65.65051 | 7-01-20 |\n| ⋮ | ⋮ | ⋮ | ⋮ | ⋮ | ⋮ | ⋮ | ⋮ | ⋮ | ⋮ | ⋮ | ⋮ | ⋮ | ⋮ | ⋮ | ⋮ | ⋮ | ⋮ |\n| 112 | Oldsmobile | Aurora         |  14.690 | 19.890 | Passenger | 36.229 | 4.0 | 250 | 113.8 | 74.4 | 205.4 | 3.967 | 18.5 | 22 | 2/18/2011  | 103.44169 | NA |\n| 113 | Oldsmobile | Bravada        |  20.017 | 19.925 | Car       | 31.598 | 4.3 | 190 | 107.0 | 67.8 | 181.2 | 4.068 | 17.5 | 19 | 9/21/2011  |  80.51167 | NA |\n| 114 | Oldsmobile | Silhouette     |  24.361 | 15.240 | Car       | 25.345 | 3.4 | 185 | 120.0 | 72.2 | 201.4 | 3.948 | 25.0 | 22 | 6/25/2011  |  76.09657 | NA |\n| 115 | Plymouth   | Neon           |  32.734 |  7.750 | Passenger | 12.640 | 2.0 | 132 | 105.0 | 74.4 | 174.4 | 2.559 | 12.5 | 29 | 4/26/2011  |  52.08490 | NA |\n| 116 | Plymouth   | Breeze         |   5.240 |  9.800 | Passenger | 16.080 | 2.0 | 132 | 108.0 | 71.0 | 186.3 | 2.942 | 16.0 | 27 | 11/14/2011 |  53.41190 | NA |\n| 117 | Plymouth   | Voyager        |  24.155 | 12.025 | Car       | 18.850 | 2.4 | 150 | 113.3 | 76.8 | 186.3 | 3.528 | 20.0 | 24 | 4/24/2011  |  60.95119 | NA |\n| 119 | Pontiac    | Sunfire        |  51.645 | 13.790 | Passenger | 21.610 | 2.4 | 150 | 104.1 | 68.4 | 181.9 | 2.906 | 15.0 | 27 | 1/25/2012  |  62.01587 | NA |\n| 120 | Pontiac    | Grand Am       | 131.097 | 10.290 | Passenger | 19.720 | 3.4 | 175 | 107.0 | 70.4 | 186.3 | 3.091 | 15.2 | 25 | 11/26/2012 |  70.38974 | NA |\n| 121 | Pontiac    | Firebird       |  19.911 | 17.805 | Passenger | 25.310 | 3.8 | 200 | 101.1 | 74.5 | 193.4 | 3.492 | 16.8 | 25 | 6/16/2012  |  81.49273 | NA |\n| 122 | Pontiac    | Grand Prix     |  92.364 | 14.010 | Passenger | 21.665 | 3.8 | 195 | 110.5 | 72.7 | 196.5 | 3.396 | 18.0 | 25 | 10/15/2012 |  78.31817 | NA |\n| 123 | Pontiac    | Bonneville     |  35.945 | 13.225 | Passenger | 23.755 | 3.8 | 205 | 112.2 | 72.6 | 202.5 | 3.590 | 17.5 | 24 | 5/18/2011  |  82.66136 | NA |\n| 125 | Porsche    | Boxter         |   8.982 | 41.250 | Passenger | 41.430 | 2.7 | 217 |  95.2 | 70.1 | 171.0 | 2.778 | 17.0 | 22 | 2/19/2012  |  93.43733 | NA |\n| 126 | Porsche    | Carrera Coupe  |   1.280 | 60.625 | Passenger | 71.020 | 3.4 | 300 |  92.6 | 69.5 | 174.5 | 3.032 | 17.0 | 21 | 12/21/2012 | 134.39098 | NA |\n| 127 | Porsche    | Carrera Cabrio |   1.866 | 67.550 | Passenger | 74.970 | 3.4 | 300 |  92.6 | 69.5 | 174.5 | 3.075 | 17.0 | 23 | 07-11-2011 | 135.91471 | 7-11-20 |\n| 130 | Saturn     | SL             |  80.620 |  9.200 | Passenger | 10.685 | 1.9 | 100 | 102.4 | 66.4 | 176.9 | 2.332 | 12.1 | 33 | 8/16/2012  |  39.98642 | NA |\n| 131 | Saturn     | SC             |  24.546 | 10.590 | Passenger | 12.535 | 1.9 | 100 | 102.4 | 66.4 | 180.0 | 2.367 | 12.1 | 33 | 3/16/2011  |  40.70007 | NA |\n| 132 | Saturn     | SW             |   5.223 | 10.790 | Passenger | 14.290 | 1.9 | 124 | 102.4 | 66.4 | 176.9 | 2.452 | 12.1 | 31 | 1/15/2011  |  49.86577 | NA |\n| 137 | Toyota     | Corolla        | 142.535 | 10.025 | Passenger | 13.108 | 1.8 | 120 |  97.0 | 66.7 | 174.0 | 2.420 | 13.2 | 33 | 04-11-2011 |  47.96897 | 4-11-20 |\n| 138 | Toyota     | Camry          | 247.994 | 13.245 | Passenger | 17.518 | 2.2 | 133 | 105.2 | 70.1 | 188.5 | 2.998 | 18.5 | 27 | 02-10-2011 |  54.37242 | 2-10-20 |\n| 139 | Toyota     | Avalon         |  63.849 | 18.140 | Passenger | 25.545 | 3.0 | 210 | 107.1 | 71.7 | 191.9 | 3.417 | 18.5 | 26 | 8/31/2011  |  84.91190 | NA |\n| 140 | Toyota     | Celica         |  33.269 | 15.445 | Passenger | 16.875 | 1.8 | 140 | 102.4 | 68.3 | 170.5 | 2.425 | 14.5 | 31 | 12/29/2012 |  56.49603 | NA |\n| 141 | Toyota     | Tacoma         |  84.087 |  9.575 | Car       | 11.528 | 2.4 | 142 | 103.3 | 66.5 | 178.7 | 2.580 | 15.1 | 23 | 08-01-2011 |  55.29712 | 8-01-20 |\n| 143 | Toyota     | RAV4           |  25.106 | 13.325 | Car       | 16.888 | 2.0 | 127 |  94.9 | 66.7 | 163.8 | 2.668 | 15.3 | 27 | 05-06-2011 |  51.95511 | 5-06-20 |\n| 144 | Toyota     | 4Runner        |  68.411 | 19.425 | Car       | 22.288 | 2.7 | 150 | 105.3 | 66.5 | 183.3 | 3.440 | 18.5 | 23 | 03-07-2011 |  62.35558 | 3-07-20 |\n| 145 | Toyota     | Land Cruiser   |   9.835 | 34.080 | Car       | 51.728 | 4.7 | 230 | 112.2 | 76.4 | 192.5 | 5.115 | 25.4 | 15 | 9/25/2011  | 102.52898 | NA |\n| 146 | Volkswagen | Golf           |   9.761 | 11.425 | Passenger | 14.900 | 2.0 | 115 |  98.9 | 68.3 | 163.3 | 2.767 | 14.5 | 26 | 1/24/2011  |  46.94388 | NA |\n| 147 | Volkswagen | Jetta          |  83.721 | 13.240 | Passenger | 16.700 | 2.0 | 115 |  98.9 | 68.3 | 172.3 | 2.853 | 14.5 | 26 | 8/27/2011  |  47.63824 | NA |\n| 148 | Volkswagen | Passat         |  51.102 | 16.725 | Passenger | 21.200 | 1.8 | 150 | 106.4 | 68.5 | 184.1 | 3.043 | 16.4 | 27 | 10/30/2012 |  61.70138 | NA |\n| 149 | Volkswagen | Cabrio         |   9.569 | 16.575 | Passenger | 19.990 | 2.0 | 115 |  97.4 | 66.7 | 160.4 | 3.079 | 13.7 | 26 | 5/31/2011  |  48.90737 | NA |\n| 150 | Volkswagen | GTI            |   5.596 | 13.760 | Passenger | 17.500 | 2.0 | 115 |  98.9 | 68.3 | 163.3 | 2.762 | 14.6 | 26 | 04-01-2011 |  47.94684 | 4-01-20 |\n\n",
            "text/latex": "A data.frame: 117 × 17\n\\begin{tabular}{r|lllllllllllllllll}\n  & Manufacturer & Model & Sales\\_in\\_thousands & X\\_\\_year\\_resale\\_value & Vehicle\\_type & Price\\_in\\_thousands & Engine\\_size & Horsepower & Wheelbase & Width & Length & Curb\\_weight & Fuel\\_capacity & Fuel\\_efficiency & Latest\\_Launch & Power\\_perf\\_factor & Date\\_Column\\\\\n  & <chr> & <chr> & <dbl> & <dbl> & <chr> & <dbl> & <dbl> & <int> & <dbl> & <dbl> & <dbl> & <dbl> & <dbl> & <int> & <chr> & <dbl> & <date>\\\\\n\\hline\n\t1 & Acura     & Integra       &  16.919 & 16.360 & Passenger & 21.500 & 1.8 & 140 & 101.2 & 67.3 & 172.4 & 2.639 & 13.2 & 28 & 02-02-2012 &  58.28015 & 2-02-20\\\\\n\t2 & Acura     & TL            &  39.384 & 19.875 & Passenger & 28.400 & 3.2 & 225 & 108.1 & 70.3 & 192.9 & 3.517 & 17.2 & 25 & 06-03-2011 &  91.37078 & 6-03-20\\\\\n\t4 & Acura     & RL            &   8.588 & 29.725 & Passenger & 42.000 & 3.5 & 210 & 114.6 & 71.4 & 196.6 & 3.850 & 18.0 & 22 & 03-10-2011 &  91.38978 & 3-10-20\\\\\n\t5 & Audi      & A4            &  20.397 & 22.255 & Passenger & 23.990 & 1.8 & 150 & 102.6 & 68.2 & 178.0 & 2.998 & 16.4 & 27 & 10-08-2011 &  62.77764 & 10-08-20\\\\\n\t6 & Audi      & A6            &  18.780 & 23.555 & Passenger & 33.950 & 2.8 & 200 & 108.7 & 76.1 & 192.0 & 3.561 & 18.5 & 22 & 08-09-2011 &  84.56511 & 8-09-20\\\\\n\t7 & Audi      & A8            &   1.380 & 39.000 & Passenger & 62.000 & 4.2 & 310 & 113.0 & 74.0 & 198.2 & 3.902 & 23.7 & 21 & 2/27/2012  & 134.65686 & NA\\\\\n\t9 & BMW       & 328i          &   9.231 & 28.675 & Passenger & 33.400 & 2.8 & 193 & 107.3 & 68.5 & 176.0 & 3.197 & 16.6 & 24 & 1/29/2012  &  81.87707 & NA\\\\\n\t10 & BMW       & 528i          &  17.527 & 36.125 & Passenger & 38.900 & 2.8 & 193 & 111.4 & 70.9 & 188.0 & 3.472 & 18.5 & 25 & 04-04-2011 &  83.99872 & 4-04-20\\\\\n\t11 & Buick     & Century       &  91.561 & 12.475 & Passenger & 21.975 & 3.1 & 175 & 109.0 & 72.7 & 194.6 & 3.368 & 17.5 & 25 & 11-02-2011 &  71.18145 & 11-02-20\\\\\n\t12 & Buick     & Regal         &  39.350 & 13.740 & Passenger & 25.300 & 3.8 & 240 & 109.0 & 72.7 & 196.2 & 3.543 & 17.5 & 23 & 09-03-2011 &  95.63670 & 9-03-20\\\\\n\t13 & Buick     & Park Avenue   &  27.851 & 20.190 & Passenger & 31.965 & 3.8 & 205 & 113.8 & 74.7 & 206.8 & 3.778 & 18.5 & 24 & 3/23/2012  &  85.82841 & NA\\\\\n\t14 & Buick     & LeSabre       &  83.257 & 13.360 & Passenger & 27.885 & 3.8 & 205 & 112.2 & 73.5 & 200.0 & 3.591 & 17.5 & 25 & 7/23/2011  &  84.25453 & NA\\\\\n\t15 & Cadillac  & DeVille       &  63.729 & 22.525 & Passenger & 39.895 & 4.6 & 275 & 115.3 & 74.5 & 207.2 & 3.978 & 18.5 & 22 & 2/23/2012  & 113.85460 & NA\\\\\n\t17 & Cadillac  & Eldorado      &   6.536 & 25.725 & Passenger & 39.665 & 4.6 & 275 & 108.0 & 75.5 & 200.6 & 3.843 & 19.0 & 22 & 11/27/2011 & 113.76587 & NA\\\\\n\t18 & Cadillac  & Catera        &  11.185 & 18.225 & Passenger & 31.010 & 3.0 & 200 & 107.4 & 70.3 & 194.8 & 3.770 & 18.0 & 22 & 9/28/2011  &  83.48309 & NA\\\\\n\t20 & Chevrolet & Cavalier      & 145.519 &  9.250 & Passenger & 13.260 & 2.2 & 115 & 104.1 & 67.9 & 180.9 & 2.676 & 14.3 & 27 & 8/17/2011  &  46.36335 & NA\\\\\n\t21 & Chevrolet & Malibu        & 135.126 & 11.225 & Passenger & 16.535 & 3.1 & 170 & 107.0 & 69.4 & 190.4 & 3.051 & 15.0 & 25 & 3/19/2012  &  67.31446 & NA\\\\\n\t22 & Chevrolet & Lumina        &  24.629 & 10.310 & Passenger & 18.890 & 3.1 & 175 & 107.5 & 72.5 & 200.9 & 3.330 & 16.6 & 25 & 5/24/2011  &  69.99140 & NA\\\\\n\t23 & Chevrolet & Monte Carlo   &  42.593 & 11.525 & Passenger & 19.390 & 3.4 & 180 & 110.5 & 72.7 & 197.9 & 3.340 & 17.0 & 27 & 12/22/2011 &  72.03092 & NA\\\\\n\t24 & Chevrolet & Camaro        &  26.402 & 13.025 & Passenger & 24.340 & 3.8 & 200 & 101.1 & 74.1 & 193.2 & 3.500 & 16.8 & 25 & 10/23/2011 &  81.11854 & NA\\\\\n\t25 & Chevrolet & Corvette      &  17.947 & 36.225 & Passenger & 45.705 & 5.7 & 345 & 104.5 & 73.6 & 179.7 & 3.210 & 19.1 & 22 & 05-12-2012 & 141.14115 & 5-12-20\\\\\n\t26 & Chevrolet & Prizm         &  32.299 &  9.125 & Passenger & 13.960 & 1.8 & 120 &  97.1 & 66.7 & 174.3 & 2.398 & 13.2 & 33 & 09-11-2011 &  48.29764 & 9-11-20\\\\\n\t27 & Chevrolet & Metro         &  21.855 &  5.160 & Passenger &  9.235 & 1.0 &  55 &  93.1 & 62.6 & 149.4 & 1.895 & 10.3 & 45 & 4/13/2012  &  23.27627 & NA\\\\\n\t29 & Chrysler  & Sebring Coupe &   7.854 & 12.360 & Passenger & 19.840 & 2.5 & 163 & 103.7 & 69.7 & 190.9 & 2.967 & 15.9 & 24 & 1/16/2012  &  65.95718 & NA\\\\\n\t30 & Chrysler  & Sebring Conv. &  32.775 & 14.180 & Passenger & 24.495 & 2.5 & 168 & 106.0 & 69.2 & 193.0 & 3.332 & 16.0 & 24 & 11/17/2011 &  69.52136 & NA\\\\\n\t31 & Chrysler  & Concorde      &  31.148 & 13.725 & Passenger & 22.245 & 2.7 & 200 & 113.0 & 74.4 & 209.1 & 3.452 & 17.0 & 26 & 06-06-2012 &  80.02378 & 6-06-20\\\\\n\t32 & Chrysler  & Cirrus        &  32.306 & 12.640 & Passenger & 16.480 & 2.0 & 132 & 108.0 & 71.0 & 186.0 & 2.911 & 16.0 & 27 & 10-06-2011 &  53.56620 & 10-06-20\\\\\n\t33 & Chrysler  & LHS           &  13.462 & 17.325 & Passenger & 28.340 & 3.5 & 253 & 113.0 & 74.4 & 207.7 & 3.564 & 17.0 & 23 & 05-08-2012 & 101.32928 & 5-08-20\\\\\n\t36 & Dodge     & Neon          &  76.034 &  7.750 & Passenger & 12.640 & 2.0 & 132 & 105.0 & 74.4 & 174.4 & 2.567 & 12.5 & 29 & 12-12-2011 &  52.08490 & 12-12-20\\\\\n\t37 & Dodge     & Avenger       &   4.734 & 12.545 & Passenger & 19.045 & 2.5 & 163 & 103.7 & 69.1 & 190.2 & 2.879 & 15.9 & 24 & 07-01-2012 &  65.65051 & 7-01-20\\\\\n\t⋮ & ⋮ & ⋮ & ⋮ & ⋮ & ⋮ & ⋮ & ⋮ & ⋮ & ⋮ & ⋮ & ⋮ & ⋮ & ⋮ & ⋮ & ⋮ & ⋮ & ⋮\\\\\n\t112 & Oldsmobile & Aurora         &  14.690 & 19.890 & Passenger & 36.229 & 4.0 & 250 & 113.8 & 74.4 & 205.4 & 3.967 & 18.5 & 22 & 2/18/2011  & 103.44169 & NA\\\\\n\t113 & Oldsmobile & Bravada        &  20.017 & 19.925 & Car       & 31.598 & 4.3 & 190 & 107.0 & 67.8 & 181.2 & 4.068 & 17.5 & 19 & 9/21/2011  &  80.51167 & NA\\\\\n\t114 & Oldsmobile & Silhouette     &  24.361 & 15.240 & Car       & 25.345 & 3.4 & 185 & 120.0 & 72.2 & 201.4 & 3.948 & 25.0 & 22 & 6/25/2011  &  76.09657 & NA\\\\\n\t115 & Plymouth   & Neon           &  32.734 &  7.750 & Passenger & 12.640 & 2.0 & 132 & 105.0 & 74.4 & 174.4 & 2.559 & 12.5 & 29 & 4/26/2011  &  52.08490 & NA\\\\\n\t116 & Plymouth   & Breeze         &   5.240 &  9.800 & Passenger & 16.080 & 2.0 & 132 & 108.0 & 71.0 & 186.3 & 2.942 & 16.0 & 27 & 11/14/2011 &  53.41190 & NA\\\\\n\t117 & Plymouth   & Voyager        &  24.155 & 12.025 & Car       & 18.850 & 2.4 & 150 & 113.3 & 76.8 & 186.3 & 3.528 & 20.0 & 24 & 4/24/2011  &  60.95119 & NA\\\\\n\t119 & Pontiac    & Sunfire        &  51.645 & 13.790 & Passenger & 21.610 & 2.4 & 150 & 104.1 & 68.4 & 181.9 & 2.906 & 15.0 & 27 & 1/25/2012  &  62.01587 & NA\\\\\n\t120 & Pontiac    & Grand Am       & 131.097 & 10.290 & Passenger & 19.720 & 3.4 & 175 & 107.0 & 70.4 & 186.3 & 3.091 & 15.2 & 25 & 11/26/2012 &  70.38974 & NA\\\\\n\t121 & Pontiac    & Firebird       &  19.911 & 17.805 & Passenger & 25.310 & 3.8 & 200 & 101.1 & 74.5 & 193.4 & 3.492 & 16.8 & 25 & 6/16/2012  &  81.49273 & NA\\\\\n\t122 & Pontiac    & Grand Prix     &  92.364 & 14.010 & Passenger & 21.665 & 3.8 & 195 & 110.5 & 72.7 & 196.5 & 3.396 & 18.0 & 25 & 10/15/2012 &  78.31817 & NA\\\\\n\t123 & Pontiac    & Bonneville     &  35.945 & 13.225 & Passenger & 23.755 & 3.8 & 205 & 112.2 & 72.6 & 202.5 & 3.590 & 17.5 & 24 & 5/18/2011  &  82.66136 & NA\\\\\n\t125 & Porsche    & Boxter         &   8.982 & 41.250 & Passenger & 41.430 & 2.7 & 217 &  95.2 & 70.1 & 171.0 & 2.778 & 17.0 & 22 & 2/19/2012  &  93.43733 & NA\\\\\n\t126 & Porsche    & Carrera Coupe  &   1.280 & 60.625 & Passenger & 71.020 & 3.4 & 300 &  92.6 & 69.5 & 174.5 & 3.032 & 17.0 & 21 & 12/21/2012 & 134.39098 & NA\\\\\n\t127 & Porsche    & Carrera Cabrio &   1.866 & 67.550 & Passenger & 74.970 & 3.4 & 300 &  92.6 & 69.5 & 174.5 & 3.075 & 17.0 & 23 & 07-11-2011 & 135.91471 & 7-11-20\\\\\n\t130 & Saturn     & SL             &  80.620 &  9.200 & Passenger & 10.685 & 1.9 & 100 & 102.4 & 66.4 & 176.9 & 2.332 & 12.1 & 33 & 8/16/2012  &  39.98642 & NA\\\\\n\t131 & Saturn     & SC             &  24.546 & 10.590 & Passenger & 12.535 & 1.9 & 100 & 102.4 & 66.4 & 180.0 & 2.367 & 12.1 & 33 & 3/16/2011  &  40.70007 & NA\\\\\n\t132 & Saturn     & SW             &   5.223 & 10.790 & Passenger & 14.290 & 1.9 & 124 & 102.4 & 66.4 & 176.9 & 2.452 & 12.1 & 31 & 1/15/2011  &  49.86577 & NA\\\\\n\t137 & Toyota     & Corolla        & 142.535 & 10.025 & Passenger & 13.108 & 1.8 & 120 &  97.0 & 66.7 & 174.0 & 2.420 & 13.2 & 33 & 04-11-2011 &  47.96897 & 4-11-20\\\\\n\t138 & Toyota     & Camry          & 247.994 & 13.245 & Passenger & 17.518 & 2.2 & 133 & 105.2 & 70.1 & 188.5 & 2.998 & 18.5 & 27 & 02-10-2011 &  54.37242 & 2-10-20\\\\\n\t139 & Toyota     & Avalon         &  63.849 & 18.140 & Passenger & 25.545 & 3.0 & 210 & 107.1 & 71.7 & 191.9 & 3.417 & 18.5 & 26 & 8/31/2011  &  84.91190 & NA\\\\\n\t140 & Toyota     & Celica         &  33.269 & 15.445 & Passenger & 16.875 & 1.8 & 140 & 102.4 & 68.3 & 170.5 & 2.425 & 14.5 & 31 & 12/29/2012 &  56.49603 & NA\\\\\n\t141 & Toyota     & Tacoma         &  84.087 &  9.575 & Car       & 11.528 & 2.4 & 142 & 103.3 & 66.5 & 178.7 & 2.580 & 15.1 & 23 & 08-01-2011 &  55.29712 & 8-01-20\\\\\n\t143 & Toyota     & RAV4           &  25.106 & 13.325 & Car       & 16.888 & 2.0 & 127 &  94.9 & 66.7 & 163.8 & 2.668 & 15.3 & 27 & 05-06-2011 &  51.95511 & 5-06-20\\\\\n\t144 & Toyota     & 4Runner        &  68.411 & 19.425 & Car       & 22.288 & 2.7 & 150 & 105.3 & 66.5 & 183.3 & 3.440 & 18.5 & 23 & 03-07-2011 &  62.35558 & 3-07-20\\\\\n\t145 & Toyota     & Land Cruiser   &   9.835 & 34.080 & Car       & 51.728 & 4.7 & 230 & 112.2 & 76.4 & 192.5 & 5.115 & 25.4 & 15 & 9/25/2011  & 102.52898 & NA\\\\\n\t146 & Volkswagen & Golf           &   9.761 & 11.425 & Passenger & 14.900 & 2.0 & 115 &  98.9 & 68.3 & 163.3 & 2.767 & 14.5 & 26 & 1/24/2011  &  46.94388 & NA\\\\\n\t147 & Volkswagen & Jetta          &  83.721 & 13.240 & Passenger & 16.700 & 2.0 & 115 &  98.9 & 68.3 & 172.3 & 2.853 & 14.5 & 26 & 8/27/2011  &  47.63824 & NA\\\\\n\t148 & Volkswagen & Passat         &  51.102 & 16.725 & Passenger & 21.200 & 1.8 & 150 & 106.4 & 68.5 & 184.1 & 3.043 & 16.4 & 27 & 10/30/2012 &  61.70138 & NA\\\\\n\t149 & Volkswagen & Cabrio         &   9.569 & 16.575 & Passenger & 19.990 & 2.0 & 115 &  97.4 & 66.7 & 160.4 & 3.079 & 13.7 & 26 & 5/31/2011  &  48.90737 & NA\\\\\n\t150 & Volkswagen & GTI            &   5.596 & 13.760 & Passenger & 17.500 & 2.0 & 115 &  98.9 & 68.3 & 163.3 & 2.762 & 14.6 & 26 & 04-01-2011 &  47.94684 & 4-01-20\\\\\n\\end{tabular}\n",
            "text/plain": [
              "    Manufacturer Model          Sales_in_thousands X__year_resale_value\n",
              "1   Acura        Integra         16.919            16.360              \n",
              "2   Acura        TL              39.384            19.875              \n",
              "4   Acura        RL               8.588            29.725              \n",
              "5   Audi         A4              20.397            22.255              \n",
              "6   Audi         A6              18.780            23.555              \n",
              "7   Audi         A8               1.380            39.000              \n",
              "9   BMW          328i             9.231            28.675              \n",
              "10  BMW          528i            17.527            36.125              \n",
              "11  Buick        Century         91.561            12.475              \n",
              "12  Buick        Regal           39.350            13.740              \n",
              "13  Buick        Park Avenue     27.851            20.190              \n",
              "14  Buick        LeSabre         83.257            13.360              \n",
              "15  Cadillac     DeVille         63.729            22.525              \n",
              "17  Cadillac     Eldorado         6.536            25.725              \n",
              "18  Cadillac     Catera          11.185            18.225              \n",
              "20  Chevrolet    Cavalier       145.519             9.250              \n",
              "21  Chevrolet    Malibu         135.126            11.225              \n",
              "22  Chevrolet    Lumina          24.629            10.310              \n",
              "23  Chevrolet    Monte Carlo     42.593            11.525              \n",
              "24  Chevrolet    Camaro          26.402            13.025              \n",
              "25  Chevrolet    Corvette        17.947            36.225              \n",
              "26  Chevrolet    Prizm           32.299             9.125              \n",
              "27  Chevrolet    Metro           21.855             5.160              \n",
              "29  Chrysler     Sebring Coupe    7.854            12.360              \n",
              "30  Chrysler     Sebring Conv.   32.775            14.180              \n",
              "31  Chrysler     Concorde        31.148            13.725              \n",
              "32  Chrysler     Cirrus          32.306            12.640              \n",
              "33  Chrysler     LHS             13.462            17.325              \n",
              "36  Dodge        Neon            76.034             7.750              \n",
              "37  Dodge        Avenger          4.734            12.545              \n",
              "⋮   ⋮            ⋮              ⋮                  ⋮                   \n",
              "112 Oldsmobile   Aurora          14.690            19.890              \n",
              "113 Oldsmobile   Bravada         20.017            19.925              \n",
              "114 Oldsmobile   Silhouette      24.361            15.240              \n",
              "115 Plymouth     Neon            32.734             7.750              \n",
              "116 Plymouth     Breeze           5.240             9.800              \n",
              "117 Plymouth     Voyager         24.155            12.025              \n",
              "119 Pontiac      Sunfire         51.645            13.790              \n",
              "120 Pontiac      Grand Am       131.097            10.290              \n",
              "121 Pontiac      Firebird        19.911            17.805              \n",
              "122 Pontiac      Grand Prix      92.364            14.010              \n",
              "123 Pontiac      Bonneville      35.945            13.225              \n",
              "125 Porsche      Boxter           8.982            41.250              \n",
              "126 Porsche      Carrera Coupe    1.280            60.625              \n",
              "127 Porsche      Carrera Cabrio   1.866            67.550              \n",
              "130 Saturn       SL              80.620             9.200              \n",
              "131 Saturn       SC              24.546            10.590              \n",
              "132 Saturn       SW               5.223            10.790              \n",
              "137 Toyota       Corolla        142.535            10.025              \n",
              "138 Toyota       Camry          247.994            13.245              \n",
              "139 Toyota       Avalon          63.849            18.140              \n",
              "140 Toyota       Celica          33.269            15.445              \n",
              "141 Toyota       Tacoma          84.087             9.575              \n",
              "143 Toyota       RAV4            25.106            13.325              \n",
              "144 Toyota       4Runner         68.411            19.425              \n",
              "145 Toyota       Land Cruiser     9.835            34.080              \n",
              "146 Volkswagen   Golf             9.761            11.425              \n",
              "147 Volkswagen   Jetta           83.721            13.240              \n",
              "148 Volkswagen   Passat          51.102            16.725              \n",
              "149 Volkswagen   Cabrio           9.569            16.575              \n",
              "150 Volkswagen   GTI              5.596            13.760              \n",
              "    Vehicle_type Price_in_thousands Engine_size Horsepower Wheelbase Width\n",
              "1   Passenger    21.500             1.8         140        101.2     67.3 \n",
              "2   Passenger    28.400             3.2         225        108.1     70.3 \n",
              "4   Passenger    42.000             3.5         210        114.6     71.4 \n",
              "5   Passenger    23.990             1.8         150        102.6     68.2 \n",
              "6   Passenger    33.950             2.8         200        108.7     76.1 \n",
              "7   Passenger    62.000             4.2         310        113.0     74.0 \n",
              "9   Passenger    33.400             2.8         193        107.3     68.5 \n",
              "10  Passenger    38.900             2.8         193        111.4     70.9 \n",
              "11  Passenger    21.975             3.1         175        109.0     72.7 \n",
              "12  Passenger    25.300             3.8         240        109.0     72.7 \n",
              "13  Passenger    31.965             3.8         205        113.8     74.7 \n",
              "14  Passenger    27.885             3.8         205        112.2     73.5 \n",
              "15  Passenger    39.895             4.6         275        115.3     74.5 \n",
              "17  Passenger    39.665             4.6         275        108.0     75.5 \n",
              "18  Passenger    31.010             3.0         200        107.4     70.3 \n",
              "20  Passenger    13.260             2.2         115        104.1     67.9 \n",
              "21  Passenger    16.535             3.1         170        107.0     69.4 \n",
              "22  Passenger    18.890             3.1         175        107.5     72.5 \n",
              "23  Passenger    19.390             3.4         180        110.5     72.7 \n",
              "24  Passenger    24.340             3.8         200        101.1     74.1 \n",
              "25  Passenger    45.705             5.7         345        104.5     73.6 \n",
              "26  Passenger    13.960             1.8         120         97.1     66.7 \n",
              "27  Passenger     9.235             1.0          55         93.1     62.6 \n",
              "29  Passenger    19.840             2.5         163        103.7     69.7 \n",
              "30  Passenger    24.495             2.5         168        106.0     69.2 \n",
              "31  Passenger    22.245             2.7         200        113.0     74.4 \n",
              "32  Passenger    16.480             2.0         132        108.0     71.0 \n",
              "33  Passenger    28.340             3.5         253        113.0     74.4 \n",
              "36  Passenger    12.640             2.0         132        105.0     74.4 \n",
              "37  Passenger    19.045             2.5         163        103.7     69.1 \n",
              "⋮   ⋮            ⋮                  ⋮           ⋮          ⋮         ⋮    \n",
              "112 Passenger    36.229             4.0         250        113.8     74.4 \n",
              "113 Car          31.598             4.3         190        107.0     67.8 \n",
              "114 Car          25.345             3.4         185        120.0     72.2 \n",
              "115 Passenger    12.640             2.0         132        105.0     74.4 \n",
              "116 Passenger    16.080             2.0         132        108.0     71.0 \n",
              "117 Car          18.850             2.4         150        113.3     76.8 \n",
              "119 Passenger    21.610             2.4         150        104.1     68.4 \n",
              "120 Passenger    19.720             3.4         175        107.0     70.4 \n",
              "121 Passenger    25.310             3.8         200        101.1     74.5 \n",
              "122 Passenger    21.665             3.8         195        110.5     72.7 \n",
              "123 Passenger    23.755             3.8         205        112.2     72.6 \n",
              "125 Passenger    41.430             2.7         217         95.2     70.1 \n",
              "126 Passenger    71.020             3.4         300         92.6     69.5 \n",
              "127 Passenger    74.970             3.4         300         92.6     69.5 \n",
              "130 Passenger    10.685             1.9         100        102.4     66.4 \n",
              "131 Passenger    12.535             1.9         100        102.4     66.4 \n",
              "132 Passenger    14.290             1.9         124        102.4     66.4 \n",
              "137 Passenger    13.108             1.8         120         97.0     66.7 \n",
              "138 Passenger    17.518             2.2         133        105.2     70.1 \n",
              "139 Passenger    25.545             3.0         210        107.1     71.7 \n",
              "140 Passenger    16.875             1.8         140        102.4     68.3 \n",
              "141 Car          11.528             2.4         142        103.3     66.5 \n",
              "143 Car          16.888             2.0         127         94.9     66.7 \n",
              "144 Car          22.288             2.7         150        105.3     66.5 \n",
              "145 Car          51.728             4.7         230        112.2     76.4 \n",
              "146 Passenger    14.900             2.0         115         98.9     68.3 \n",
              "147 Passenger    16.700             2.0         115         98.9     68.3 \n",
              "148 Passenger    21.200             1.8         150        106.4     68.5 \n",
              "149 Passenger    19.990             2.0         115         97.4     66.7 \n",
              "150 Passenger    17.500             2.0         115         98.9     68.3 \n",
              "    Length Curb_weight Fuel_capacity Fuel_efficiency Latest_Launch\n",
              "1   172.4  2.639       13.2          28              02-02-2012   \n",
              "2   192.9  3.517       17.2          25              06-03-2011   \n",
              "4   196.6  3.850       18.0          22              03-10-2011   \n",
              "5   178.0  2.998       16.4          27              10-08-2011   \n",
              "6   192.0  3.561       18.5          22              08-09-2011   \n",
              "7   198.2  3.902       23.7          21              2/27/2012    \n",
              "9   176.0  3.197       16.6          24              1/29/2012    \n",
              "10  188.0  3.472       18.5          25              04-04-2011   \n",
              "11  194.6  3.368       17.5          25              11-02-2011   \n",
              "12  196.2  3.543       17.5          23              09-03-2011   \n",
              "13  206.8  3.778       18.5          24              3/23/2012    \n",
              "14  200.0  3.591       17.5          25              7/23/2011    \n",
              "15  207.2  3.978       18.5          22              2/23/2012    \n",
              "17  200.6  3.843       19.0          22              11/27/2011   \n",
              "18  194.8  3.770       18.0          22              9/28/2011    \n",
              "20  180.9  2.676       14.3          27              8/17/2011    \n",
              "21  190.4  3.051       15.0          25              3/19/2012    \n",
              "22  200.9  3.330       16.6          25              5/24/2011    \n",
              "23  197.9  3.340       17.0          27              12/22/2011   \n",
              "24  193.2  3.500       16.8          25              10/23/2011   \n",
              "25  179.7  3.210       19.1          22              05-12-2012   \n",
              "26  174.3  2.398       13.2          33              09-11-2011   \n",
              "27  149.4  1.895       10.3          45              4/13/2012    \n",
              "29  190.9  2.967       15.9          24              1/16/2012    \n",
              "30  193.0  3.332       16.0          24              11/17/2011   \n",
              "31  209.1  3.452       17.0          26              06-06-2012   \n",
              "32  186.0  2.911       16.0          27              10-06-2011   \n",
              "33  207.7  3.564       17.0          23              05-08-2012   \n",
              "36  174.4  2.567       12.5          29              12-12-2011   \n",
              "37  190.2  2.879       15.9          24              07-01-2012   \n",
              "⋮   ⋮      ⋮           ⋮             ⋮               ⋮            \n",
              "112 205.4  3.967       18.5          22              2/18/2011    \n",
              "113 181.2  4.068       17.5          19              9/21/2011    \n",
              "114 201.4  3.948       25.0          22              6/25/2011    \n",
              "115 174.4  2.559       12.5          29              4/26/2011    \n",
              "116 186.3  2.942       16.0          27              11/14/2011   \n",
              "117 186.3  3.528       20.0          24              4/24/2011    \n",
              "119 181.9  2.906       15.0          27              1/25/2012    \n",
              "120 186.3  3.091       15.2          25              11/26/2012   \n",
              "121 193.4  3.492       16.8          25              6/16/2012    \n",
              "122 196.5  3.396       18.0          25              10/15/2012   \n",
              "123 202.5  3.590       17.5          24              5/18/2011    \n",
              "125 171.0  2.778       17.0          22              2/19/2012    \n",
              "126 174.5  3.032       17.0          21              12/21/2012   \n",
              "127 174.5  3.075       17.0          23              07-11-2011   \n",
              "130 176.9  2.332       12.1          33              8/16/2012    \n",
              "131 180.0  2.367       12.1          33              3/16/2011    \n",
              "132 176.9  2.452       12.1          31              1/15/2011    \n",
              "137 174.0  2.420       13.2          33              04-11-2011   \n",
              "138 188.5  2.998       18.5          27              02-10-2011   \n",
              "139 191.9  3.417       18.5          26              8/31/2011    \n",
              "140 170.5  2.425       14.5          31              12/29/2012   \n",
              "141 178.7  2.580       15.1          23              08-01-2011   \n",
              "143 163.8  2.668       15.3          27              05-06-2011   \n",
              "144 183.3  3.440       18.5          23              03-07-2011   \n",
              "145 192.5  5.115       25.4          15              9/25/2011    \n",
              "146 163.3  2.767       14.5          26              1/24/2011    \n",
              "147 172.3  2.853       14.5          26              8/27/2011    \n",
              "148 184.1  3.043       16.4          27              10/30/2012   \n",
              "149 160.4  3.079       13.7          26              5/31/2011    \n",
              "150 163.3  2.762       14.6          26              04-01-2011   \n",
              "    Power_perf_factor Date_Column\n",
              "1    58.28015         2-02-20    \n",
              "2    91.37078         6-03-20    \n",
              "4    91.38978         3-10-20    \n",
              "5    62.77764         10-08-20   \n",
              "6    84.56511         8-09-20    \n",
              "7   134.65686         <NA>       \n",
              "9    81.87707         <NA>       \n",
              "10   83.99872         4-04-20    \n",
              "11   71.18145         11-02-20   \n",
              "12   95.63670         9-03-20    \n",
              "13   85.82841         <NA>       \n",
              "14   84.25453         <NA>       \n",
              "15  113.85460         <NA>       \n",
              "17  113.76587         <NA>       \n",
              "18   83.48309         <NA>       \n",
              "20   46.36335         <NA>       \n",
              "21   67.31446         <NA>       \n",
              "22   69.99140         <NA>       \n",
              "23   72.03092         <NA>       \n",
              "24   81.11854         <NA>       \n",
              "25  141.14115         5-12-20    \n",
              "26   48.29764         9-11-20    \n",
              "27   23.27627         <NA>       \n",
              "29   65.95718         <NA>       \n",
              "30   69.52136         <NA>       \n",
              "31   80.02378         6-06-20    \n",
              "32   53.56620         10-06-20   \n",
              "33  101.32928         5-08-20    \n",
              "36   52.08490         12-12-20   \n",
              "37   65.65051         7-01-20    \n",
              "⋮   ⋮                 ⋮          \n",
              "112 103.44169         <NA>       \n",
              "113  80.51167         <NA>       \n",
              "114  76.09657         <NA>       \n",
              "115  52.08490         <NA>       \n",
              "116  53.41190         <NA>       \n",
              "117  60.95119         <NA>       \n",
              "119  62.01587         <NA>       \n",
              "120  70.38974         <NA>       \n",
              "121  81.49273         <NA>       \n",
              "122  78.31817         <NA>       \n",
              "123  82.66136         <NA>       \n",
              "125  93.43733         <NA>       \n",
              "126 134.39098         <NA>       \n",
              "127 135.91471         7-11-20    \n",
              "130  39.98642         <NA>       \n",
              "131  40.70007         <NA>       \n",
              "132  49.86577         <NA>       \n",
              "137  47.96897         4-11-20    \n",
              "138  54.37242         2-10-20    \n",
              "139  84.91190         <NA>       \n",
              "140  56.49603         <NA>       \n",
              "141  55.29712         8-01-20    \n",
              "143  51.95511         5-06-20    \n",
              "144  62.35558         3-07-20    \n",
              "145 102.52898         <NA>       \n",
              "146  46.94388         <NA>       \n",
              "147  47.63824         <NA>       \n",
              "148  61.70138         <NA>       \n",
              "149  48.90737         <NA>       \n",
              "150  47.94684         4-01-20    "
            ]
          },
          "metadata": {}
        }
      ]
    },
    {
      "cell_type": "code",
      "source": [
        "vechical=car %>% filter(Vehicle_type == \"Car\")"
      ],
      "metadata": {
        "id": "b0MOXpG0e63z"
      },
      "execution_count": null,
      "outputs": []
    },
    {
      "cell_type": "code",
      "source": [
        "vechical"
      ],
      "metadata": {
        "colab": {
          "base_uri": "https://localhost:8080/",
          "height": 1000
        },
        "id": "4bvoDfy0fmA7",
        "outputId": "74b064cf-ce85-48b1-861b-c1be958ae787"
      },
      "execution_count": null,
      "outputs": [
        {
          "output_type": "display_data",
          "data": {
            "text/html": [
              "<table class=\"dataframe\">\n",
              "<caption>A data.frame: 29 × 17</caption>\n",
              "<thead>\n",
              "\t<tr><th scope=col>Manufacturer</th><th scope=col>Model</th><th scope=col>Sales_in_thousands</th><th scope=col>X__year_resale_value</th><th scope=col>Vehicle_type</th><th scope=col>Price_in_thousands</th><th scope=col>Engine_size</th><th scope=col>Horsepower</th><th scope=col>Wheelbase</th><th scope=col>Width</th><th scope=col>Length</th><th scope=col>Curb_weight</th><th scope=col>Fuel_capacity</th><th scope=col>Fuel_efficiency</th><th scope=col>Latest_Launch</th><th scope=col>Power_perf_factor</th><th scope=col>Date_Column</th></tr>\n",
              "\t<tr><th scope=col>&lt;chr&gt;</th><th scope=col>&lt;chr&gt;</th><th scope=col>&lt;dbl&gt;</th><th scope=col>&lt;dbl&gt;</th><th scope=col>&lt;chr&gt;</th><th scope=col>&lt;dbl&gt;</th><th scope=col>&lt;dbl&gt;</th><th scope=col>&lt;int&gt;</th><th scope=col>&lt;dbl&gt;</th><th scope=col>&lt;dbl&gt;</th><th scope=col>&lt;dbl&gt;</th><th scope=col>&lt;dbl&gt;</th><th scope=col>&lt;dbl&gt;</th><th scope=col>&lt;int&gt;</th><th scope=col>&lt;chr&gt;</th><th scope=col>&lt;dbl&gt;</th><th scope=col>&lt;date&gt;</th></tr>\n",
              "</thead>\n",
              "<tbody>\n",
              "\t<tr><td>Dodge     </td><td>Ram Pickup    </td><td>227.061</td><td>15.060</td><td>Car</td><td>19.460</td><td>5.2</td><td>230</td><td>138.7</td><td>79.3</td><td>224.2</td><td>4.470</td><td>26.0</td><td>17</td><td>03-06-2012</td><td> 90.21170</td><td>3-06-20</td></tr>\n",
              "\t<tr><td>Dodge     </td><td>Ram Wagon     </td><td> 16.767</td><td>15.510</td><td>Car</td><td>21.315</td><td>3.9</td><td>175</td><td>109.6</td><td>78.8</td><td>192.6</td><td>4.245</td><td>32.0</td><td>15</td><td>01-06-2012</td><td> 71.13529</td><td>1-06-20</td></tr>\n",
              "\t<tr><td>Dodge     </td><td>Ram Van       </td><td> 31.038</td><td>13.425</td><td>Car</td><td>18.575</td><td>3.9</td><td>175</td><td>127.2</td><td>78.8</td><td>208.5</td><td>4.298</td><td>32.0</td><td>16</td><td>7/26/2012 </td><td> 70.07832</td><td>NA</td></tr>\n",
              "\t<tr><td>Dodge     </td><td>Dakota        </td><td>111.313</td><td>11.260</td><td>Car</td><td>16.980</td><td>2.5</td><td>120</td><td>131.0</td><td>71.5</td><td>215.0</td><td>3.557</td><td>22.0</td><td>19</td><td>11/25/2011</td><td> 49.64500</td><td>NA</td></tr>\n",
              "\t<tr><td>Dodge     </td><td>Caravan       </td><td>181.749</td><td>12.025</td><td>Car</td><td>19.565</td><td>2.4</td><td>150</td><td>113.3</td><td>76.8</td><td>186.3</td><td>3.533</td><td>20.0</td><td>24</td><td>09-01-2011</td><td> 61.22700</td><td>9-01-20</td></tr>\n",
              "\t<tr><td>Ford      </td><td>Explorer      </td><td>276.747</td><td>16.640</td><td>Car</td><td>31.930</td><td>4.0</td><td>210</td><td>111.6</td><td>70.2</td><td>190.7</td><td>3.876</td><td>21.0</td><td>19</td><td>4/25/2012 </td><td> 87.63550</td><td>NA</td></tr>\n",
              "\t<tr><td>Ford      </td><td>Windstar      </td><td>155.787</td><td>13.175</td><td>Car</td><td>21.410</td><td>3.0</td><td>150</td><td>120.7</td><td>76.6</td><td>200.9</td><td>3.761</td><td>26.0</td><td>21</td><td>2/25/2012 </td><td> 62.09505</td><td>NA</td></tr>\n",
              "\t<tr><td>Ford      </td><td>Expedition    </td><td>125.338</td><td>23.575</td><td>Car</td><td>36.135</td><td>4.6</td><td>240</td><td>119.0</td><td>78.7</td><td>204.6</td><td>4.808</td><td>26.0</td><td>16</td><td>9/14/2012 </td><td>100.02480</td><td>NA</td></tr>\n",
              "\t<tr><td>Ford      </td><td>Ranger        </td><td>220.650</td><td> 7.850</td><td>Car</td><td>12.050</td><td>2.5</td><td>119</td><td>117.5</td><td>69.4</td><td>200.7</td><td>3.086</td><td>20.0</td><td>23</td><td>1/14/2012 </td><td> 47.38953</td><td>NA</td></tr>\n",
              "\t<tr><td>Ford      </td><td>F-Series      </td><td>540.561</td><td>15.075</td><td>Car</td><td>26.935</td><td>4.6</td><td>220</td><td>138.5</td><td>79.1</td><td>224.5</td><td>4.241</td><td>25.1</td><td>18</td><td>8/16/2012 </td><td> 89.40193</td><td>NA</td></tr>\n",
              "\t<tr><td>Honda     </td><td>CR-V          </td><td> 73.203</td><td>17.710</td><td>Car</td><td>20.550</td><td>2.0</td><td>146</td><td>103.2</td><td>68.9</td><td>177.6</td><td>3.219</td><td>15.3</td><td>24</td><td>3/21/2012 </td><td> 60.08797</td><td>NA</td></tr>\n",
              "\t<tr><td>Honda     </td><td>Passport      </td><td> 12.855</td><td>17.525</td><td>Car</td><td>26.600</td><td>3.2</td><td>205</td><td>106.4</td><td>70.4</td><td>178.2</td><td>3.857</td><td>21.1</td><td>19</td><td>10-09-2012</td><td> 83.60250</td><td>10-09-20</td></tr>\n",
              "\t<tr><td>Honda     </td><td>Odyssey       </td><td> 76.029</td><td>19.490</td><td>Car</td><td>26.000</td><td>3.5</td><td>210</td><td>118.1</td><td>75.6</td><td>201.2</td><td>4.288</td><td>20.0</td><td>23</td><td>02-08-2012</td><td> 85.21769</td><td>2-08-20</td></tr>\n",
              "\t<tr><td>Jeep      </td><td>Wrangler      </td><td> 55.557</td><td>13.475</td><td>Car</td><td>14.460</td><td>2.5</td><td>120</td><td> 93.4</td><td>66.7</td><td>152.0</td><td>3.045</td><td>19.0</td><td>17</td><td>03-04-2012</td><td> 48.67290</td><td>3-04-20</td></tr>\n",
              "\t<tr><td>Jeep      </td><td>Cherokee      </td><td> 80.556</td><td>13.775</td><td>Car</td><td>21.620</td><td>4.0</td><td>190</td><td>101.4</td><td>69.4</td><td>167.5</td><td>3.194</td><td>20.0</td><td>20</td><td>10-05-2012</td><td> 76.58444</td><td>10-05-20</td></tr>\n",
              "\t<tr><td>Jeep      </td><td>Grand Cherokee</td><td>157.040</td><td>18.810</td><td>Car</td><td>26.895</td><td>4.0</td><td>195</td><td>105.9</td><td>72.3</td><td>181.5</td><td>3.880</td><td>20.5</td><td>19</td><td>12-10-2011</td><td> 80.38778</td><td>12-10-20</td></tr>\n",
              "\t<tr><td>Mitsubishi</td><td>Montero       </td><td> 11.337</td><td>19.125</td><td>Car</td><td>31.807</td><td>3.5</td><td>200</td><td>107.3</td><td>69.9</td><td>186.6</td><td>4.520</td><td>24.3</td><td>18</td><td>1/17/2012 </td><td> 83.92082</td><td>NA</td></tr>\n",
              "\t<tr><td>Mitsubishi</td><td>Montero Sport </td><td> 39.348</td><td>13.880</td><td>Car</td><td>22.527</td><td>3.0</td><td>173</td><td>107.3</td><td>66.7</td><td>178.3</td><td>3.510</td><td>19.5</td><td>20</td><td>5/18/2012 </td><td> 70.66094</td><td>NA</td></tr>\n",
              "\t<tr><td>Mercury   </td><td>Mountaineer   </td><td> 27.609</td><td>20.430</td><td>Car</td><td>27.560</td><td>4.0</td><td>210</td><td>111.6</td><td>70.2</td><td>190.1</td><td>3.876</td><td>21.0</td><td>18</td><td>2/13/2008 </td><td> 85.94974</td><td>NA</td></tr>\n",
              "\t<tr><td>Mercury   </td><td>Villager      </td><td> 20.380</td><td>14.795</td><td>Car</td><td>22.510</td><td>3.3</td><td>170</td><td>112.2</td><td>74.9</td><td>194.7</td><td>3.944</td><td>20.0</td><td>21</td><td>10/20/2009</td><td> 69.67146</td><td>NA</td></tr>\n",
              "\t<tr><td>Nissan    </td><td>Quest         </td><td> 27.308</td><td>15.380</td><td>Car</td><td>26.399</td><td>3.3</td><td>170</td><td>112.2</td><td>74.9</td><td>194.8</td><td>3.991</td><td>20.0</td><td>21</td><td>03-07-2011</td><td> 71.17166</td><td>3-07-20</td></tr>\n",
              "\t<tr><td>Nissan    </td><td>Pathfinder    </td><td> 42.574</td><td>17.810</td><td>Car</td><td>29.299</td><td>3.3</td><td>170</td><td>106.3</td><td>71.7</td><td>182.6</td><td>3.947</td><td>21.0</td><td>19</td><td>9/25/2011 </td><td> 72.29036</td><td>NA</td></tr>\n",
              "\t<tr><td>Oldsmobile</td><td>Bravada       </td><td> 20.017</td><td>19.925</td><td>Car</td><td>31.598</td><td>4.3</td><td>190</td><td>107.0</td><td>67.8</td><td>181.2</td><td>4.068</td><td>17.5</td><td>19</td><td>9/21/2011 </td><td> 80.51167</td><td>NA</td></tr>\n",
              "\t<tr><td>Oldsmobile</td><td>Silhouette    </td><td> 24.361</td><td>15.240</td><td>Car</td><td>25.345</td><td>3.4</td><td>185</td><td>120.0</td><td>72.2</td><td>201.4</td><td>3.948</td><td>25.0</td><td>22</td><td>6/25/2011 </td><td> 76.09657</td><td>NA</td></tr>\n",
              "\t<tr><td>Plymouth  </td><td>Voyager       </td><td> 24.155</td><td>12.025</td><td>Car</td><td>18.850</td><td>2.4</td><td>150</td><td>113.3</td><td>76.8</td><td>186.3</td><td>3.528</td><td>20.0</td><td>24</td><td>4/24/2011 </td><td> 60.95119</td><td>NA</td></tr>\n",
              "\t<tr><td>Toyota    </td><td>Tacoma        </td><td> 84.087</td><td> 9.575</td><td>Car</td><td>11.528</td><td>2.4</td><td>142</td><td>103.3</td><td>66.5</td><td>178.7</td><td>2.580</td><td>15.1</td><td>23</td><td>08-01-2011</td><td> 55.29712</td><td>8-01-20</td></tr>\n",
              "\t<tr><td>Toyota    </td><td>RAV4          </td><td> 25.106</td><td>13.325</td><td>Car</td><td>16.888</td><td>2.0</td><td>127</td><td> 94.9</td><td>66.7</td><td>163.8</td><td>2.668</td><td>15.3</td><td>27</td><td>05-06-2011</td><td> 51.95511</td><td>5-06-20</td></tr>\n",
              "\t<tr><td>Toyota    </td><td>4Runner       </td><td> 68.411</td><td>19.425</td><td>Car</td><td>22.288</td><td>2.7</td><td>150</td><td>105.3</td><td>66.5</td><td>183.3</td><td>3.440</td><td>18.5</td><td>23</td><td>03-07-2011</td><td> 62.35558</td><td>3-07-20</td></tr>\n",
              "\t<tr><td>Toyota    </td><td>Land Cruiser  </td><td>  9.835</td><td>34.080</td><td>Car</td><td>51.728</td><td>4.7</td><td>230</td><td>112.2</td><td>76.4</td><td>192.5</td><td>5.115</td><td>25.4</td><td>15</td><td>9/25/2011 </td><td>102.52898</td><td>NA</td></tr>\n",
              "</tbody>\n",
              "</table>\n"
            ],
            "text/markdown": "\nA data.frame: 29 × 17\n\n| Manufacturer &lt;chr&gt; | Model &lt;chr&gt; | Sales_in_thousands &lt;dbl&gt; | X__year_resale_value &lt;dbl&gt; | Vehicle_type &lt;chr&gt; | Price_in_thousands &lt;dbl&gt; | Engine_size &lt;dbl&gt; | Horsepower &lt;int&gt; | Wheelbase &lt;dbl&gt; | Width &lt;dbl&gt; | Length &lt;dbl&gt; | Curb_weight &lt;dbl&gt; | Fuel_capacity &lt;dbl&gt; | Fuel_efficiency &lt;int&gt; | Latest_Launch &lt;chr&gt; | Power_perf_factor &lt;dbl&gt; | Date_Column &lt;date&gt; |\n|---|---|---|---|---|---|---|---|---|---|---|---|---|---|---|---|---|\n| Dodge      | Ram Pickup     | 227.061 | 15.060 | Car | 19.460 | 5.2 | 230 | 138.7 | 79.3 | 224.2 | 4.470 | 26.0 | 17 | 03-06-2012 |  90.21170 | 3-06-20 |\n| Dodge      | Ram Wagon      |  16.767 | 15.510 | Car | 21.315 | 3.9 | 175 | 109.6 | 78.8 | 192.6 | 4.245 | 32.0 | 15 | 01-06-2012 |  71.13529 | 1-06-20 |\n| Dodge      | Ram Van        |  31.038 | 13.425 | Car | 18.575 | 3.9 | 175 | 127.2 | 78.8 | 208.5 | 4.298 | 32.0 | 16 | 7/26/2012  |  70.07832 | NA |\n| Dodge      | Dakota         | 111.313 | 11.260 | Car | 16.980 | 2.5 | 120 | 131.0 | 71.5 | 215.0 | 3.557 | 22.0 | 19 | 11/25/2011 |  49.64500 | NA |\n| Dodge      | Caravan        | 181.749 | 12.025 | Car | 19.565 | 2.4 | 150 | 113.3 | 76.8 | 186.3 | 3.533 | 20.0 | 24 | 09-01-2011 |  61.22700 | 9-01-20 |\n| Ford       | Explorer       | 276.747 | 16.640 | Car | 31.930 | 4.0 | 210 | 111.6 | 70.2 | 190.7 | 3.876 | 21.0 | 19 | 4/25/2012  |  87.63550 | NA |\n| Ford       | Windstar       | 155.787 | 13.175 | Car | 21.410 | 3.0 | 150 | 120.7 | 76.6 | 200.9 | 3.761 | 26.0 | 21 | 2/25/2012  |  62.09505 | NA |\n| Ford       | Expedition     | 125.338 | 23.575 | Car | 36.135 | 4.6 | 240 | 119.0 | 78.7 | 204.6 | 4.808 | 26.0 | 16 | 9/14/2012  | 100.02480 | NA |\n| Ford       | Ranger         | 220.650 |  7.850 | Car | 12.050 | 2.5 | 119 | 117.5 | 69.4 | 200.7 | 3.086 | 20.0 | 23 | 1/14/2012  |  47.38953 | NA |\n| Ford       | F-Series       | 540.561 | 15.075 | Car | 26.935 | 4.6 | 220 | 138.5 | 79.1 | 224.5 | 4.241 | 25.1 | 18 | 8/16/2012  |  89.40193 | NA |\n| Honda      | CR-V           |  73.203 | 17.710 | Car | 20.550 | 2.0 | 146 | 103.2 | 68.9 | 177.6 | 3.219 | 15.3 | 24 | 3/21/2012  |  60.08797 | NA |\n| Honda      | Passport       |  12.855 | 17.525 | Car | 26.600 | 3.2 | 205 | 106.4 | 70.4 | 178.2 | 3.857 | 21.1 | 19 | 10-09-2012 |  83.60250 | 10-09-20 |\n| Honda      | Odyssey        |  76.029 | 19.490 | Car | 26.000 | 3.5 | 210 | 118.1 | 75.6 | 201.2 | 4.288 | 20.0 | 23 | 02-08-2012 |  85.21769 | 2-08-20 |\n| Jeep       | Wrangler       |  55.557 | 13.475 | Car | 14.460 | 2.5 | 120 |  93.4 | 66.7 | 152.0 | 3.045 | 19.0 | 17 | 03-04-2012 |  48.67290 | 3-04-20 |\n| Jeep       | Cherokee       |  80.556 | 13.775 | Car | 21.620 | 4.0 | 190 | 101.4 | 69.4 | 167.5 | 3.194 | 20.0 | 20 | 10-05-2012 |  76.58444 | 10-05-20 |\n| Jeep       | Grand Cherokee | 157.040 | 18.810 | Car | 26.895 | 4.0 | 195 | 105.9 | 72.3 | 181.5 | 3.880 | 20.5 | 19 | 12-10-2011 |  80.38778 | 12-10-20 |\n| Mitsubishi | Montero        |  11.337 | 19.125 | Car | 31.807 | 3.5 | 200 | 107.3 | 69.9 | 186.6 | 4.520 | 24.3 | 18 | 1/17/2012  |  83.92082 | NA |\n| Mitsubishi | Montero Sport  |  39.348 | 13.880 | Car | 22.527 | 3.0 | 173 | 107.3 | 66.7 | 178.3 | 3.510 | 19.5 | 20 | 5/18/2012  |  70.66094 | NA |\n| Mercury    | Mountaineer    |  27.609 | 20.430 | Car | 27.560 | 4.0 | 210 | 111.6 | 70.2 | 190.1 | 3.876 | 21.0 | 18 | 2/13/2008  |  85.94974 | NA |\n| Mercury    | Villager       |  20.380 | 14.795 | Car | 22.510 | 3.3 | 170 | 112.2 | 74.9 | 194.7 | 3.944 | 20.0 | 21 | 10/20/2009 |  69.67146 | NA |\n| Nissan     | Quest          |  27.308 | 15.380 | Car | 26.399 | 3.3 | 170 | 112.2 | 74.9 | 194.8 | 3.991 | 20.0 | 21 | 03-07-2011 |  71.17166 | 3-07-20 |\n| Nissan     | Pathfinder     |  42.574 | 17.810 | Car | 29.299 | 3.3 | 170 | 106.3 | 71.7 | 182.6 | 3.947 | 21.0 | 19 | 9/25/2011  |  72.29036 | NA |\n| Oldsmobile | Bravada        |  20.017 | 19.925 | Car | 31.598 | 4.3 | 190 | 107.0 | 67.8 | 181.2 | 4.068 | 17.5 | 19 | 9/21/2011  |  80.51167 | NA |\n| Oldsmobile | Silhouette     |  24.361 | 15.240 | Car | 25.345 | 3.4 | 185 | 120.0 | 72.2 | 201.4 | 3.948 | 25.0 | 22 | 6/25/2011  |  76.09657 | NA |\n| Plymouth   | Voyager        |  24.155 | 12.025 | Car | 18.850 | 2.4 | 150 | 113.3 | 76.8 | 186.3 | 3.528 | 20.0 | 24 | 4/24/2011  |  60.95119 | NA |\n| Toyota     | Tacoma         |  84.087 |  9.575 | Car | 11.528 | 2.4 | 142 | 103.3 | 66.5 | 178.7 | 2.580 | 15.1 | 23 | 08-01-2011 |  55.29712 | 8-01-20 |\n| Toyota     | RAV4           |  25.106 | 13.325 | Car | 16.888 | 2.0 | 127 |  94.9 | 66.7 | 163.8 | 2.668 | 15.3 | 27 | 05-06-2011 |  51.95511 | 5-06-20 |\n| Toyota     | 4Runner        |  68.411 | 19.425 | Car | 22.288 | 2.7 | 150 | 105.3 | 66.5 | 183.3 | 3.440 | 18.5 | 23 | 03-07-2011 |  62.35558 | 3-07-20 |\n| Toyota     | Land Cruiser   |   9.835 | 34.080 | Car | 51.728 | 4.7 | 230 | 112.2 | 76.4 | 192.5 | 5.115 | 25.4 | 15 | 9/25/2011  | 102.52898 | NA |\n\n",
            "text/latex": "A data.frame: 29 × 17\n\\begin{tabular}{lllllllllllllllll}\n Manufacturer & Model & Sales\\_in\\_thousands & X\\_\\_year\\_resale\\_value & Vehicle\\_type & Price\\_in\\_thousands & Engine\\_size & Horsepower & Wheelbase & Width & Length & Curb\\_weight & Fuel\\_capacity & Fuel\\_efficiency & Latest\\_Launch & Power\\_perf\\_factor & Date\\_Column\\\\\n <chr> & <chr> & <dbl> & <dbl> & <chr> & <dbl> & <dbl> & <int> & <dbl> & <dbl> & <dbl> & <dbl> & <dbl> & <int> & <chr> & <dbl> & <date>\\\\\n\\hline\n\t Dodge      & Ram Pickup     & 227.061 & 15.060 & Car & 19.460 & 5.2 & 230 & 138.7 & 79.3 & 224.2 & 4.470 & 26.0 & 17 & 03-06-2012 &  90.21170 & 3-06-20\\\\\n\t Dodge      & Ram Wagon      &  16.767 & 15.510 & Car & 21.315 & 3.9 & 175 & 109.6 & 78.8 & 192.6 & 4.245 & 32.0 & 15 & 01-06-2012 &  71.13529 & 1-06-20\\\\\n\t Dodge      & Ram Van        &  31.038 & 13.425 & Car & 18.575 & 3.9 & 175 & 127.2 & 78.8 & 208.5 & 4.298 & 32.0 & 16 & 7/26/2012  &  70.07832 & NA\\\\\n\t Dodge      & Dakota         & 111.313 & 11.260 & Car & 16.980 & 2.5 & 120 & 131.0 & 71.5 & 215.0 & 3.557 & 22.0 & 19 & 11/25/2011 &  49.64500 & NA\\\\\n\t Dodge      & Caravan        & 181.749 & 12.025 & Car & 19.565 & 2.4 & 150 & 113.3 & 76.8 & 186.3 & 3.533 & 20.0 & 24 & 09-01-2011 &  61.22700 & 9-01-20\\\\\n\t Ford       & Explorer       & 276.747 & 16.640 & Car & 31.930 & 4.0 & 210 & 111.6 & 70.2 & 190.7 & 3.876 & 21.0 & 19 & 4/25/2012  &  87.63550 & NA\\\\\n\t Ford       & Windstar       & 155.787 & 13.175 & Car & 21.410 & 3.0 & 150 & 120.7 & 76.6 & 200.9 & 3.761 & 26.0 & 21 & 2/25/2012  &  62.09505 & NA\\\\\n\t Ford       & Expedition     & 125.338 & 23.575 & Car & 36.135 & 4.6 & 240 & 119.0 & 78.7 & 204.6 & 4.808 & 26.0 & 16 & 9/14/2012  & 100.02480 & NA\\\\\n\t Ford       & Ranger         & 220.650 &  7.850 & Car & 12.050 & 2.5 & 119 & 117.5 & 69.4 & 200.7 & 3.086 & 20.0 & 23 & 1/14/2012  &  47.38953 & NA\\\\\n\t Ford       & F-Series       & 540.561 & 15.075 & Car & 26.935 & 4.6 & 220 & 138.5 & 79.1 & 224.5 & 4.241 & 25.1 & 18 & 8/16/2012  &  89.40193 & NA\\\\\n\t Honda      & CR-V           &  73.203 & 17.710 & Car & 20.550 & 2.0 & 146 & 103.2 & 68.9 & 177.6 & 3.219 & 15.3 & 24 & 3/21/2012  &  60.08797 & NA\\\\\n\t Honda      & Passport       &  12.855 & 17.525 & Car & 26.600 & 3.2 & 205 & 106.4 & 70.4 & 178.2 & 3.857 & 21.1 & 19 & 10-09-2012 &  83.60250 & 10-09-20\\\\\n\t Honda      & Odyssey        &  76.029 & 19.490 & Car & 26.000 & 3.5 & 210 & 118.1 & 75.6 & 201.2 & 4.288 & 20.0 & 23 & 02-08-2012 &  85.21769 & 2-08-20\\\\\n\t Jeep       & Wrangler       &  55.557 & 13.475 & Car & 14.460 & 2.5 & 120 &  93.4 & 66.7 & 152.0 & 3.045 & 19.0 & 17 & 03-04-2012 &  48.67290 & 3-04-20\\\\\n\t Jeep       & Cherokee       &  80.556 & 13.775 & Car & 21.620 & 4.0 & 190 & 101.4 & 69.4 & 167.5 & 3.194 & 20.0 & 20 & 10-05-2012 &  76.58444 & 10-05-20\\\\\n\t Jeep       & Grand Cherokee & 157.040 & 18.810 & Car & 26.895 & 4.0 & 195 & 105.9 & 72.3 & 181.5 & 3.880 & 20.5 & 19 & 12-10-2011 &  80.38778 & 12-10-20\\\\\n\t Mitsubishi & Montero        &  11.337 & 19.125 & Car & 31.807 & 3.5 & 200 & 107.3 & 69.9 & 186.6 & 4.520 & 24.3 & 18 & 1/17/2012  &  83.92082 & NA\\\\\n\t Mitsubishi & Montero Sport  &  39.348 & 13.880 & Car & 22.527 & 3.0 & 173 & 107.3 & 66.7 & 178.3 & 3.510 & 19.5 & 20 & 5/18/2012  &  70.66094 & NA\\\\\n\t Mercury    & Mountaineer    &  27.609 & 20.430 & Car & 27.560 & 4.0 & 210 & 111.6 & 70.2 & 190.1 & 3.876 & 21.0 & 18 & 2/13/2008  &  85.94974 & NA\\\\\n\t Mercury    & Villager       &  20.380 & 14.795 & Car & 22.510 & 3.3 & 170 & 112.2 & 74.9 & 194.7 & 3.944 & 20.0 & 21 & 10/20/2009 &  69.67146 & NA\\\\\n\t Nissan     & Quest          &  27.308 & 15.380 & Car & 26.399 & 3.3 & 170 & 112.2 & 74.9 & 194.8 & 3.991 & 20.0 & 21 & 03-07-2011 &  71.17166 & 3-07-20\\\\\n\t Nissan     & Pathfinder     &  42.574 & 17.810 & Car & 29.299 & 3.3 & 170 & 106.3 & 71.7 & 182.6 & 3.947 & 21.0 & 19 & 9/25/2011  &  72.29036 & NA\\\\\n\t Oldsmobile & Bravada        &  20.017 & 19.925 & Car & 31.598 & 4.3 & 190 & 107.0 & 67.8 & 181.2 & 4.068 & 17.5 & 19 & 9/21/2011  &  80.51167 & NA\\\\\n\t Oldsmobile & Silhouette     &  24.361 & 15.240 & Car & 25.345 & 3.4 & 185 & 120.0 & 72.2 & 201.4 & 3.948 & 25.0 & 22 & 6/25/2011  &  76.09657 & NA\\\\\n\t Plymouth   & Voyager        &  24.155 & 12.025 & Car & 18.850 & 2.4 & 150 & 113.3 & 76.8 & 186.3 & 3.528 & 20.0 & 24 & 4/24/2011  &  60.95119 & NA\\\\\n\t Toyota     & Tacoma         &  84.087 &  9.575 & Car & 11.528 & 2.4 & 142 & 103.3 & 66.5 & 178.7 & 2.580 & 15.1 & 23 & 08-01-2011 &  55.29712 & 8-01-20\\\\\n\t Toyota     & RAV4           &  25.106 & 13.325 & Car & 16.888 & 2.0 & 127 &  94.9 & 66.7 & 163.8 & 2.668 & 15.3 & 27 & 05-06-2011 &  51.95511 & 5-06-20\\\\\n\t Toyota     & 4Runner        &  68.411 & 19.425 & Car & 22.288 & 2.7 & 150 & 105.3 & 66.5 & 183.3 & 3.440 & 18.5 & 23 & 03-07-2011 &  62.35558 & 3-07-20\\\\\n\t Toyota     & Land Cruiser   &   9.835 & 34.080 & Car & 51.728 & 4.7 & 230 & 112.2 & 76.4 & 192.5 & 5.115 & 25.4 & 15 & 9/25/2011  & 102.52898 & NA\\\\\n\\end{tabular}\n",
            "text/plain": [
              "   Manufacturer Model          Sales_in_thousands X__year_resale_value\n",
              "1  Dodge        Ram Pickup     227.061            15.060              \n",
              "2  Dodge        Ram Wagon       16.767            15.510              \n",
              "3  Dodge        Ram Van         31.038            13.425              \n",
              "4  Dodge        Dakota         111.313            11.260              \n",
              "5  Dodge        Caravan        181.749            12.025              \n",
              "6  Ford         Explorer       276.747            16.640              \n",
              "7  Ford         Windstar       155.787            13.175              \n",
              "8  Ford         Expedition     125.338            23.575              \n",
              "9  Ford         Ranger         220.650             7.850              \n",
              "10 Ford         F-Series       540.561            15.075              \n",
              "11 Honda        CR-V            73.203            17.710              \n",
              "12 Honda        Passport        12.855            17.525              \n",
              "13 Honda        Odyssey         76.029            19.490              \n",
              "14 Jeep         Wrangler        55.557            13.475              \n",
              "15 Jeep         Cherokee        80.556            13.775              \n",
              "16 Jeep         Grand Cherokee 157.040            18.810              \n",
              "17 Mitsubishi   Montero         11.337            19.125              \n",
              "18 Mitsubishi   Montero Sport   39.348            13.880              \n",
              "19 Mercury      Mountaineer     27.609            20.430              \n",
              "20 Mercury      Villager        20.380            14.795              \n",
              "21 Nissan       Quest           27.308            15.380              \n",
              "22 Nissan       Pathfinder      42.574            17.810              \n",
              "23 Oldsmobile   Bravada         20.017            19.925              \n",
              "24 Oldsmobile   Silhouette      24.361            15.240              \n",
              "25 Plymouth     Voyager         24.155            12.025              \n",
              "26 Toyota       Tacoma          84.087             9.575              \n",
              "27 Toyota       RAV4            25.106            13.325              \n",
              "28 Toyota       4Runner         68.411            19.425              \n",
              "29 Toyota       Land Cruiser     9.835            34.080              \n",
              "   Vehicle_type Price_in_thousands Engine_size Horsepower Wheelbase Width\n",
              "1  Car          19.460             5.2         230        138.7     79.3 \n",
              "2  Car          21.315             3.9         175        109.6     78.8 \n",
              "3  Car          18.575             3.9         175        127.2     78.8 \n",
              "4  Car          16.980             2.5         120        131.0     71.5 \n",
              "5  Car          19.565             2.4         150        113.3     76.8 \n",
              "6  Car          31.930             4.0         210        111.6     70.2 \n",
              "7  Car          21.410             3.0         150        120.7     76.6 \n",
              "8  Car          36.135             4.6         240        119.0     78.7 \n",
              "9  Car          12.050             2.5         119        117.5     69.4 \n",
              "10 Car          26.935             4.6         220        138.5     79.1 \n",
              "11 Car          20.550             2.0         146        103.2     68.9 \n",
              "12 Car          26.600             3.2         205        106.4     70.4 \n",
              "13 Car          26.000             3.5         210        118.1     75.6 \n",
              "14 Car          14.460             2.5         120         93.4     66.7 \n",
              "15 Car          21.620             4.0         190        101.4     69.4 \n",
              "16 Car          26.895             4.0         195        105.9     72.3 \n",
              "17 Car          31.807             3.5         200        107.3     69.9 \n",
              "18 Car          22.527             3.0         173        107.3     66.7 \n",
              "19 Car          27.560             4.0         210        111.6     70.2 \n",
              "20 Car          22.510             3.3         170        112.2     74.9 \n",
              "21 Car          26.399             3.3         170        112.2     74.9 \n",
              "22 Car          29.299             3.3         170        106.3     71.7 \n",
              "23 Car          31.598             4.3         190        107.0     67.8 \n",
              "24 Car          25.345             3.4         185        120.0     72.2 \n",
              "25 Car          18.850             2.4         150        113.3     76.8 \n",
              "26 Car          11.528             2.4         142        103.3     66.5 \n",
              "27 Car          16.888             2.0         127         94.9     66.7 \n",
              "28 Car          22.288             2.7         150        105.3     66.5 \n",
              "29 Car          51.728             4.7         230        112.2     76.4 \n",
              "   Length Curb_weight Fuel_capacity Fuel_efficiency Latest_Launch\n",
              "1  224.2  4.470       26.0          17              03-06-2012   \n",
              "2  192.6  4.245       32.0          15              01-06-2012   \n",
              "3  208.5  4.298       32.0          16              7/26/2012    \n",
              "4  215.0  3.557       22.0          19              11/25/2011   \n",
              "5  186.3  3.533       20.0          24              09-01-2011   \n",
              "6  190.7  3.876       21.0          19              4/25/2012    \n",
              "7  200.9  3.761       26.0          21              2/25/2012    \n",
              "8  204.6  4.808       26.0          16              9/14/2012    \n",
              "9  200.7  3.086       20.0          23              1/14/2012    \n",
              "10 224.5  4.241       25.1          18              8/16/2012    \n",
              "11 177.6  3.219       15.3          24              3/21/2012    \n",
              "12 178.2  3.857       21.1          19              10-09-2012   \n",
              "13 201.2  4.288       20.0          23              02-08-2012   \n",
              "14 152.0  3.045       19.0          17              03-04-2012   \n",
              "15 167.5  3.194       20.0          20              10-05-2012   \n",
              "16 181.5  3.880       20.5          19              12-10-2011   \n",
              "17 186.6  4.520       24.3          18              1/17/2012    \n",
              "18 178.3  3.510       19.5          20              5/18/2012    \n",
              "19 190.1  3.876       21.0          18              2/13/2008    \n",
              "20 194.7  3.944       20.0          21              10/20/2009   \n",
              "21 194.8  3.991       20.0          21              03-07-2011   \n",
              "22 182.6  3.947       21.0          19              9/25/2011    \n",
              "23 181.2  4.068       17.5          19              9/21/2011    \n",
              "24 201.4  3.948       25.0          22              6/25/2011    \n",
              "25 186.3  3.528       20.0          24              4/24/2011    \n",
              "26 178.7  2.580       15.1          23              08-01-2011   \n",
              "27 163.8  2.668       15.3          27              05-06-2011   \n",
              "28 183.3  3.440       18.5          23              03-07-2011   \n",
              "29 192.5  5.115       25.4          15              9/25/2011    \n",
              "   Power_perf_factor Date_Column\n",
              "1   90.21170         3-06-20    \n",
              "2   71.13529         1-06-20    \n",
              "3   70.07832         <NA>       \n",
              "4   49.64500         <NA>       \n",
              "5   61.22700         9-01-20    \n",
              "6   87.63550         <NA>       \n",
              "7   62.09505         <NA>       \n",
              "8  100.02480         <NA>       \n",
              "9   47.38953         <NA>       \n",
              "10  89.40193         <NA>       \n",
              "11  60.08797         <NA>       \n",
              "12  83.60250         10-09-20   \n",
              "13  85.21769         2-08-20    \n",
              "14  48.67290         3-04-20    \n",
              "15  76.58444         10-05-20   \n",
              "16  80.38778         12-10-20   \n",
              "17  83.92082         <NA>       \n",
              "18  70.66094         <NA>       \n",
              "19  85.94974         <NA>       \n",
              "20  69.67146         <NA>       \n",
              "21  71.17166         3-07-20    \n",
              "22  72.29036         <NA>       \n",
              "23  80.51167         <NA>       \n",
              "24  76.09657         <NA>       \n",
              "25  60.95119         <NA>       \n",
              "26  55.29712         8-01-20    \n",
              "27  51.95511         5-06-20    \n",
              "28  62.35558         3-07-20    \n",
              "29 102.52898         <NA>       "
            ]
          },
          "metadata": {}
        }
      ]
    },
    {
      "cell_type": "code",
      "source": [
        "count(vechical %>% group_by(Manufacturer)) %>%\n",
        "  arrange(desc(Manufacturer))\n"
      ],
      "metadata": {
        "colab": {
          "base_uri": "https://localhost:8080/",
          "height": 412
        },
        "id": "8EX0nxHMgGsH",
        "outputId": "d1d999db-826f-46dd-fb8c-7f2a62a85151"
      },
      "execution_count": null,
      "outputs": [
        {
          "output_type": "display_data",
          "data": {
            "text/html": [
              "<table class=\"dataframe\">\n",
              "<caption>A grouped_df: 10 × 2</caption>\n",
              "<thead>\n",
              "\t<tr><th scope=col>Manufacturer</th><th scope=col>n</th></tr>\n",
              "\t<tr><th scope=col>&lt;chr&gt;</th><th scope=col>&lt;int&gt;</th></tr>\n",
              "</thead>\n",
              "<tbody>\n",
              "\t<tr><td>Toyota    </td><td>4</td></tr>\n",
              "\t<tr><td>Plymouth  </td><td>1</td></tr>\n",
              "\t<tr><td>Oldsmobile</td><td>2</td></tr>\n",
              "\t<tr><td>Nissan    </td><td>2</td></tr>\n",
              "\t<tr><td>Mitsubishi</td><td>2</td></tr>\n",
              "\t<tr><td>Mercury   </td><td>2</td></tr>\n",
              "\t<tr><td>Jeep      </td><td>3</td></tr>\n",
              "\t<tr><td>Honda     </td><td>3</td></tr>\n",
              "\t<tr><td>Ford      </td><td>5</td></tr>\n",
              "\t<tr><td>Dodge     </td><td>5</td></tr>\n",
              "</tbody>\n",
              "</table>\n"
            ],
            "text/markdown": "\nA grouped_df: 10 × 2\n\n| Manufacturer &lt;chr&gt; | n &lt;int&gt; |\n|---|---|\n| Toyota     | 4 |\n| Plymouth   | 1 |\n| Oldsmobile | 2 |\n| Nissan     | 2 |\n| Mitsubishi | 2 |\n| Mercury    | 2 |\n| Jeep       | 3 |\n| Honda      | 3 |\n| Ford       | 5 |\n| Dodge      | 5 |\n\n",
            "text/latex": "A grouped\\_df: 10 × 2\n\\begin{tabular}{ll}\n Manufacturer & n\\\\\n <chr> & <int>\\\\\n\\hline\n\t Toyota     & 4\\\\\n\t Plymouth   & 1\\\\\n\t Oldsmobile & 2\\\\\n\t Nissan     & 2\\\\\n\t Mitsubishi & 2\\\\\n\t Mercury    & 2\\\\\n\t Jeep       & 3\\\\\n\t Honda      & 3\\\\\n\t Ford       & 5\\\\\n\t Dodge      & 5\\\\\n\\end{tabular}\n",
            "text/plain": [
              "   Manufacturer n\n",
              "1  Toyota       4\n",
              "2  Plymouth     1\n",
              "3  Oldsmobile   2\n",
              "4  Nissan       2\n",
              "5  Mitsubishi   2\n",
              "6  Mercury      2\n",
              "7  Jeep         3\n",
              "8  Honda        3\n",
              "9  Ford         5\n",
              "10 Dodge        5"
            ]
          },
          "metadata": {}
        }
      ]
    },
    {
      "cell_type": "code",
      "source": [
        "head(vechical %>% arrange(desc(Price_in_thousands)))"
      ],
      "metadata": {
        "colab": {
          "base_uri": "https://localhost:8080/",
          "height": 324
        },
        "id": "OHT9g3rigoNP",
        "outputId": "2aa43a7c-97a5-4432-f6dd-12241fe080fa"
      },
      "execution_count": null,
      "outputs": [
        {
          "output_type": "display_data",
          "data": {
            "text/html": [
              "<table class=\"dataframe\">\n",
              "<caption>A data.frame: 6 × 17</caption>\n",
              "<thead>\n",
              "\t<tr><th></th><th scope=col>Manufacturer</th><th scope=col>Model</th><th scope=col>Sales_in_thousands</th><th scope=col>X__year_resale_value</th><th scope=col>Vehicle_type</th><th scope=col>Price_in_thousands</th><th scope=col>Engine_size</th><th scope=col>Horsepower</th><th scope=col>Wheelbase</th><th scope=col>Width</th><th scope=col>Length</th><th scope=col>Curb_weight</th><th scope=col>Fuel_capacity</th><th scope=col>Fuel_efficiency</th><th scope=col>Latest_Launch</th><th scope=col>Power_perf_factor</th><th scope=col>Date_Column</th></tr>\n",
              "\t<tr><th></th><th scope=col>&lt;chr&gt;</th><th scope=col>&lt;chr&gt;</th><th scope=col>&lt;dbl&gt;</th><th scope=col>&lt;dbl&gt;</th><th scope=col>&lt;chr&gt;</th><th scope=col>&lt;dbl&gt;</th><th scope=col>&lt;dbl&gt;</th><th scope=col>&lt;int&gt;</th><th scope=col>&lt;dbl&gt;</th><th scope=col>&lt;dbl&gt;</th><th scope=col>&lt;dbl&gt;</th><th scope=col>&lt;dbl&gt;</th><th scope=col>&lt;dbl&gt;</th><th scope=col>&lt;int&gt;</th><th scope=col>&lt;chr&gt;</th><th scope=col>&lt;dbl&gt;</th><th scope=col>&lt;date&gt;</th></tr>\n",
              "</thead>\n",
              "<tbody>\n",
              "\t<tr><th scope=row>1</th><td>Toyota    </td><td>Land Cruiser</td><td>  9.835</td><td>34.080</td><td>Car</td><td>51.728</td><td>4.7</td><td>230</td><td>112.2</td><td>76.4</td><td>192.5</td><td>5.115</td><td>25.4</td><td>15</td><td>9/25/2011</td><td>102.52898</td><td>NA</td></tr>\n",
              "\t<tr><th scope=row>2</th><td>Ford      </td><td>Expedition  </td><td>125.338</td><td>23.575</td><td>Car</td><td>36.135</td><td>4.6</td><td>240</td><td>119.0</td><td>78.7</td><td>204.6</td><td>4.808</td><td>26.0</td><td>16</td><td>9/14/2012</td><td>100.02480</td><td>NA</td></tr>\n",
              "\t<tr><th scope=row>3</th><td>Ford      </td><td>Explorer    </td><td>276.747</td><td>16.640</td><td>Car</td><td>31.930</td><td>4.0</td><td>210</td><td>111.6</td><td>70.2</td><td>190.7</td><td>3.876</td><td>21.0</td><td>19</td><td>4/25/2012</td><td> 87.63550</td><td>NA</td></tr>\n",
              "\t<tr><th scope=row>4</th><td>Mitsubishi</td><td>Montero     </td><td> 11.337</td><td>19.125</td><td>Car</td><td>31.807</td><td>3.5</td><td>200</td><td>107.3</td><td>69.9</td><td>186.6</td><td>4.520</td><td>24.3</td><td>18</td><td>1/17/2012</td><td> 83.92082</td><td>NA</td></tr>\n",
              "\t<tr><th scope=row>5</th><td>Oldsmobile</td><td>Bravada     </td><td> 20.017</td><td>19.925</td><td>Car</td><td>31.598</td><td>4.3</td><td>190</td><td>107.0</td><td>67.8</td><td>181.2</td><td>4.068</td><td>17.5</td><td>19</td><td>9/21/2011</td><td> 80.51167</td><td>NA</td></tr>\n",
              "\t<tr><th scope=row>6</th><td>Nissan    </td><td>Pathfinder  </td><td> 42.574</td><td>17.810</td><td>Car</td><td>29.299</td><td>3.3</td><td>170</td><td>106.3</td><td>71.7</td><td>182.6</td><td>3.947</td><td>21.0</td><td>19</td><td>9/25/2011</td><td> 72.29036</td><td>NA</td></tr>\n",
              "</tbody>\n",
              "</table>\n"
            ],
            "text/markdown": "\nA data.frame: 6 × 17\n\n| <!--/--> | Manufacturer &lt;chr&gt; | Model &lt;chr&gt; | Sales_in_thousands &lt;dbl&gt; | X__year_resale_value &lt;dbl&gt; | Vehicle_type &lt;chr&gt; | Price_in_thousands &lt;dbl&gt; | Engine_size &lt;dbl&gt; | Horsepower &lt;int&gt; | Wheelbase &lt;dbl&gt; | Width &lt;dbl&gt; | Length &lt;dbl&gt; | Curb_weight &lt;dbl&gt; | Fuel_capacity &lt;dbl&gt; | Fuel_efficiency &lt;int&gt; | Latest_Launch &lt;chr&gt; | Power_perf_factor &lt;dbl&gt; | Date_Column &lt;date&gt; |\n|---|---|---|---|---|---|---|---|---|---|---|---|---|---|---|---|---|---|\n| 1 | Toyota     | Land Cruiser |   9.835 | 34.080 | Car | 51.728 | 4.7 | 230 | 112.2 | 76.4 | 192.5 | 5.115 | 25.4 | 15 | 9/25/2011 | 102.52898 | NA |\n| 2 | Ford       | Expedition   | 125.338 | 23.575 | Car | 36.135 | 4.6 | 240 | 119.0 | 78.7 | 204.6 | 4.808 | 26.0 | 16 | 9/14/2012 | 100.02480 | NA |\n| 3 | Ford       | Explorer     | 276.747 | 16.640 | Car | 31.930 | 4.0 | 210 | 111.6 | 70.2 | 190.7 | 3.876 | 21.0 | 19 | 4/25/2012 |  87.63550 | NA |\n| 4 | Mitsubishi | Montero      |  11.337 | 19.125 | Car | 31.807 | 3.5 | 200 | 107.3 | 69.9 | 186.6 | 4.520 | 24.3 | 18 | 1/17/2012 |  83.92082 | NA |\n| 5 | Oldsmobile | Bravada      |  20.017 | 19.925 | Car | 31.598 | 4.3 | 190 | 107.0 | 67.8 | 181.2 | 4.068 | 17.5 | 19 | 9/21/2011 |  80.51167 | NA |\n| 6 | Nissan     | Pathfinder   |  42.574 | 17.810 | Car | 29.299 | 3.3 | 170 | 106.3 | 71.7 | 182.6 | 3.947 | 21.0 | 19 | 9/25/2011 |  72.29036 | NA |\n\n",
            "text/latex": "A data.frame: 6 × 17\n\\begin{tabular}{r|lllllllllllllllll}\n  & Manufacturer & Model & Sales\\_in\\_thousands & X\\_\\_year\\_resale\\_value & Vehicle\\_type & Price\\_in\\_thousands & Engine\\_size & Horsepower & Wheelbase & Width & Length & Curb\\_weight & Fuel\\_capacity & Fuel\\_efficiency & Latest\\_Launch & Power\\_perf\\_factor & Date\\_Column\\\\\n  & <chr> & <chr> & <dbl> & <dbl> & <chr> & <dbl> & <dbl> & <int> & <dbl> & <dbl> & <dbl> & <dbl> & <dbl> & <int> & <chr> & <dbl> & <date>\\\\\n\\hline\n\t1 & Toyota     & Land Cruiser &   9.835 & 34.080 & Car & 51.728 & 4.7 & 230 & 112.2 & 76.4 & 192.5 & 5.115 & 25.4 & 15 & 9/25/2011 & 102.52898 & NA\\\\\n\t2 & Ford       & Expedition   & 125.338 & 23.575 & Car & 36.135 & 4.6 & 240 & 119.0 & 78.7 & 204.6 & 4.808 & 26.0 & 16 & 9/14/2012 & 100.02480 & NA\\\\\n\t3 & Ford       & Explorer     & 276.747 & 16.640 & Car & 31.930 & 4.0 & 210 & 111.6 & 70.2 & 190.7 & 3.876 & 21.0 & 19 & 4/25/2012 &  87.63550 & NA\\\\\n\t4 & Mitsubishi & Montero      &  11.337 & 19.125 & Car & 31.807 & 3.5 & 200 & 107.3 & 69.9 & 186.6 & 4.520 & 24.3 & 18 & 1/17/2012 &  83.92082 & NA\\\\\n\t5 & Oldsmobile & Bravada      &  20.017 & 19.925 & Car & 31.598 & 4.3 & 190 & 107.0 & 67.8 & 181.2 & 4.068 & 17.5 & 19 & 9/21/2011 &  80.51167 & NA\\\\\n\t6 & Nissan     & Pathfinder   &  42.574 & 17.810 & Car & 29.299 & 3.3 & 170 & 106.3 & 71.7 & 182.6 & 3.947 & 21.0 & 19 & 9/25/2011 &  72.29036 & NA\\\\\n\\end{tabular}\n",
            "text/plain": [
              "  Manufacturer Model        Sales_in_thousands X__year_resale_value\n",
              "1 Toyota       Land Cruiser   9.835            34.080              \n",
              "2 Ford         Expedition   125.338            23.575              \n",
              "3 Ford         Explorer     276.747            16.640              \n",
              "4 Mitsubishi   Montero       11.337            19.125              \n",
              "5 Oldsmobile   Bravada       20.017            19.925              \n",
              "6 Nissan       Pathfinder    42.574            17.810              \n",
              "  Vehicle_type Price_in_thousands Engine_size Horsepower Wheelbase Width Length\n",
              "1 Car          51.728             4.7         230        112.2     76.4  192.5 \n",
              "2 Car          36.135             4.6         240        119.0     78.7  204.6 \n",
              "3 Car          31.930             4.0         210        111.6     70.2  190.7 \n",
              "4 Car          31.807             3.5         200        107.3     69.9  186.6 \n",
              "5 Car          31.598             4.3         190        107.0     67.8  181.2 \n",
              "6 Car          29.299             3.3         170        106.3     71.7  182.6 \n",
              "  Curb_weight Fuel_capacity Fuel_efficiency Latest_Launch Power_perf_factor\n",
              "1 5.115       25.4          15              9/25/2011     102.52898        \n",
              "2 4.808       26.0          16              9/14/2012     100.02480        \n",
              "3 3.876       21.0          19              4/25/2012      87.63550        \n",
              "4 4.520       24.3          18              1/17/2012      83.92082        \n",
              "5 4.068       17.5          19              9/21/2011      80.51167        \n",
              "6 3.947       21.0          19              9/25/2011      72.29036        \n",
              "  Date_Column\n",
              "1 <NA>       \n",
              "2 <NA>       \n",
              "3 <NA>       \n",
              "4 <NA>       \n",
              "5 <NA>       \n",
              "6 <NA>       "
            ]
          },
          "metadata": {}
        }
      ]
    },
    {
      "cell_type": "code",
      "source": [
        "head(vechical %>% arrange(desc(Sales_in_thousands)))"
      ],
      "metadata": {
        "colab": {
          "base_uri": "https://localhost:8080/",
          "height": 341
        },
        "id": "prfJQrYhliGD",
        "outputId": "d1903d2f-9363-4c72-f2fc-f462671363d6"
      },
      "execution_count": null,
      "outputs": [
        {
          "output_type": "display_data",
          "data": {
            "text/html": [
              "<table class=\"dataframe\">\n",
              "<caption>A data.frame: 6 × 17</caption>\n",
              "<thead>\n",
              "\t<tr><th></th><th scope=col>Manufacturer</th><th scope=col>Model</th><th scope=col>Sales_in_thousands</th><th scope=col>X__year_resale_value</th><th scope=col>Vehicle_type</th><th scope=col>Price_in_thousands</th><th scope=col>Engine_size</th><th scope=col>Horsepower</th><th scope=col>Wheelbase</th><th scope=col>Width</th><th scope=col>Length</th><th scope=col>Curb_weight</th><th scope=col>Fuel_capacity</th><th scope=col>Fuel_efficiency</th><th scope=col>Latest_Launch</th><th scope=col>Power_perf_factor</th><th scope=col>Date_Column</th></tr>\n",
              "\t<tr><th></th><th scope=col>&lt;chr&gt;</th><th scope=col>&lt;chr&gt;</th><th scope=col>&lt;dbl&gt;</th><th scope=col>&lt;dbl&gt;</th><th scope=col>&lt;chr&gt;</th><th scope=col>&lt;dbl&gt;</th><th scope=col>&lt;dbl&gt;</th><th scope=col>&lt;int&gt;</th><th scope=col>&lt;dbl&gt;</th><th scope=col>&lt;dbl&gt;</th><th scope=col>&lt;dbl&gt;</th><th scope=col>&lt;dbl&gt;</th><th scope=col>&lt;dbl&gt;</th><th scope=col>&lt;int&gt;</th><th scope=col>&lt;chr&gt;</th><th scope=col>&lt;dbl&gt;</th><th scope=col>&lt;date&gt;</th></tr>\n",
              "</thead>\n",
              "<tbody>\n",
              "\t<tr><th scope=row>1</th><td>Ford </td><td>F-Series      </td><td>540.561</td><td>15.075</td><td>Car</td><td>26.935</td><td>4.6</td><td>220</td><td>138.5</td><td>79.1</td><td>224.5</td><td>4.241</td><td>25.1</td><td>18</td><td>8/16/2012 </td><td>89.40193</td><td>NA</td></tr>\n",
              "\t<tr><th scope=row>2</th><td>Ford </td><td>Explorer      </td><td>276.747</td><td>16.640</td><td>Car</td><td>31.930</td><td>4.0</td><td>210</td><td>111.6</td><td>70.2</td><td>190.7</td><td>3.876</td><td>21.0</td><td>19</td><td>4/25/2012 </td><td>87.63550</td><td>NA</td></tr>\n",
              "\t<tr><th scope=row>3</th><td>Dodge</td><td>Ram Pickup    </td><td>227.061</td><td>15.060</td><td>Car</td><td>19.460</td><td>5.2</td><td>230</td><td>138.7</td><td>79.3</td><td>224.2</td><td>4.470</td><td>26.0</td><td>17</td><td>03-06-2012</td><td>90.21170</td><td>3-06-20</td></tr>\n",
              "\t<tr><th scope=row>4</th><td>Ford </td><td>Ranger        </td><td>220.650</td><td> 7.850</td><td>Car</td><td>12.050</td><td>2.5</td><td>119</td><td>117.5</td><td>69.4</td><td>200.7</td><td>3.086</td><td>20.0</td><td>23</td><td>1/14/2012 </td><td>47.38953</td><td>NA</td></tr>\n",
              "\t<tr><th scope=row>5</th><td>Dodge</td><td>Caravan       </td><td>181.749</td><td>12.025</td><td>Car</td><td>19.565</td><td>2.4</td><td>150</td><td>113.3</td><td>76.8</td><td>186.3</td><td>3.533</td><td>20.0</td><td>24</td><td>09-01-2011</td><td>61.22700</td><td>9-01-20</td></tr>\n",
              "\t<tr><th scope=row>6</th><td>Jeep </td><td>Grand Cherokee</td><td>157.040</td><td>18.810</td><td>Car</td><td>26.895</td><td>4.0</td><td>195</td><td>105.9</td><td>72.3</td><td>181.5</td><td>3.880</td><td>20.5</td><td>19</td><td>12-10-2011</td><td>80.38778</td><td>12-10-20</td></tr>\n",
              "</tbody>\n",
              "</table>\n"
            ],
            "text/markdown": "\nA data.frame: 6 × 17\n\n| <!--/--> | Manufacturer &lt;chr&gt; | Model &lt;chr&gt; | Sales_in_thousands &lt;dbl&gt; | X__year_resale_value &lt;dbl&gt; | Vehicle_type &lt;chr&gt; | Price_in_thousands &lt;dbl&gt; | Engine_size &lt;dbl&gt; | Horsepower &lt;int&gt; | Wheelbase &lt;dbl&gt; | Width &lt;dbl&gt; | Length &lt;dbl&gt; | Curb_weight &lt;dbl&gt; | Fuel_capacity &lt;dbl&gt; | Fuel_efficiency &lt;int&gt; | Latest_Launch &lt;chr&gt; | Power_perf_factor &lt;dbl&gt; | Date_Column &lt;date&gt; |\n|---|---|---|---|---|---|---|---|---|---|---|---|---|---|---|---|---|---|\n| 1 | Ford  | F-Series       | 540.561 | 15.075 | Car | 26.935 | 4.6 | 220 | 138.5 | 79.1 | 224.5 | 4.241 | 25.1 | 18 | 8/16/2012  | 89.40193 | NA |\n| 2 | Ford  | Explorer       | 276.747 | 16.640 | Car | 31.930 | 4.0 | 210 | 111.6 | 70.2 | 190.7 | 3.876 | 21.0 | 19 | 4/25/2012  | 87.63550 | NA |\n| 3 | Dodge | Ram Pickup     | 227.061 | 15.060 | Car | 19.460 | 5.2 | 230 | 138.7 | 79.3 | 224.2 | 4.470 | 26.0 | 17 | 03-06-2012 | 90.21170 | 3-06-20 |\n| 4 | Ford  | Ranger         | 220.650 |  7.850 | Car | 12.050 | 2.5 | 119 | 117.5 | 69.4 | 200.7 | 3.086 | 20.0 | 23 | 1/14/2012  | 47.38953 | NA |\n| 5 | Dodge | Caravan        | 181.749 | 12.025 | Car | 19.565 | 2.4 | 150 | 113.3 | 76.8 | 186.3 | 3.533 | 20.0 | 24 | 09-01-2011 | 61.22700 | 9-01-20 |\n| 6 | Jeep  | Grand Cherokee | 157.040 | 18.810 | Car | 26.895 | 4.0 | 195 | 105.9 | 72.3 | 181.5 | 3.880 | 20.5 | 19 | 12-10-2011 | 80.38778 | 12-10-20 |\n\n",
            "text/latex": "A data.frame: 6 × 17\n\\begin{tabular}{r|lllllllllllllllll}\n  & Manufacturer & Model & Sales\\_in\\_thousands & X\\_\\_year\\_resale\\_value & Vehicle\\_type & Price\\_in\\_thousands & Engine\\_size & Horsepower & Wheelbase & Width & Length & Curb\\_weight & Fuel\\_capacity & Fuel\\_efficiency & Latest\\_Launch & Power\\_perf\\_factor & Date\\_Column\\\\\n  & <chr> & <chr> & <dbl> & <dbl> & <chr> & <dbl> & <dbl> & <int> & <dbl> & <dbl> & <dbl> & <dbl> & <dbl> & <int> & <chr> & <dbl> & <date>\\\\\n\\hline\n\t1 & Ford  & F-Series       & 540.561 & 15.075 & Car & 26.935 & 4.6 & 220 & 138.5 & 79.1 & 224.5 & 4.241 & 25.1 & 18 & 8/16/2012  & 89.40193 & NA\\\\\n\t2 & Ford  & Explorer       & 276.747 & 16.640 & Car & 31.930 & 4.0 & 210 & 111.6 & 70.2 & 190.7 & 3.876 & 21.0 & 19 & 4/25/2012  & 87.63550 & NA\\\\\n\t3 & Dodge & Ram Pickup     & 227.061 & 15.060 & Car & 19.460 & 5.2 & 230 & 138.7 & 79.3 & 224.2 & 4.470 & 26.0 & 17 & 03-06-2012 & 90.21170 & 3-06-20\\\\\n\t4 & Ford  & Ranger         & 220.650 &  7.850 & Car & 12.050 & 2.5 & 119 & 117.5 & 69.4 & 200.7 & 3.086 & 20.0 & 23 & 1/14/2012  & 47.38953 & NA\\\\\n\t5 & Dodge & Caravan        & 181.749 & 12.025 & Car & 19.565 & 2.4 & 150 & 113.3 & 76.8 & 186.3 & 3.533 & 20.0 & 24 & 09-01-2011 & 61.22700 & 9-01-20\\\\\n\t6 & Jeep  & Grand Cherokee & 157.040 & 18.810 & Car & 26.895 & 4.0 & 195 & 105.9 & 72.3 & 181.5 & 3.880 & 20.5 & 19 & 12-10-2011 & 80.38778 & 12-10-20\\\\\n\\end{tabular}\n",
            "text/plain": [
              "  Manufacturer Model          Sales_in_thousands X__year_resale_value\n",
              "1 Ford         F-Series       540.561            15.075              \n",
              "2 Ford         Explorer       276.747            16.640              \n",
              "3 Dodge        Ram Pickup     227.061            15.060              \n",
              "4 Ford         Ranger         220.650             7.850              \n",
              "5 Dodge        Caravan        181.749            12.025              \n",
              "6 Jeep         Grand Cherokee 157.040            18.810              \n",
              "  Vehicle_type Price_in_thousands Engine_size Horsepower Wheelbase Width Length\n",
              "1 Car          26.935             4.6         220        138.5     79.1  224.5 \n",
              "2 Car          31.930             4.0         210        111.6     70.2  190.7 \n",
              "3 Car          19.460             5.2         230        138.7     79.3  224.2 \n",
              "4 Car          12.050             2.5         119        117.5     69.4  200.7 \n",
              "5 Car          19.565             2.4         150        113.3     76.8  186.3 \n",
              "6 Car          26.895             4.0         195        105.9     72.3  181.5 \n",
              "  Curb_weight Fuel_capacity Fuel_efficiency Latest_Launch Power_perf_factor\n",
              "1 4.241       25.1          18              8/16/2012     89.40193         \n",
              "2 3.876       21.0          19              4/25/2012     87.63550         \n",
              "3 4.470       26.0          17              03-06-2012    90.21170         \n",
              "4 3.086       20.0          23              1/14/2012     47.38953         \n",
              "5 3.533       20.0          24              09-01-2011    61.22700         \n",
              "6 3.880       20.5          19              12-10-2011    80.38778         \n",
              "  Date_Column\n",
              "1 <NA>       \n",
              "2 <NA>       \n",
              "3 3-06-20    \n",
              "4 <NA>       \n",
              "5 9-01-20    \n",
              "6 12-10-20   "
            ]
          },
          "metadata": {}
        }
      ]
    },
    {
      "cell_type": "code",
      "source": [
        "passenger=car %>% filter(Vehicle_type == \"Passenger\")"
      ],
      "metadata": {
        "id": "Cu04ZQoPl9WI"
      },
      "execution_count": null,
      "outputs": []
    },
    {
      "cell_type": "code",
      "source": [
        "head(passenger)"
      ],
      "metadata": {
        "colab": {
          "base_uri": "https://localhost:8080/",
          "height": 306
        },
        "id": "iBSYvXa9mTrH",
        "outputId": "edaec607-b493-4a1e-8b74-52d39cb633ab"
      },
      "execution_count": null,
      "outputs": [
        {
          "output_type": "display_data",
          "data": {
            "text/html": [
              "<table class=\"dataframe\">\n",
              "<caption>A data.frame: 6 × 17</caption>\n",
              "<thead>\n",
              "\t<tr><th></th><th scope=col>Manufacturer</th><th scope=col>Model</th><th scope=col>Sales_in_thousands</th><th scope=col>X__year_resale_value</th><th scope=col>Vehicle_type</th><th scope=col>Price_in_thousands</th><th scope=col>Engine_size</th><th scope=col>Horsepower</th><th scope=col>Wheelbase</th><th scope=col>Width</th><th scope=col>Length</th><th scope=col>Curb_weight</th><th scope=col>Fuel_capacity</th><th scope=col>Fuel_efficiency</th><th scope=col>Latest_Launch</th><th scope=col>Power_perf_factor</th><th scope=col>Date_Column</th></tr>\n",
              "\t<tr><th></th><th scope=col>&lt;chr&gt;</th><th scope=col>&lt;chr&gt;</th><th scope=col>&lt;dbl&gt;</th><th scope=col>&lt;dbl&gt;</th><th scope=col>&lt;chr&gt;</th><th scope=col>&lt;dbl&gt;</th><th scope=col>&lt;dbl&gt;</th><th scope=col>&lt;int&gt;</th><th scope=col>&lt;dbl&gt;</th><th scope=col>&lt;dbl&gt;</th><th scope=col>&lt;dbl&gt;</th><th scope=col>&lt;dbl&gt;</th><th scope=col>&lt;dbl&gt;</th><th scope=col>&lt;int&gt;</th><th scope=col>&lt;chr&gt;</th><th scope=col>&lt;dbl&gt;</th><th scope=col>&lt;date&gt;</th></tr>\n",
              "</thead>\n",
              "<tbody>\n",
              "\t<tr><th scope=row>1</th><td>Acura</td><td>Integra</td><td>16.919</td><td>16.360</td><td>Passenger</td><td>21.50</td><td>1.8</td><td>140</td><td>101.2</td><td>67.3</td><td>172.4</td><td>2.639</td><td>13.2</td><td>28</td><td>02-02-2012</td><td> 58.28015</td><td>2-02-20</td></tr>\n",
              "\t<tr><th scope=row>2</th><td>Acura</td><td>TL     </td><td>39.384</td><td>19.875</td><td>Passenger</td><td>28.40</td><td>3.2</td><td>225</td><td>108.1</td><td>70.3</td><td>192.9</td><td>3.517</td><td>17.2</td><td>25</td><td>06-03-2011</td><td> 91.37078</td><td>6-03-20</td></tr>\n",
              "\t<tr><th scope=row>3</th><td>Acura</td><td>RL     </td><td> 8.588</td><td>29.725</td><td>Passenger</td><td>42.00</td><td>3.5</td><td>210</td><td>114.6</td><td>71.4</td><td>196.6</td><td>3.850</td><td>18.0</td><td>22</td><td>03-10-2011</td><td> 91.38978</td><td>3-10-20</td></tr>\n",
              "\t<tr><th scope=row>4</th><td>Audi </td><td>A4     </td><td>20.397</td><td>22.255</td><td>Passenger</td><td>23.99</td><td>1.8</td><td>150</td><td>102.6</td><td>68.2</td><td>178.0</td><td>2.998</td><td>16.4</td><td>27</td><td>10-08-2011</td><td> 62.77764</td><td>10-08-20</td></tr>\n",
              "\t<tr><th scope=row>5</th><td>Audi </td><td>A6     </td><td>18.780</td><td>23.555</td><td>Passenger</td><td>33.95</td><td>2.8</td><td>200</td><td>108.7</td><td>76.1</td><td>192.0</td><td>3.561</td><td>18.5</td><td>22</td><td>08-09-2011</td><td> 84.56511</td><td>8-09-20</td></tr>\n",
              "\t<tr><th scope=row>6</th><td>Audi </td><td>A8     </td><td> 1.380</td><td>39.000</td><td>Passenger</td><td>62.00</td><td>4.2</td><td>310</td><td>113.0</td><td>74.0</td><td>198.2</td><td>3.902</td><td>23.7</td><td>21</td><td>2/27/2012 </td><td>134.65686</td><td>NA</td></tr>\n",
              "</tbody>\n",
              "</table>\n"
            ],
            "text/markdown": "\nA data.frame: 6 × 17\n\n| <!--/--> | Manufacturer &lt;chr&gt; | Model &lt;chr&gt; | Sales_in_thousands &lt;dbl&gt; | X__year_resale_value &lt;dbl&gt; | Vehicle_type &lt;chr&gt; | Price_in_thousands &lt;dbl&gt; | Engine_size &lt;dbl&gt; | Horsepower &lt;int&gt; | Wheelbase &lt;dbl&gt; | Width &lt;dbl&gt; | Length &lt;dbl&gt; | Curb_weight &lt;dbl&gt; | Fuel_capacity &lt;dbl&gt; | Fuel_efficiency &lt;int&gt; | Latest_Launch &lt;chr&gt; | Power_perf_factor &lt;dbl&gt; | Date_Column &lt;date&gt; |\n|---|---|---|---|---|---|---|---|---|---|---|---|---|---|---|---|---|---|\n| 1 | Acura | Integra | 16.919 | 16.360 | Passenger | 21.50 | 1.8 | 140 | 101.2 | 67.3 | 172.4 | 2.639 | 13.2 | 28 | 02-02-2012 |  58.28015 | 2-02-20 |\n| 2 | Acura | TL      | 39.384 | 19.875 | Passenger | 28.40 | 3.2 | 225 | 108.1 | 70.3 | 192.9 | 3.517 | 17.2 | 25 | 06-03-2011 |  91.37078 | 6-03-20 |\n| 3 | Acura | RL      |  8.588 | 29.725 | Passenger | 42.00 | 3.5 | 210 | 114.6 | 71.4 | 196.6 | 3.850 | 18.0 | 22 | 03-10-2011 |  91.38978 | 3-10-20 |\n| 4 | Audi  | A4      | 20.397 | 22.255 | Passenger | 23.99 | 1.8 | 150 | 102.6 | 68.2 | 178.0 | 2.998 | 16.4 | 27 | 10-08-2011 |  62.77764 | 10-08-20 |\n| 5 | Audi  | A6      | 18.780 | 23.555 | Passenger | 33.95 | 2.8 | 200 | 108.7 | 76.1 | 192.0 | 3.561 | 18.5 | 22 | 08-09-2011 |  84.56511 | 8-09-20 |\n| 6 | Audi  | A8      |  1.380 | 39.000 | Passenger | 62.00 | 4.2 | 310 | 113.0 | 74.0 | 198.2 | 3.902 | 23.7 | 21 | 2/27/2012  | 134.65686 | NA |\n\n",
            "text/latex": "A data.frame: 6 × 17\n\\begin{tabular}{r|lllllllllllllllll}\n  & Manufacturer & Model & Sales\\_in\\_thousands & X\\_\\_year\\_resale\\_value & Vehicle\\_type & Price\\_in\\_thousands & Engine\\_size & Horsepower & Wheelbase & Width & Length & Curb\\_weight & Fuel\\_capacity & Fuel\\_efficiency & Latest\\_Launch & Power\\_perf\\_factor & Date\\_Column\\\\\n  & <chr> & <chr> & <dbl> & <dbl> & <chr> & <dbl> & <dbl> & <int> & <dbl> & <dbl> & <dbl> & <dbl> & <dbl> & <int> & <chr> & <dbl> & <date>\\\\\n\\hline\n\t1 & Acura & Integra & 16.919 & 16.360 & Passenger & 21.50 & 1.8 & 140 & 101.2 & 67.3 & 172.4 & 2.639 & 13.2 & 28 & 02-02-2012 &  58.28015 & 2-02-20\\\\\n\t2 & Acura & TL      & 39.384 & 19.875 & Passenger & 28.40 & 3.2 & 225 & 108.1 & 70.3 & 192.9 & 3.517 & 17.2 & 25 & 06-03-2011 &  91.37078 & 6-03-20\\\\\n\t3 & Acura & RL      &  8.588 & 29.725 & Passenger & 42.00 & 3.5 & 210 & 114.6 & 71.4 & 196.6 & 3.850 & 18.0 & 22 & 03-10-2011 &  91.38978 & 3-10-20\\\\\n\t4 & Audi  & A4      & 20.397 & 22.255 & Passenger & 23.99 & 1.8 & 150 & 102.6 & 68.2 & 178.0 & 2.998 & 16.4 & 27 & 10-08-2011 &  62.77764 & 10-08-20\\\\\n\t5 & Audi  & A6      & 18.780 & 23.555 & Passenger & 33.95 & 2.8 & 200 & 108.7 & 76.1 & 192.0 & 3.561 & 18.5 & 22 & 08-09-2011 &  84.56511 & 8-09-20\\\\\n\t6 & Audi  & A8      &  1.380 & 39.000 & Passenger & 62.00 & 4.2 & 310 & 113.0 & 74.0 & 198.2 & 3.902 & 23.7 & 21 & 2/27/2012  & 134.65686 & NA\\\\\n\\end{tabular}\n",
            "text/plain": [
              "  Manufacturer Model   Sales_in_thousands X__year_resale_value Vehicle_type\n",
              "1 Acura        Integra 16.919             16.360               Passenger   \n",
              "2 Acura        TL      39.384             19.875               Passenger   \n",
              "3 Acura        RL       8.588             29.725               Passenger   \n",
              "4 Audi         A4      20.397             22.255               Passenger   \n",
              "5 Audi         A6      18.780             23.555               Passenger   \n",
              "6 Audi         A8       1.380             39.000               Passenger   \n",
              "  Price_in_thousands Engine_size Horsepower Wheelbase Width Length Curb_weight\n",
              "1 21.50              1.8         140        101.2     67.3  172.4  2.639      \n",
              "2 28.40              3.2         225        108.1     70.3  192.9  3.517      \n",
              "3 42.00              3.5         210        114.6     71.4  196.6  3.850      \n",
              "4 23.99              1.8         150        102.6     68.2  178.0  2.998      \n",
              "5 33.95              2.8         200        108.7     76.1  192.0  3.561      \n",
              "6 62.00              4.2         310        113.0     74.0  198.2  3.902      \n",
              "  Fuel_capacity Fuel_efficiency Latest_Launch Power_perf_factor Date_Column\n",
              "1 13.2          28              02-02-2012     58.28015         2-02-20    \n",
              "2 17.2          25              06-03-2011     91.37078         6-03-20    \n",
              "3 18.0          22              03-10-2011     91.38978         3-10-20    \n",
              "4 16.4          27              10-08-2011     62.77764         10-08-20   \n",
              "5 18.5          22              08-09-2011     84.56511         8-09-20    \n",
              "6 23.7          21              2/27/2012     134.65686         <NA>       "
            ]
          },
          "metadata": {}
        }
      ]
    },
    {
      "cell_type": "code",
      "source": [
        "count(passenger %>% group_by(Manufacturer)) %>%\n",
        "  arrange(desc(Manufacturer))"
      ],
      "metadata": {
        "colab": {
          "base_uri": "https://localhost:8080/",
          "height": 882
        },
        "id": "183y3Z0AmXcN",
        "outputId": "972527de-0e37-4bb4-dd2e-b22c2df420cd"
      },
      "execution_count": null,
      "outputs": [
        {
          "output_type": "display_data",
          "data": {
            "text/html": [
              "<table class=\"dataframe\">\n",
              "<caption>A grouped_df: 25 × 2</caption>\n",
              "<thead>\n",
              "\t<tr><th scope=col>Manufacturer</th><th scope=col>n</th></tr>\n",
              "\t<tr><th scope=col>&lt;chr&gt;</th><th scope=col>&lt;int&gt;</th></tr>\n",
              "</thead>\n",
              "<tbody>\n",
              "\t<tr><td>Volkswagen</td><td>5</td></tr>\n",
              "\t<tr><td>Toyota    </td><td>4</td></tr>\n",
              "\t<tr><td>Saturn    </td><td>3</td></tr>\n",
              "\t<tr><td>Porsche   </td><td>3</td></tr>\n",
              "\t<tr><td>Pontiac   </td><td>5</td></tr>\n",
              "\t<tr><td>Plymouth  </td><td>2</td></tr>\n",
              "\t<tr><td>Oldsmobile</td><td>2</td></tr>\n",
              "\t<tr><td>Nissan    </td><td>3</td></tr>\n",
              "\t<tr><td>Mitsubishi</td><td>5</td></tr>\n",
              "\t<tr><td>Mercury   </td><td>4</td></tr>\n",
              "\t<tr><td>Mercedes-B</td><td>4</td></tr>\n",
              "\t<tr><td>Lincoln   </td><td>2</td></tr>\n",
              "\t<tr><td>Lexus     </td><td>3</td></tr>\n",
              "\t<tr><td>Infiniti  </td><td>1</td></tr>\n",
              "\t<tr><td>Hyundai   </td><td>3</td></tr>\n",
              "\t<tr><td>Honda     </td><td>2</td></tr>\n",
              "\t<tr><td>Ford      </td><td>5</td></tr>\n",
              "\t<tr><td>Dodge     </td><td>4</td></tr>\n",
              "\t<tr><td>Chrysler  </td><td>5</td></tr>\n",
              "\t<tr><td>Chevrolet </td><td>8</td></tr>\n",
              "\t<tr><td>Cadillac  </td><td>3</td></tr>\n",
              "\t<tr><td>Buick     </td><td>4</td></tr>\n",
              "\t<tr><td>BMW       </td><td>2</td></tr>\n",
              "\t<tr><td>Audi      </td><td>3</td></tr>\n",
              "\t<tr><td>Acura     </td><td>3</td></tr>\n",
              "</tbody>\n",
              "</table>\n"
            ],
            "text/markdown": "\nA grouped_df: 25 × 2\n\n| Manufacturer &lt;chr&gt; | n &lt;int&gt; |\n|---|---|\n| Volkswagen | 5 |\n| Toyota     | 4 |\n| Saturn     | 3 |\n| Porsche    | 3 |\n| Pontiac    | 5 |\n| Plymouth   | 2 |\n| Oldsmobile | 2 |\n| Nissan     | 3 |\n| Mitsubishi | 5 |\n| Mercury    | 4 |\n| Mercedes-B | 4 |\n| Lincoln    | 2 |\n| Lexus      | 3 |\n| Infiniti   | 1 |\n| Hyundai    | 3 |\n| Honda      | 2 |\n| Ford       | 5 |\n| Dodge      | 4 |\n| Chrysler   | 5 |\n| Chevrolet  | 8 |\n| Cadillac   | 3 |\n| Buick      | 4 |\n| BMW        | 2 |\n| Audi       | 3 |\n| Acura      | 3 |\n\n",
            "text/latex": "A grouped\\_df: 25 × 2\n\\begin{tabular}{ll}\n Manufacturer & n\\\\\n <chr> & <int>\\\\\n\\hline\n\t Volkswagen & 5\\\\\n\t Toyota     & 4\\\\\n\t Saturn     & 3\\\\\n\t Porsche    & 3\\\\\n\t Pontiac    & 5\\\\\n\t Plymouth   & 2\\\\\n\t Oldsmobile & 2\\\\\n\t Nissan     & 3\\\\\n\t Mitsubishi & 5\\\\\n\t Mercury    & 4\\\\\n\t Mercedes-B & 4\\\\\n\t Lincoln    & 2\\\\\n\t Lexus      & 3\\\\\n\t Infiniti   & 1\\\\\n\t Hyundai    & 3\\\\\n\t Honda      & 2\\\\\n\t Ford       & 5\\\\\n\t Dodge      & 4\\\\\n\t Chrysler   & 5\\\\\n\t Chevrolet  & 8\\\\\n\t Cadillac   & 3\\\\\n\t Buick      & 4\\\\\n\t BMW        & 2\\\\\n\t Audi       & 3\\\\\n\t Acura      & 3\\\\\n\\end{tabular}\n",
            "text/plain": [
              "   Manufacturer n\n",
              "1  Volkswagen   5\n",
              "2  Toyota       4\n",
              "3  Saturn       3\n",
              "4  Porsche      3\n",
              "5  Pontiac      5\n",
              "6  Plymouth     2\n",
              "7  Oldsmobile   2\n",
              "8  Nissan       3\n",
              "9  Mitsubishi   5\n",
              "10 Mercury      4\n",
              "11 Mercedes-B   4\n",
              "12 Lincoln      2\n",
              "13 Lexus        3\n",
              "14 Infiniti     1\n",
              "15 Hyundai      3\n",
              "16 Honda        2\n",
              "17 Ford         5\n",
              "18 Dodge        4\n",
              "19 Chrysler     5\n",
              "20 Chevrolet    8\n",
              "21 Cadillac     3\n",
              "22 Buick        4\n",
              "23 BMW          2\n",
              "24 Audi         3\n",
              "25 Acura        3"
            ]
          },
          "metadata": {}
        }
      ]
    },
    {
      "cell_type": "code",
      "source": [
        "head(passenger %>% arrange(desc(Price_in_thousands)))"
      ],
      "metadata": {
        "colab": {
          "base_uri": "https://localhost:8080/",
          "height": 376
        },
        "id": "Js4W0ihTmkpd",
        "outputId": "d1592979-646e-4293-a003-e1222627c9f3"
      },
      "execution_count": null,
      "outputs": [
        {
          "output_type": "display_data",
          "data": {
            "text/html": [
              "<table class=\"dataframe\">\n",
              "<caption>A data.frame: 6 × 17</caption>\n",
              "<thead>\n",
              "\t<tr><th></th><th scope=col>Manufacturer</th><th scope=col>Model</th><th scope=col>Sales_in_thousands</th><th scope=col>X__year_resale_value</th><th scope=col>Vehicle_type</th><th scope=col>Price_in_thousands</th><th scope=col>Engine_size</th><th scope=col>Horsepower</th><th scope=col>Wheelbase</th><th scope=col>Width</th><th scope=col>Length</th><th scope=col>Curb_weight</th><th scope=col>Fuel_capacity</th><th scope=col>Fuel_efficiency</th><th scope=col>Latest_Launch</th><th scope=col>Power_perf_factor</th><th scope=col>Date_Column</th></tr>\n",
              "\t<tr><th></th><th scope=col>&lt;chr&gt;</th><th scope=col>&lt;chr&gt;</th><th scope=col>&lt;dbl&gt;</th><th scope=col>&lt;dbl&gt;</th><th scope=col>&lt;chr&gt;</th><th scope=col>&lt;dbl&gt;</th><th scope=col>&lt;dbl&gt;</th><th scope=col>&lt;int&gt;</th><th scope=col>&lt;dbl&gt;</th><th scope=col>&lt;dbl&gt;</th><th scope=col>&lt;dbl&gt;</th><th scope=col>&lt;dbl&gt;</th><th scope=col>&lt;dbl&gt;</th><th scope=col>&lt;int&gt;</th><th scope=col>&lt;chr&gt;</th><th scope=col>&lt;dbl&gt;</th><th scope=col>&lt;date&gt;</th></tr>\n",
              "</thead>\n",
              "<tbody>\n",
              "\t<tr><th scope=row>1</th><td>Mercedes-B</td><td>SL-Class      </td><td> 3.311</td><td>58.600</td><td>Passenger</td><td>82.600</td><td>5.0</td><td>302</td><td> 99.0</td><td>71.3</td><td>177.1</td><td>4.125</td><td>21.1</td><td>20</td><td>3/17/2011 </td><td>139.9823</td><td>NA</td></tr>\n",
              "\t<tr><th scope=row>2</th><td>Porsche   </td><td>Carrera Cabrio</td><td> 1.866</td><td>67.550</td><td>Passenger</td><td>74.970</td><td>3.4</td><td>300</td><td> 92.6</td><td>69.5</td><td>174.5</td><td>3.075</td><td>17.0</td><td>23</td><td>07-11-2011</td><td>135.9147</td><td>7-11-20</td></tr>\n",
              "\t<tr><th scope=row>3</th><td>Porsche   </td><td>Carrera Coupe </td><td> 1.280</td><td>60.625</td><td>Passenger</td><td>71.020</td><td>3.4</td><td>300</td><td> 92.6</td><td>69.5</td><td>174.5</td><td>3.032</td><td>17.0</td><td>21</td><td>12/21/2012</td><td>134.3910</td><td>NA</td></tr>\n",
              "\t<tr><th scope=row>4</th><td>Dodge     </td><td>Viper         </td><td> 0.916</td><td>58.470</td><td>Passenger</td><td>69.725</td><td>8.0</td><td>450</td><td> 96.2</td><td>75.7</td><td>176.7</td><td>3.375</td><td>19.0</td><td>16</td><td>08-07-2011</td><td>188.1443</td><td>8-07-20</td></tr>\n",
              "\t<tr><th scope=row>5</th><td>Mercedes-B</td><td>S-Class       </td><td>16.774</td><td>50.375</td><td>Passenger</td><td>69.700</td><td>4.3</td><td>275</td><td>121.5</td><td>73.1</td><td>203.1</td><td>4.133</td><td>23.2</td><td>21</td><td>6/13/2011 </td><td>125.2739</td><td>NA</td></tr>\n",
              "\t<tr><th scope=row>6</th><td>Audi      </td><td>A8            </td><td> 1.380</td><td>39.000</td><td>Passenger</td><td>62.000</td><td>4.2</td><td>310</td><td>113.0</td><td>74.0</td><td>198.2</td><td>3.902</td><td>23.7</td><td>21</td><td>2/27/2012 </td><td>134.6569</td><td>NA</td></tr>\n",
              "</tbody>\n",
              "</table>\n"
            ],
            "text/markdown": "\nA data.frame: 6 × 17\n\n| <!--/--> | Manufacturer &lt;chr&gt; | Model &lt;chr&gt; | Sales_in_thousands &lt;dbl&gt; | X__year_resale_value &lt;dbl&gt; | Vehicle_type &lt;chr&gt; | Price_in_thousands &lt;dbl&gt; | Engine_size &lt;dbl&gt; | Horsepower &lt;int&gt; | Wheelbase &lt;dbl&gt; | Width &lt;dbl&gt; | Length &lt;dbl&gt; | Curb_weight &lt;dbl&gt; | Fuel_capacity &lt;dbl&gt; | Fuel_efficiency &lt;int&gt; | Latest_Launch &lt;chr&gt; | Power_perf_factor &lt;dbl&gt; | Date_Column &lt;date&gt; |\n|---|---|---|---|---|---|---|---|---|---|---|---|---|---|---|---|---|---|\n| 1 | Mercedes-B | SL-Class       |  3.311 | 58.600 | Passenger | 82.600 | 5.0 | 302 |  99.0 | 71.3 | 177.1 | 4.125 | 21.1 | 20 | 3/17/2011  | 139.9823 | NA |\n| 2 | Porsche    | Carrera Cabrio |  1.866 | 67.550 | Passenger | 74.970 | 3.4 | 300 |  92.6 | 69.5 | 174.5 | 3.075 | 17.0 | 23 | 07-11-2011 | 135.9147 | 7-11-20 |\n| 3 | Porsche    | Carrera Coupe  |  1.280 | 60.625 | Passenger | 71.020 | 3.4 | 300 |  92.6 | 69.5 | 174.5 | 3.032 | 17.0 | 21 | 12/21/2012 | 134.3910 | NA |\n| 4 | Dodge      | Viper          |  0.916 | 58.470 | Passenger | 69.725 | 8.0 | 450 |  96.2 | 75.7 | 176.7 | 3.375 | 19.0 | 16 | 08-07-2011 | 188.1443 | 8-07-20 |\n| 5 | Mercedes-B | S-Class        | 16.774 | 50.375 | Passenger | 69.700 | 4.3 | 275 | 121.5 | 73.1 | 203.1 | 4.133 | 23.2 | 21 | 6/13/2011  | 125.2739 | NA |\n| 6 | Audi       | A8             |  1.380 | 39.000 | Passenger | 62.000 | 4.2 | 310 | 113.0 | 74.0 | 198.2 | 3.902 | 23.7 | 21 | 2/27/2012  | 134.6569 | NA |\n\n",
            "text/latex": "A data.frame: 6 × 17\n\\begin{tabular}{r|lllllllllllllllll}\n  & Manufacturer & Model & Sales\\_in\\_thousands & X\\_\\_year\\_resale\\_value & Vehicle\\_type & Price\\_in\\_thousands & Engine\\_size & Horsepower & Wheelbase & Width & Length & Curb\\_weight & Fuel\\_capacity & Fuel\\_efficiency & Latest\\_Launch & Power\\_perf\\_factor & Date\\_Column\\\\\n  & <chr> & <chr> & <dbl> & <dbl> & <chr> & <dbl> & <dbl> & <int> & <dbl> & <dbl> & <dbl> & <dbl> & <dbl> & <int> & <chr> & <dbl> & <date>\\\\\n\\hline\n\t1 & Mercedes-B & SL-Class       &  3.311 & 58.600 & Passenger & 82.600 & 5.0 & 302 &  99.0 & 71.3 & 177.1 & 4.125 & 21.1 & 20 & 3/17/2011  & 139.9823 & NA\\\\\n\t2 & Porsche    & Carrera Cabrio &  1.866 & 67.550 & Passenger & 74.970 & 3.4 & 300 &  92.6 & 69.5 & 174.5 & 3.075 & 17.0 & 23 & 07-11-2011 & 135.9147 & 7-11-20\\\\\n\t3 & Porsche    & Carrera Coupe  &  1.280 & 60.625 & Passenger & 71.020 & 3.4 & 300 &  92.6 & 69.5 & 174.5 & 3.032 & 17.0 & 21 & 12/21/2012 & 134.3910 & NA\\\\\n\t4 & Dodge      & Viper          &  0.916 & 58.470 & Passenger & 69.725 & 8.0 & 450 &  96.2 & 75.7 & 176.7 & 3.375 & 19.0 & 16 & 08-07-2011 & 188.1443 & 8-07-20\\\\\n\t5 & Mercedes-B & S-Class        & 16.774 & 50.375 & Passenger & 69.700 & 4.3 & 275 & 121.5 & 73.1 & 203.1 & 4.133 & 23.2 & 21 & 6/13/2011  & 125.2739 & NA\\\\\n\t6 & Audi       & A8             &  1.380 & 39.000 & Passenger & 62.000 & 4.2 & 310 & 113.0 & 74.0 & 198.2 & 3.902 & 23.7 & 21 & 2/27/2012  & 134.6569 & NA\\\\\n\\end{tabular}\n",
            "text/plain": [
              "  Manufacturer Model          Sales_in_thousands X__year_resale_value\n",
              "1 Mercedes-B   SL-Class        3.311             58.600              \n",
              "2 Porsche      Carrera Cabrio  1.866             67.550              \n",
              "3 Porsche      Carrera Coupe   1.280             60.625              \n",
              "4 Dodge        Viper           0.916             58.470              \n",
              "5 Mercedes-B   S-Class        16.774             50.375              \n",
              "6 Audi         A8              1.380             39.000              \n",
              "  Vehicle_type Price_in_thousands Engine_size Horsepower Wheelbase Width Length\n",
              "1 Passenger    82.600             5.0         302         99.0     71.3  177.1 \n",
              "2 Passenger    74.970             3.4         300         92.6     69.5  174.5 \n",
              "3 Passenger    71.020             3.4         300         92.6     69.5  174.5 \n",
              "4 Passenger    69.725             8.0         450         96.2     75.7  176.7 \n",
              "5 Passenger    69.700             4.3         275        121.5     73.1  203.1 \n",
              "6 Passenger    62.000             4.2         310        113.0     74.0  198.2 \n",
              "  Curb_weight Fuel_capacity Fuel_efficiency Latest_Launch Power_perf_factor\n",
              "1 4.125       21.1          20              3/17/2011     139.9823         \n",
              "2 3.075       17.0          23              07-11-2011    135.9147         \n",
              "3 3.032       17.0          21              12/21/2012    134.3910         \n",
              "4 3.375       19.0          16              08-07-2011    188.1443         \n",
              "5 4.133       23.2          21              6/13/2011     125.2739         \n",
              "6 3.902       23.7          21              2/27/2012     134.6569         \n",
              "  Date_Column\n",
              "1 <NA>       \n",
              "2 7-11-20    \n",
              "3 <NA>       \n",
              "4 8-07-20    \n",
              "5 <NA>       \n",
              "6 <NA>       "
            ]
          },
          "metadata": {}
        }
      ]
    },
    {
      "cell_type": "code",
      "source": [],
      "metadata": {
        "id": "MxzlXjfAmy_y"
      },
      "execution_count": null,
      "outputs": []
    },
    {
      "cell_type": "code",
      "source": [],
      "metadata": {
        "id": "SDUTYLGH8vNl"
      },
      "execution_count": null,
      "outputs": []
    }
  ]
}